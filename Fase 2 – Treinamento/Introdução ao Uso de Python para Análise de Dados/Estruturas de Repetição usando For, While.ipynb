{
 "cells": [
  {
   "cell_type": "code",
   "execution_count": 8,
   "id": "b17c863c",
   "metadata": {},
   "outputs": [
    {
     "name": "stdout",
     "output_type": "stream",
     "text": [
      "João\n",
      "Paulo\n",
      "Tiago\n",
      "Bárbara\n",
      "Manuela\n",
      "Rogério\n"
     ]
    }
   ],
   "source": [
    "#Exempplo I - Exibindo os nomes das pessoas que estão em uma lista\n",
    "Nomes=[\"João\", \"Paulo\", \"Tiago\",\"Bárbara\", \"Manuela\", \"Rogério\" ]\n",
    "for n in Nomes:\n",
    "    print(n)"
   ]
  },
  {
   "cell_type": "code",
   "execution_count": 9,
   "id": "29dfe3fe",
   "metadata": {},
   "outputs": [
    {
     "name": "stdout",
     "output_type": "stream",
     "text": [
      "M\n",
      "a\n",
      "r\n",
      "c\n",
      "e\n",
      "l\n",
      "o\n"
     ]
    }
   ],
   "source": [
    "#Exemplo II - Exibindo as letras do meu nome \n",
    "for y in \"Marcelo\":\n",
    "    print(y)"
   ]
  },
  {
   "cell_type": "code",
   "execution_count": 10,
   "id": "27856675",
   "metadata": {},
   "outputs": [
    {
     "name": "stdout",
     "output_type": "stream",
     "text": [
      "Python I: 7\n",
      "Python II: 8.5\n",
      "Estatística I: 7\n",
      "Estatística II: 7\n"
     ]
    }
   ],
   "source": [
    "#Exemplo III - Exibindo as notas das disciplinas presentes em um dicionário\n",
    "notas_curso = {\n",
    "    'Python I': 7, \n",
    "    'Python II': 8.5, \n",
    "    'Estatística I': 7, \n",
    "    'Estatística II': 7\n",
    "}\n",
    "\n",
    "for chave, valor in notas_curso.items():\n",
    "    print(f\"{chave}: {valor}\")\n"
   ]
  },
  {
   "cell_type": "code",
   "execution_count": 12,
   "id": "12d8e4a4",
   "metadata": {},
   "outputs": [
    {
     "name": "stdout",
     "output_type": "stream",
     "text": [
      "0\n",
      "1\n",
      "2\n",
      "3\n",
      "4\n"
     ]
    }
   ],
   "source": [
    "#Exemplo IV - Exibindo sequências numéricas\n",
    "for sequencia in range(5):\n",
    "    print(sequencia)"
   ]
  },
  {
   "cell_type": "code",
   "execution_count": 13,
   "id": "8e47249c",
   "metadata": {},
   "outputs": [
    {
     "name": "stdout",
     "output_type": "stream",
     "text": [
      "5\n",
      "6\n",
      "7\n"
     ]
    }
   ],
   "source": [
    "#Exemplo V - Exibindo sequências numéricas\n",
    "for sequencia in range(5,8):\n",
    "    print(sequencia)"
   ]
  },
  {
   "cell_type": "code",
   "execution_count": 17,
   "id": "9931158d",
   "metadata": {},
   "outputs": [
    {
     "name": "stdout",
     "output_type": "stream",
     "text": [
      "3\n",
      "2\n",
      "1\n"
     ]
    }
   ],
   "source": [
    "#Exemplo VI - Exibindo sequências numéricas\n",
    "for sequencia in range(3,0,-1):\n",
    "    print(sequencia)"
   ]
  },
  {
   "cell_type": "code",
   "execution_count": 18,
   "id": "714ed144",
   "metadata": {},
   "outputs": [
    {
     "name": "stdout",
     "output_type": "stream",
     "text": [
      "O número 1 é ímpar\n",
      "O número 3 é ímpar\n",
      "O número 5 é ímpar\n",
      "O número 7 é ímpar\n",
      "O número 9 é ímpar\n",
      "O número 11 é ímpar\n",
      "O número 13 é ímpar\n"
     ]
    }
   ],
   "source": [
    "#Exemplo VII - Exibindo somente números ímpares de uma sequência\n",
    "for numero in range(15):\n",
    "    if numero % 2 != 0:\n",
    "        print(\"O número\", numero, \"é ímpar\")"
   ]
  },
  {
   "cell_type": "code",
   "execution_count": 21,
   "id": "f3144294",
   "metadata": {},
   "outputs": [
    {
     "name": "stdout",
     "output_type": "stream",
     "text": [
      "Número é 0\n",
      "Número é 1\n",
      "Número é 2\n",
      "Número é 3\n",
      "Número é 4\n",
      "Fora do loop\n"
     ]
    }
   ],
   "source": [
    "#Exemplo VIII - Usando a instrução break dentro do for\n",
    "num = 0\n",
    "for num in range(10):\n",
    "    if num == 5:\n",
    "        break    # Para aqui\n",
    "    print('Número é ' + str(num))\n",
    "print('Fora do loop')"
   ]
  },
  {
   "cell_type": "code",
   "execution_count": 23,
   "id": "bf6cffc0",
   "metadata": {},
   "outputs": [
    {
     "name": "stdout",
     "output_type": "stream",
     "text": [
      "Número é 0\n",
      "Número é 1\n",
      "Número é 2\n",
      "Número é 3\n",
      "Número é 4\n",
      "Número é 6\n",
      "Número é 7\n",
      "Número é 8\n",
      "Número é 9\n",
      "Fora do loop\n"
     ]
    }
   ],
   "source": [
    "#Exemplo IX - Usando a instrução continue dentro do for\n",
    "num = 0\n",
    "for num in range(10):\n",
    "    if num == 5:\n",
    "        continue    # continua aqui\n",
    "    print('Número é ' + str(num))\n",
    "print('Fora do loop')"
   ]
  },
  {
   "cell_type": "code",
   "execution_count": 26,
   "id": "89e4ebf7",
   "metadata": {},
   "outputs": [
    {
     "name": "stdout",
     "output_type": "stream",
     "text": [
      "1\n",
      "2\n",
      "3\n",
      "4\n"
     ]
    }
   ],
   "source": [
    "#Exemplo X - Uso do while \n",
    "i = 1\n",
    "while (i <= 4):\n",
    "    print(i)\n",
    "    i += 1"
   ]
  },
  {
   "cell_type": "code",
   "execution_count": 2,
   "id": "9cb931a3",
   "metadata": {},
   "outputs": [
    {
     "name": "stdout",
     "output_type": "stream",
     "text": [
      "O dia da semana que corresponde a posição 2 da lista dias_semana é: Wednesday\n"
     ]
    }
   ],
   "source": [
    "#Exemplo XI - Uso do while \n",
    "day_week = ['Monday', 'Tuesday', 'Wednesday']\n",
    "i = 0\n",
    "while day_week:\n",
    "    if i == 2:\n",
    "        print(\"O dia da semana que corresponde a posição\", i, \"da lista dias_semana é:\", day_week[i])\n",
    "        break\n",
    "    i += 1"
   ]
  },
  {
   "cell_type": "code",
   "execution_count": 33,
   "id": "55980216",
   "metadata": {},
   "outputs": [
    {
     "name": "stdout",
     "output_type": "stream",
     "text": [
      "Digite um inteiro maior que 1: 5\n",
      "1\n",
      "2\n",
      "3\n",
      "4\n",
      "5\n"
     ]
    }
   ],
   "source": [
    "#Exemplo XII - Uso do while\n",
    "numero=1\n",
    "max = int(input(\"Digite um inteiro maior que 1: \") )\n",
    "\n",
    "while numero <= max:\n",
    "    print(numero)\n",
    "    numero += 1"
   ]
  },
  {
   "cell_type": "code",
   "execution_count": 4,
   "id": "1b92539f",
   "metadata": {},
   "outputs": [
    {
     "ename": "KeyboardInterrupt",
     "evalue": "Interrupted by user",
     "output_type": "error",
     "traceback": [
      "\u001b[1;31m---------------------------------------------------------------------------\u001b[0m",
      "\u001b[1;31mKeyboardInterrupt\u001b[0m                         Traceback (most recent call last)",
      "\u001b[1;32m~\\AppData\\Local\\Temp/ipykernel_11368/3355516469.py\u001b[0m in \u001b[0;36m<module>\u001b[1;34m\u001b[0m\n\u001b[0;32m      2\u001b[0m \u001b[0msair\u001b[0m \u001b[1;33m=\u001b[0m \u001b[1;32mFalse\u001b[0m\u001b[1;33m\u001b[0m\u001b[1;33m\u001b[0m\u001b[0m\n\u001b[0;32m      3\u001b[0m \u001b[1;32mwhile\u001b[0m \u001b[1;32mnot\u001b[0m \u001b[0msair\u001b[0m\u001b[1;33m:\u001b[0m\u001b[1;33m\u001b[0m\u001b[1;33m\u001b[0m\u001b[0m\n\u001b[1;32m----> 4\u001b[1;33m     \u001b[0mcomando\u001b[0m \u001b[1;33m=\u001b[0m \u001b[0minput\u001b[0m\u001b[1;33m(\u001b[0m\u001b[1;34m'Digite alguma coisa:'\u001b[0m\u001b[1;33m)\u001b[0m\u001b[1;33m\u001b[0m\u001b[1;33m\u001b[0m\u001b[0m\n\u001b[0m\u001b[0;32m      5\u001b[0m     \u001b[0mprint\u001b[0m\u001b[1;33m(\u001b[0m\u001b[0mcomando\u001b[0m\u001b[1;33m)\u001b[0m\u001b[1;33m\u001b[0m\u001b[1;33m\u001b[0m\u001b[0m\n\u001b[0;32m      6\u001b[0m     \u001b[1;32mif\u001b[0m \u001b[0mcomando\u001b[0m \u001b[1;33m==\u001b[0m \u001b[1;34m'sair'\u001b[0m\u001b[1;33m:\u001b[0m\u001b[1;33m\u001b[0m\u001b[1;33m\u001b[0m\u001b[0m\n",
      "\u001b[1;32m~\\anaconda3\\lib\\site-packages\\ipykernel\\kernelbase.py\u001b[0m in \u001b[0;36mraw_input\u001b[1;34m(self, prompt)\u001b[0m\n\u001b[0;32m   1004\u001b[0m                 \u001b[1;34m\"raw_input was called, but this frontend does not support input requests.\"\u001b[0m\u001b[1;33m\u001b[0m\u001b[1;33m\u001b[0m\u001b[0m\n\u001b[0;32m   1005\u001b[0m             )\n\u001b[1;32m-> 1006\u001b[1;33m         return self._input_request(\n\u001b[0m\u001b[0;32m   1007\u001b[0m             \u001b[0mstr\u001b[0m\u001b[1;33m(\u001b[0m\u001b[0mprompt\u001b[0m\u001b[1;33m)\u001b[0m\u001b[1;33m,\u001b[0m\u001b[1;33m\u001b[0m\u001b[1;33m\u001b[0m\u001b[0m\n\u001b[0;32m   1008\u001b[0m             \u001b[0mself\u001b[0m\u001b[1;33m.\u001b[0m\u001b[0m_parent_ident\u001b[0m\u001b[1;33m[\u001b[0m\u001b[1;34m\"shell\"\u001b[0m\u001b[1;33m]\u001b[0m\u001b[1;33m,\u001b[0m\u001b[1;33m\u001b[0m\u001b[1;33m\u001b[0m\u001b[0m\n",
      "\u001b[1;32m~\\anaconda3\\lib\\site-packages\\ipykernel\\kernelbase.py\u001b[0m in \u001b[0;36m_input_request\u001b[1;34m(self, prompt, ident, parent, password)\u001b[0m\n\u001b[0;32m   1049\u001b[0m             \u001b[1;32mexcept\u001b[0m \u001b[0mKeyboardInterrupt\u001b[0m\u001b[1;33m:\u001b[0m\u001b[1;33m\u001b[0m\u001b[1;33m\u001b[0m\u001b[0m\n\u001b[0;32m   1050\u001b[0m                 \u001b[1;31m# re-raise KeyboardInterrupt, to truncate traceback\u001b[0m\u001b[1;33m\u001b[0m\u001b[1;33m\u001b[0m\u001b[0m\n\u001b[1;32m-> 1051\u001b[1;33m                 \u001b[1;32mraise\u001b[0m \u001b[0mKeyboardInterrupt\u001b[0m\u001b[1;33m(\u001b[0m\u001b[1;34m\"Interrupted by user\"\u001b[0m\u001b[1;33m)\u001b[0m \u001b[1;32mfrom\u001b[0m \u001b[1;32mNone\u001b[0m\u001b[1;33m\u001b[0m\u001b[1;33m\u001b[0m\u001b[0m\n\u001b[0m\u001b[0;32m   1052\u001b[0m             \u001b[1;32mexcept\u001b[0m \u001b[0mException\u001b[0m\u001b[1;33m:\u001b[0m\u001b[1;33m\u001b[0m\u001b[1;33m\u001b[0m\u001b[0m\n\u001b[0;32m   1053\u001b[0m                 \u001b[0mself\u001b[0m\u001b[1;33m.\u001b[0m\u001b[0mlog\u001b[0m\u001b[1;33m.\u001b[0m\u001b[0mwarning\u001b[0m\u001b[1;33m(\u001b[0m\u001b[1;34m\"Invalid Message:\"\u001b[0m\u001b[1;33m,\u001b[0m \u001b[0mexc_info\u001b[0m\u001b[1;33m=\u001b[0m\u001b[1;32mTrue\u001b[0m\u001b[1;33m)\u001b[0m\u001b[1;33m\u001b[0m\u001b[1;33m\u001b[0m\u001b[0m\n",
      "\u001b[1;31mKeyboardInterrupt\u001b[0m: Interrupted by user"
     ]
    }
   ],
   "source": [
    "#Exemplo XIII - Uso do While\n",
    "sair = False\n",
    "while not sair:\n",
    "    comando = input('Digite alguma coisa:')\n",
    "    print(comando)\n",
    "    if comando == 'sair':\n",
    "        sair = True\n",
    "print('Saiu do loop.')"
   ]
  },
  {
   "cell_type": "code",
   "execution_count": null,
   "id": "5d210863",
   "metadata": {},
   "outputs": [],
   "source": []
  },
  {
   "cell_type": "code",
   "execution_count": null,
   "id": "b98f30d8",
   "metadata": {},
   "outputs": [],
   "source": []
  }
 ],
 "metadata": {
  "kernelspec": {
   "display_name": "Python 3",
   "language": "python",
   "name": "python3"
  },
  "language_info": {
   "codemirror_mode": {
    "name": "ipython",
    "version": 3
   },
   "file_extension": ".py",
   "mimetype": "text/x-python",
   "name": "python",
   "nbconvert_exporter": "python",
   "pygments_lexer": "ipython3",
   "version": "3.8.8"
  }
 },
 "nbformat": 4,
 "nbformat_minor": 5
}
