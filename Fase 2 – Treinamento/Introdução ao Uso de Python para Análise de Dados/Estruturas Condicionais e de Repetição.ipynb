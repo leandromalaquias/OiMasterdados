{
 "cells": [
  {
   "cell_type": "code",
   "execution_count": 2,
   "id": "d50eb93a",
   "metadata": {},
   "outputs": [
    {
     "name": "stdout",
     "output_type": "stream",
     "text": [
      "Você foi aprovado\n"
     ]
    }
   ],
   "source": [
    "#Exemplo I - Uso de if\n",
    "média = 7.14\n",
    "if média >=7:\n",
    "    print (\"Você foi aprovado\")"
   ]
  },
  {
   "cell_type": "code",
   "execution_count": 5,
   "id": "de74e8f1",
   "metadata": {},
   "outputs": [
    {
     "name": "stdout",
     "output_type": "stream",
     "text": [
      "Maior que zero\n"
     ]
    }
   ],
   "source": [
    "#xemplo II - Uso de if\n",
    "soma=0.12\n",
    "if soma>0:\n",
    "    print ('Maior que zero')"
   ]
  },
  {
   "cell_type": "code",
   "execution_count": 6,
   "id": "4bdebd30",
   "metadata": {},
   "outputs": [],
   "source": [
    "#Exemplo III - Uso de if\n",
    "soma=-0.12\n",
    "if soma>0:\n",
    "    print ('Maior que zero')"
   ]
  },
  {
   "cell_type": "code",
   "execution_count": 7,
   "id": "651129df",
   "metadata": {},
   "outputs": [
    {
     "name": "stdout",
     "output_type": "stream",
     "text": [
      "Menor ou igual a zero\n"
     ]
    }
   ],
   "source": [
    "#Exemplo IV - Uso de if...else\n",
    "soma=-0.12\n",
    "if soma>0:\n",
    "    print ('Maior que zero')\n",
    "else:\n",
    "    print(\"Menor ou igual a zero\")"
   ]
  },
  {
   "cell_type": "code",
   "execution_count": 10,
   "id": "93edb242",
   "metadata": {},
   "outputs": [
    {
     "name": "stdout",
     "output_type": "stream",
     "text": [
      "Igual a Zero\n"
     ]
    }
   ],
   "source": [
    "#Exemplo V - Uso de elif\n",
    "soma=14\n",
    "if soma > 0:\n",
    "     print (\"Maior que Zero\")\n",
    "elif soma == 0:\n",
    "     print (\"Igual a Zero\")\n",
    "else:\n",
    "     print (\"Menor que Zero\")"
   ]
  },
  {
   "cell_type": "code",
   "execution_count": 11,
   "id": "f025a8f3",
   "metadata": {},
   "outputs": [
    {
     "name": "stdout",
     "output_type": "stream",
     "text": [
      "Informe um número entre 0 e 100: 55\n",
      "O número  55  é maior que 50\n"
     ]
    }
   ],
   "source": [
    "#Exemplo VI - Uso de elif com entrada de dados\n",
    "entrada = int(input(\"Informe um número entre 0 e 100: \"))\n",
    "if entrada > 50:\n",
    "    print (\"O número \", entrada, \" é maior que 50\")\n",
    "elif entrada == 50:\n",
    "    print (\"O número informado é igual a 50\")\n",
    "else:\n",
    "    print (\"O número \", entrada, \" é menor que 50\")"
   ]
  },
  {
   "cell_type": "code",
   "execution_count": null,
   "id": "35c973b1",
   "metadata": {},
   "outputs": [],
   "source": [
    "#Exemplo VII - Uso de elif com operador de associação in\n",
    "UF=\"SP\"\n",
    "if UF in (\"PR\", \"SC\", \"RS\"):\n",
    "    print (\"Sul\")\n",
    "elif UF in (\"SP\", \"RJ\", \"MG\", \"ES\"):\n",
    "    print (\"Sudeste\")\n",
    "elif UF in (\"DF\", \"MT\", \"MS\", \"GO\"):\n",
    "    print (\"Centro-Oeste\")\n",
    "elif UF in (\"AC\", \"AM\", \"AP\",\"RO\", \"RR\", \"PA\", \"TO\"):\n",
    "    print (\"Norte\")\n",
    "elif UF in (\"MA\", \"PI\", \"PE\", \"PB\", \"SE\", \"BA\", \"RN\", \"CE\", \"AL\"):\n",
    "    print (\"Nordeste\")\n",
    "else:\n",
    "    print (\"Valor inválido\")\n",
    "        "
   ]
  },
  {
   "cell_type": "code",
   "execution_count": 21,
   "id": "f0dfb236",
   "metadata": {},
   "outputs": [
    {
     "ename": "IndentationError",
     "evalue": "expected an indented block (Temp/ipykernel_1840/870775990.py, line 4)",
     "output_type": "error",
     "traceback": [
      "\u001b[1;36m  File \u001b[1;32m\"C:\\Users\\mpfag\\AppData\\Local\\Temp/ipykernel_1840/870775990.py\"\u001b[1;36m, line \u001b[1;32m4\u001b[0m\n\u001b[1;33m    print(\"valor é maior que 8\")\u001b[0m\n\u001b[1;37m    ^\u001b[0m\n\u001b[1;31mIndentationError\u001b[0m\u001b[1;31m:\u001b[0m expected an indented block\n"
     ]
    }
   ],
   "source": [
    "#Indentação de código - Exemplo I - Com problema na indentação\n",
    "valor = 10\n",
    "if valor > 8:\n",
    "print(\"valor é maior que 8\")"
   ]
  },
  {
   "cell_type": "code",
   "execution_count": 22,
   "id": "2b1a72ee",
   "metadata": {},
   "outputs": [
    {
     "name": "stdout",
     "output_type": "stream",
     "text": [
      "valor é maior que 8\n"
     ]
    }
   ],
   "source": [
    "#Indentação de código - Exemplo I - Com indentação correta\n",
    "valor = 10\n",
    "if valor > 8:\n",
    "   print(\"valor é maior que 8\")"
   ]
  },
  {
   "cell_type": "code",
   "execution_count": 23,
   "id": "cce51331",
   "metadata": {},
   "outputs": [
    {
     "ename": "IndentationError",
     "evalue": "unexpected indent (Temp/ipykernel_1840/2415197019.py, line 5)",
     "output_type": "error",
     "traceback": [
      "\u001b[1;36m  File \u001b[1;32m\"C:\\Users\\mpfag\\AppData\\Local\\Temp/ipykernel_1840/2415197019.py\"\u001b[1;36m, line \u001b[1;32m5\u001b[0m\n\u001b[1;33m    elif valor == 50:\u001b[0m\n\u001b[1;37m    ^\u001b[0m\n\u001b[1;31mIndentationError\u001b[0m\u001b[1;31m:\u001b[0m unexpected indent\n"
     ]
    }
   ],
   "source": [
    "#Indentação de código - Exemplo II - Com problema na indentação\n",
    "valor = int(input(\"Informe um número entre 0 e 1000: \"))\n",
    "if valor > 50:\n",
    "    print (\"O número \", valor, \" é maior que 500\")\n",
    "        elif valor == 50:\n",
    "            print (\"O número informado é igual a 500\")\n",
    "else:\n",
    "    print (\"O número \", valor, \" é menor que 500\")"
   ]
  },
  {
   "cell_type": "code",
   "execution_count": 25,
   "id": "ab64242b",
   "metadata": {},
   "outputs": [
    {
     "name": "stdout",
     "output_type": "stream",
     "text": [
      "Informe um número entre 0 e 1000: 499\n",
      "O número  499  é menor que 500\n"
     ]
    }
   ],
   "source": [
    "#Indentação de código - Exemplo II - Com indentação correta\n",
    "valor = int(input(\"Informe um número entre 0 e 1000: \"))\n",
    "if valor > 500:\n",
    "    print (\"O número \", valor, \" é maior que 500\")\n",
    "elif valor == 500:\n",
    "    print (\"O número informado é igual a 500\")\n",
    "else:\n",
    "    print (\"O número \", valor, \" é menor que 500\")"
   ]
  },
  {
   "cell_type": "code",
   "execution_count": null,
   "id": "2ef40b6e",
   "metadata": {},
   "outputs": [],
   "source": []
  }
 ],
 "metadata": {
  "kernelspec": {
   "display_name": "Python 3 (ipykernel)",
   "language": "python",
   "name": "python3"
  },
  "language_info": {
   "codemirror_mode": {
    "name": "ipython",
    "version": 3
   },
   "file_extension": ".py",
   "mimetype": "text/x-python",
   "name": "python",
   "nbconvert_exporter": "python",
   "pygments_lexer": "ipython3",
   "version": "3.9.7"
  }
 },
 "nbformat": 4,
 "nbformat_minor": 5
}
