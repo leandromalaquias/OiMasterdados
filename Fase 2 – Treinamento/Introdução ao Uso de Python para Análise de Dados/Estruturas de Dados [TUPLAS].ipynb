{
 "cells": [
  {
   "cell_type": "markdown",
   "id": "85e19e45",
   "metadata": {},
   "source": [
    "## Tuplas"
   ]
  },
  {
   "cell_type": "code",
   "execution_count": 1,
   "id": "f534c644",
   "metadata": {},
   "outputs": [
    {
     "name": "stdout",
     "output_type": "stream",
     "text": [
      "(1, 2, 3, 4, 5)\n"
     ]
    },
    {
     "data": {
      "text/plain": [
       "tuple"
      ]
     },
     "execution_count": 1,
     "metadata": {},
     "output_type": "execute_result"
    }
   ],
   "source": [
    "#Exemplo inicial de tupla\n",
    "tupla1=(1,2,3,4,5)\n",
    "print(tupla1)\n",
    "type(tupla1)"
   ]
  },
  {
   "cell_type": "code",
   "execution_count": null,
   "id": "98b9fba8",
   "metadata": {},
   "outputs": [],
   "source": [
    "#Métodos disponíveis para trabalhar com tuplas\n",
    "dir(tuple)"
   ]
  },
  {
   "cell_type": "code",
   "execution_count": 6,
   "id": "696f26e3",
   "metadata": {},
   "outputs": [
    {
     "name": "stdout",
     "output_type": "stream",
     "text": [
      "[('Marcelo Fernando', '166.765.876-99', '38.767.876-1')]\n"
     ]
    },
    {
     "data": {
      "text/plain": [
       "list"
      ]
     },
     "execution_count": 6,
     "metadata": {},
     "output_type": "execute_result"
    }
   ],
   "source": [
    "#Mais um exemplo de tupla\n",
    "cliente=(\"Marcelo Fernando\", \"166.765.876-99\", \"38.767.876-1\")\n",
    "type(cliente)\n",
    "clientes=[]\n",
    "clientes.append(cliente)\n",
    "print(clientes)\n",
    "type(clientes)"
   ]
  },
  {
   "cell_type": "code",
   "execution_count": null,
   "id": "b8e60d52",
   "metadata": {},
   "outputs": [],
   "source": [
    "#Incluindo mais dados de clientes\n",
    "cliente1=(\"Robson Custela Assada\", \"676.313.098-00\", \"54.314.443-1\")\n",
    "clientes.append(cliente1)\n",
    "print(clientes)\n",
    "len(clientes)"
   ]
  },
  {
   "cell_type": "code",
   "execution_count": null,
   "id": "6a1405cf",
   "metadata": {},
   "outputs": [],
   "source": []
  }
 ],
 "metadata": {
  "kernelspec": {
   "display_name": "Python 3 (ipykernel)",
   "language": "python",
   "name": "python3"
  },
  "language_info": {
   "codemirror_mode": {
    "name": "ipython",
    "version": 3
   },
   "file_extension": ".py",
   "mimetype": "text/x-python",
   "name": "python",
   "nbconvert_exporter": "python",
   "pygments_lexer": "ipython3",
   "version": "3.9.7"
  }
 },
 "nbformat": 4,
 "nbformat_minor": 5
}
