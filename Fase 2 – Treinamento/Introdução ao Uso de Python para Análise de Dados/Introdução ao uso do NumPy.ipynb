{
 "cells": [
  {
   "cell_type": "markdown",
   "id": "9f777745",
   "metadata": {},
   "source": [
    "### Primeiros passos no uso da biblioteca NumPy"
   ]
  },
  {
   "cell_type": "code",
   "execution_count": 1,
   "id": "fb77498a",
   "metadata": {},
   "outputs": [
    {
     "name": "stdout",
     "output_type": "stream",
     "text": [
      "1.20.1\n"
     ]
    }
   ],
   "source": [
    "#Importando o pacote\n",
    "import numpy as np\n",
    "#Versão do pacote\n",
    "print(np.__version__)"
   ]
  },
  {
   "cell_type": "code",
   "execution_count": 2,
   "id": "270875c1",
   "metadata": {},
   "outputs": [
    {
     "data": {
      "text/plain": [
       "numpy.ndarray"
      ]
     },
     "execution_count": 2,
     "metadata": {},
     "output_type": "execute_result"
    }
   ],
   "source": [
    "### Exemplo I - Criando os primeiros arrays no NumPy\n",
    "arr=np.array([1,2,3,4,5])\n",
    "type(arr)"
   ]
  },
  {
   "cell_type": "code",
   "execution_count": 3,
   "id": "61c97358",
   "metadata": {},
   "outputs": [
    {
     "data": {
      "text/plain": [
       "array([[1, 4, 5],\n",
       "       [7, 8, 9]])"
      ]
     },
     "execution_count": 3,
     "metadata": {},
     "output_type": "execute_result"
    }
   ],
   "source": [
    "#Exemplo II - Criando um array bidimensional\n",
    "arr2=np.array([(1,4,5),(7,8,9)])\n",
    "arr2"
   ]
  },
  {
   "cell_type": "code",
   "execution_count": 4,
   "id": "30e8a540",
   "metadata": {},
   "outputs": [
    {
     "name": "stdout",
     "output_type": "stream",
     "text": [
      "[[0. 0. 0.]\n",
      " [0. 0. 0.]\n",
      " [0. 0. 0.]\n",
      " [0. 0. 0.]]\n"
     ]
    }
   ],
   "source": [
    "#Exemplo III - Criando uma matriz cheia de zeros, com dimensão especifica\n",
    "arr = np.zeros((4,3))\n",
    "print(arr)"
   ]
  },
  {
   "cell_type": "code",
   "execution_count": 5,
   "id": "04cbed34",
   "metadata": {},
   "outputs": [
    {
     "name": "stdout",
     "output_type": "stream",
     "text": [
      "[[1. 1. 1. 1. 1. 1. 1.]\n",
      " [1. 1. 1. 1. 1. 1. 1.]\n",
      " [1. 1. 1. 1. 1. 1. 1.]\n",
      " [1. 1. 1. 1. 1. 1. 1.]]\n",
      "(4, 7)\n"
     ]
    }
   ],
   "source": [
    "#Exemplo IV - Criando uma matriz cheia de uns, com dimensão especifica\n",
    "arr=np.ones((4,7))\n",
    "print(arr)\n",
    "print(arr.shape) #Mostra a dimensão da matriz"
   ]
  },
  {
   "cell_type": "code",
   "execution_count": 6,
   "id": "20e517b0",
   "metadata": {},
   "outputs": [
    {
     "name": "stdout",
     "output_type": "stream",
     "text": [
      "[[1. 0. 0. 0. 0. 0. 0. 0.]\n",
      " [0. 1. 0. 0. 0. 0. 0. 0.]\n",
      " [0. 0. 1. 0. 0. 0. 0. 0.]\n",
      " [0. 0. 0. 1. 0. 0. 0. 0.]\n",
      " [0. 0. 0. 0. 1. 0. 0. 0.]\n",
      " [0. 0. 0. 0. 0. 1. 0. 0.]\n",
      " [0. 0. 0. 0. 0. 0. 1. 0.]\n",
      " [0. 0. 0. 0. 0. 0. 0. 1.]]\n"
     ]
    }
   ],
   "source": [
    "#Exemplo V - Criando uma matriz com uns na diagonal principal e zero no resto\n",
    "arr=np.eye(8)\n",
    "print(arr)"
   ]
  },
  {
   "cell_type": "code",
   "execution_count": 7,
   "id": "c611a11d",
   "metadata": {},
   "outputs": [
    {
     "name": "stdout",
     "output_type": "stream",
     "text": [
      "[0.  0.9 1.8 2.7 3.6 4.5 5.4 6.3 7.2 8.1 9.  9.9]\n",
      "[ 1  6 11 16 21 26 31 36 41 46]\n",
      "[ 0.   2.5  5.   7.5 10. ]\n"
     ]
    }
   ],
   "source": [
    "#Gerando arrays com sequencias de dados (estilo range)\n",
    "a=np.arange(0,10,0.9)\n",
    "print(a)\n",
    "b=np.arange(1,50,5)\n",
    "print(b)\n",
    "\n",
    "#Gerando arrays com n dados dentro de um intervalo específico\n",
    "c=np.linspace(0,10,5) # 5 números entre 0 e 10, igualmente espaçados\n",
    "print(c)"
   ]
  },
  {
   "cell_type": "code",
   "execution_count": 8,
   "id": "670e870f",
   "metadata": {},
   "outputs": [
    {
     "name": "stdout",
     "output_type": "stream",
     "text": [
      "[0 1 2 2 2 3 4 5 6 7]\n"
     ]
    }
   ],
   "source": [
    "#Ordenando arrays\n",
    "a1=np.array([3,5,2,1,6,7,2,0,4,2])\n",
    "print(np.sort(a1))"
   ]
  },
  {
   "cell_type": "code",
   "execution_count": 9,
   "id": "b061fb78",
   "metadata": {},
   "outputs": [
    {
     "name": "stdout",
     "output_type": "stream",
     "text": [
      "[[  5   9  11]\n",
      " [ -3  -4   7]\n",
      " [ 11  21 -10]]\n",
      "-10\n",
      "21\n",
      "47\n",
      "5.222222222222222\n",
      "8.929075823495307\n"
     ]
    }
   ],
   "source": [
    "#Exemplo VI - Estatísticas a partir de um array(matriz)\n",
    "matriz=np.array([(5,9,11),(-3,-4,7),(11,21,-10)])\n",
    "print(matriz)\n",
    "print(matriz.min())\n",
    "print(matriz.max())\n",
    "print(matriz.sum())\n",
    "print(matriz.mean())\n",
    "print(matriz.std())"
   ]
  },
  {
   "cell_type": "code",
   "execution_count": 10,
   "id": "f74a4acb",
   "metadata": {},
   "outputs": [
    {
     "name": "stdout",
     "output_type": "stream",
     "text": [
      "[[  5   9  11]\n",
      " [ -3  -4   7]\n",
      " [ 11  21 -10]]\n",
      "[[ 15  27  33]\n",
      " [ -9 -12  21]\n",
      " [ 33  63 -30]]\n",
      "[[ 7 11 13]\n",
      " [-1 -2  9]\n",
      " [13 23 -8]]\n"
     ]
    }
   ],
   "source": [
    "#Operações entre matrizes e um escalar\n",
    "print(matriz)\n",
    "print(3*matriz)\n",
    "print(2+matriz)"
   ]
  },
  {
   "cell_type": "code",
   "execution_count": 12,
   "id": "c155f1e2",
   "metadata": {},
   "outputs": [
    {
     "name": "stdout",
     "output_type": "stream",
     "text": [
      "[48 84 39 54 77 25 16 50 24 27]\n",
      "[4.8 8.4 3.9 5.4 7.7 2.5 1.6 5.  2.4 2.7]\n"
     ]
    }
   ],
   "source": [
    "#Gerando matrizes a partir de números aleatórios\n",
    "#Eh necessario importar um modulo chamado random (do proprio numpy)\n",
    "from numpy import random\n",
    "np.random.seed(1234)\n",
    "aleat=np.random.randint(1,100,10)\n",
    "print(aleat)\n",
    "print(aleat/10)"
   ]
  },
  {
   "cell_type": "code",
   "execution_count": 13,
   "id": "0fab8c45",
   "metadata": {},
   "outputs": [
    {
     "name": "stdout",
     "output_type": "stream",
     "text": [
      "[31 44 31 45 27 55]\n",
      "[49 29  6 17 10 48]\n",
      "[ 80  73  37  62  37 103]\n"
     ]
    }
   ],
   "source": [
    "#Operações entre arrays\n",
    "a=np.random.randint(1,60,6)\n",
    "print(a)\n",
    "b=np.random.randint(1,50,6)\n",
    "print(b)\n",
    "print(a+b)"
   ]
  },
  {
   "cell_type": "code",
   "execution_count": 14,
   "id": "ca251de0",
   "metadata": {},
   "outputs": [
    {
     "name": "stdout",
     "output_type": "stream",
     "text": [
      "[[51 49 13 38 35 39]\n",
      " [59  4 40 12  1 42]\n",
      " [12 17  4  3 20 13]]\n",
      "[[ 2 12 52 44 59 18]\n",
      " [15 52  8 43 44 47]\n",
      " [29 18 24 14 53 33]]\n",
      "[[ 102  588  676 1672 2065  702]\n",
      " [ 885  208  320  516   44 1974]\n",
      " [ 348  306   96   42 1060  429]]\n"
     ]
    }
   ],
   "source": [
    "#Operações entre arrays - A falsa mutiplicacao de matrizes\n",
    "a1=np.random.randint(1,60,[3,6])\n",
    "print(a1)\n",
    "a2=np.random.randint(1,60,[3,6])\n",
    "print(a2)\n",
    "print(a1*a2)"
   ]
  },
  {
   "cell_type": "code",
   "execution_count": 15,
   "id": "8d47e98d",
   "metadata": {},
   "outputs": [
    {
     "name": "stdout",
     "output_type": "stream",
     "text": [
      "[[6 2]\n",
      " [6 5]\n",
      " [1 9]]\n",
      "[[9 7 9]\n",
      " [7 4 2]]\n"
     ]
    },
    {
     "data": {
      "text/plain": [
       "array([[68, 50, 58],\n",
       "       [89, 62, 64],\n",
       "       [72, 43, 27]])"
      ]
     },
     "execution_count": 15,
     "metadata": {},
     "output_type": "execute_result"
    }
   ],
   "source": [
    "#A verdadeira multiplicação de matrizes\n",
    "#numero de colunas da primeira matriz tem que ser igual ao numero de linhas da segunda matriz\n",
    "a=np.random.randint(1,10,[3,2])\n",
    "print(a)\n",
    "b=np.random.randint(1,10,[2,3])\n",
    "print(b)\n",
    "#Multiplicacao das matrizes a e b (o resultado sera o nuimero de linhas de a vs o numero de colunas de b)\n",
    "a.dot(b)"
   ]
  },
  {
   "cell_type": "code",
   "execution_count": 16,
   "id": "57a741d6",
   "metadata": {},
   "outputs": [
    {
     "name": "stdout",
     "output_type": "stream",
     "text": [
      "[[9 7 9]\n",
      " [7 4 2]]\n",
      "(2, 3)\n",
      "[[9 7]\n",
      " [7 4]\n",
      " [9 2]]\n"
     ]
    }
   ],
   "source": [
    "#Transposição de arrays\n",
    "print(b)\n",
    "print(b.shape) #Tamanho da matriz\n",
    "print(b.T) #Transposição da matriz"
   ]
  },
  {
   "cell_type": "code",
   "execution_count": 17,
   "id": "d41da5a1",
   "metadata": {},
   "outputs": [
    {
     "name": "stdout",
     "output_type": "stream",
     "text": [
      "[[3 6 3 6]\n",
      " [7 8 5 4]\n",
      " [6 7 5 7]\n",
      " [3 5 3 8]]\n",
      "O Determinante da matriz A é : -23.999999999999982\n",
      "A Inversa da matriz A é : [[-1.29166667  1.125      -1.25        1.5       ]\n",
      " [ 0.41666667  0.25       -0.5         0.        ]\n",
      " [ 1.375      -1.875       2.75       -2.5       ]\n",
      " [-0.29166667  0.125      -0.25        0.5       ]]\n"
     ]
    }
   ],
   "source": [
    "#Determinante da matriz\n",
    "A=np.random.randint(1,10,[4,4])\n",
    "print(A)\n",
    "#Determinante da matriz\n",
    "print('O Determinante da matriz A é :', np.linalg.det(A)) #Muitas funções de álgebra linear estão no módulo linalg do NumPy\n",
    "#Inversa da matriz A\n",
    "print('A Inversa da matriz A é :', np.linalg.inv(A)) "
   ]
  },
  {
   "cell_type": "code",
   "execution_count": 18,
   "id": "df5f1cb2",
   "metadata": {},
   "outputs": [
    {
     "name": "stdout",
     "output_type": "stream",
     "text": [
      "[False False False False]\n",
      "[ True  True  True  True]\n",
      "[False  True  True False]\n",
      "[ True False False  True]\n",
      "False\n",
      "True\n"
     ]
    }
   ],
   "source": [
    "#Comparação entre arrays (elemento a elemento)\n",
    "a=np.array([1,4,7,10])\n",
    "b=np.array([2,1,5,11])\n",
    "print(a==b)\n",
    "print(a!=b)\n",
    "print(a>b)\n",
    "print(a<b)\n",
    "\n",
    "#Comparação entre arrays (array inteiro)\n",
    "print(np.array_equal(a,b))\n",
    "c=np.array([5,3])\n",
    "d=np.array([5,3])\n",
    "print(np.array_equal(c,d))"
   ]
  },
  {
   "cell_type": "code",
   "execution_count": 19,
   "id": "95a100c2",
   "metadata": {},
   "outputs": [
    {
     "name": "stdout",
     "output_type": "stream",
     "text": [
      "22\n",
      "5.5\n",
      "3.3541019662496847\n"
     ]
    }
   ],
   "source": [
    "#Algumas funções matemáticas presentes\n",
    "print(np.sum(a)) #Soma dos elementos do array\n",
    "print(np.mean(a)) #Média dos elementos do array\n",
    "print(np.std(a)) #Desvio padrão dos elementos do array"
   ]
  },
  {
   "cell_type": "code",
   "execution_count": 20,
   "id": "c67e0d25",
   "metadata": {},
   "outputs": [
    {
     "data": {
      "text/plain": [
       "(3, 3)"
      ]
     },
     "execution_count": 20,
     "metadata": {},
     "output_type": "execute_result"
    }
   ],
   "source": [
    "a=np.array([(3,4, 5),(5, 6, 4),(5, 3, 2)])\n",
    "a.shape"
   ]
  },
  {
   "cell_type": "code",
   "execution_count": null,
   "id": "21dcd461",
   "metadata": {},
   "outputs": [],
   "source": []
  }
 ],
 "metadata": {
  "kernelspec": {
   "display_name": "Python 3",
   "language": "python",
   "name": "python3"
  },
  "language_info": {
   "codemirror_mode": {
    "name": "ipython",
    "version": 3
   },
   "file_extension": ".py",
   "mimetype": "text/x-python",
   "name": "python",
   "nbconvert_exporter": "python",
   "pygments_lexer": "ipython3",
   "version": "3.8.8"
  }
 },
 "nbformat": 4,
 "nbformat_minor": 5
}
