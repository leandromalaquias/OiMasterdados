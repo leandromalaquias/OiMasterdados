{
 "cells": [
  {
   "cell_type": "markdown",
   "id": "df168839",
   "metadata": {},
   "source": [
    "## Conjuntos"
   ]
  },
  {
   "cell_type": "code",
   "execution_count": null,
   "id": "61973e2d",
   "metadata": {},
   "outputs": [],
   "source": [
    "#Exemplo de sets\n",
    "numeros = [1, 2, 2, 3, 3, 3,4,4,4,4,4,4,4,5]\n",
    "numeros_distintos = set(numeros)\n",
    "print(\"Números: \" , numeros)\n",
    "print(\"Números distintos: \", numeros_distintos)\n",
    "print(type(numeros))\n",
    "print(type(numeros_distintos))"
   ]
  },
  {
   "cell_type": "code",
   "execution_count": null,
   "id": "514752f4",
   "metadata": {},
   "outputs": [],
   "source": [
    "#Removendo itens de um conjunto\n",
    "numeros1=set([1,2,2,3,4])\n",
    "numeros1.remove(2)\n",
    "print(numeros1)\n",
    "numeros2=set([\"MG\", \"SC\", \"RJ\", \"SP\",\"ES\"])\n",
    "numeros2.remove(\"SC\")\n",
    "print(numeros2)\n"
   ]
  },
  {
   "cell_type": "code",
   "execution_count": null,
   "id": "b3f151ae",
   "metadata": {},
   "outputs": [],
   "source": [
    "#Removendo itens de um conjunto - ERRO NA SINTAXE\n",
    "conjunto3=set([10,20,20,30,30,40])\n",
    "conjunto3.remove(40)\n",
    "print(conjunto3)\n"
   ]
  },
  {
   "cell_type": "code",
   "execution_count": null,
   "id": "74409801",
   "metadata": {},
   "outputs": [],
   "source": [
    "#União de 2 conjuntos\n",
    "A = {0, 1, 3, 5, 7, 9,11,22}\n",
    "B = {0, 2, 4, 6, 8,19}\n",
    "C = A | B \n",
    "C1=A.union(B)\n",
    "print(C)\n",
    "print(C1)"
   ]
  },
  {
   "cell_type": "code",
   "execution_count": 13,
   "id": "4d5c9f3e",
   "metadata": {},
   "outputs": [
    {
     "name": "stdout",
     "output_type": "stream",
     "text": [
      "{0}\n",
      "{0}\n"
     ]
    }
   ],
   "source": [
    "#Intersecção de 2 conjuntos\n",
    "A = {0, 1, 3, 5, 7, 9,11,22}\n",
    "B = {0, 2, 4, 6, 8,19}\n",
    "C = A & B \n",
    "C1 = A.intersection(B)\n",
    "print(C)\n",
    "print(C1)"
   ]
  },
  {
   "cell_type": "code",
   "execution_count": null,
   "id": "7aa11a4e",
   "metadata": {},
   "outputs": [],
   "source": []
  }
 ],
 "metadata": {
  "kernelspec": {
   "display_name": "Python 3 (ipykernel)",
   "language": "python",
   "name": "python3"
  },
  "language_info": {
   "codemirror_mode": {
    "name": "ipython",
    "version": 3
   },
   "file_extension": ".py",
   "mimetype": "text/x-python",
   "name": "python",
   "nbconvert_exporter": "python",
   "pygments_lexer": "ipython3",
   "version": "3.9.7"
  }
 },
 "nbformat": 4,
 "nbformat_minor": 5
}
