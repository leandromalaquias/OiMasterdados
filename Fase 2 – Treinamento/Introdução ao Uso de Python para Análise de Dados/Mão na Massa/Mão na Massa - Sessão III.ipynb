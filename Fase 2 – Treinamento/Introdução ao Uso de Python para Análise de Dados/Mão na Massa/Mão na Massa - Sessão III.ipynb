{
 "cells": [
  {
   "cell_type": "markdown",
   "id": "7b287690",
   "metadata": {},
   "source": [
    "# Operadores de Atribuição"
   ]
  },
  {
   "cell_type": "code",
   "execution_count": 2,
   "id": "ccfc68bc",
   "metadata": {},
   "outputs": [
    {
     "name": "stdout",
     "output_type": "stream",
     "text": [
      "220\n"
     ]
    }
   ],
   "source": [
    "#Exercico B\n",
    "\n",
    "valor = 100\n",
    "valor += 120\n",
    "print(valor)"
   ]
  },
  {
   "cell_type": "code",
   "execution_count": 3,
   "id": "10d6e274",
   "metadata": {},
   "outputs": [
    {
     "name": "stdout",
     "output_type": "stream",
     "text": [
      "4.166666666666667\n"
     ]
    }
   ],
   "source": [
    "#Exercicio C\n",
    "\n",
    "valor=50\n",
    "valor/=12\n",
    "print(valor)"
   ]
  },
  {
   "cell_type": "code",
   "execution_count": 4,
   "id": "d082bd1f",
   "metadata": {},
   "outputs": [
    {
     "name": "stdout",
     "output_type": "stream",
     "text": [
      "3000\n"
     ]
    }
   ],
   "source": [
    "#Exercicio D\n",
    "\n",
    "valor=100\n",
    "valor*=30\n",
    "print(valor)"
   ]
  },
  {
   "cell_type": "code",
   "execution_count": 9,
   "id": "338b8da9",
   "metadata": {},
   "outputs": [
    {
     "data": {
      "text/plain": [
       "True"
      ]
     },
     "execution_count": 9,
     "metadata": {},
     "output_type": "execute_result"
    }
   ],
   "source": [
    "#Exercicio E\n",
    "\n",
    "valor1=50\n",
    "valor2=150\n",
    "valor1<=50 and valor2>30"
   ]
  },
  {
   "cell_type": "code",
   "execution_count": null,
   "id": "37e93777",
   "metadata": {},
   "outputs": [],
   "source": [
    "valor1=-20\n",
    "valor2=1\n"
   ]
  },
  {
   "cell_type": "markdown",
   "id": "0ec65c33",
   "metadata": {},
   "source": [
    "# Sessão 4"
   ]
  },
  {
   "cell_type": "code",
   "execution_count": null,
   "id": "a90333f4",
   "metadata": {},
   "outputs": [],
   "source": [
    "valor=500\n",
    "\n",
    "if valor > 500\n",
    "    print('Grande')"
   ]
  }
 ],
 "metadata": {
  "kernelspec": {
   "display_name": "Python 3",
   "language": "python",
   "name": "python3"
  },
  "language_info": {
   "codemirror_mode": {
    "name": "ipython",
    "version": 3
   },
   "file_extension": ".py",
   "mimetype": "text/x-python",
   "name": "python",
   "nbconvert_exporter": "python",
   "pygments_lexer": "ipython3",
   "version": "3.8.8"
  }
 },
 "nbformat": 4,
 "nbformat_minor": 5
}
