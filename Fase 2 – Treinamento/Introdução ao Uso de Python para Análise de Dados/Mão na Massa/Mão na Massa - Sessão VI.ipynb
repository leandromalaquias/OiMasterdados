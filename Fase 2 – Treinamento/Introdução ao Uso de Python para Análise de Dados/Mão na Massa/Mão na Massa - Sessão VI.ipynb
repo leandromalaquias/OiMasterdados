{
 "cells": [
  {
   "cell_type": "markdown",
   "id": "69c8b071",
   "metadata": {},
   "source": [
    "##  Realize as seguintes atividades usando um notebook Jupyter\n",
    "\n",
    "a)Use a estrutura “for” para gerar uma sequência de números pares até 20\n",
    "\n",
    "b)Use a estrutura “for” para gerar números entre 1 e 10, exceto o número 7\n",
    "\n",
    "c)Use a estrutura “while” para listar as regiões do Brasil (“Norte”, “Nordeste”, “Sul”, “Centro Oeste” e Sudeste),\n",
    "exceto a região “Centro Oeste”"
   ]
  },
  {
   "cell_type": "code",
   "execution_count": 11,
   "id": "3c2f15fc",
   "metadata": {},
   "outputs": [
    {
     "name": "stdout",
     "output_type": "stream",
     "text": [
      "0 é par\n",
      "2 é par\n",
      "4 é par\n",
      "6 é par\n",
      "8 é par\n",
      "10 é par\n",
      "12 é par\n",
      "14 é par\n",
      "16 é par\n",
      "18 é par\n",
      "20 é par\n"
     ]
    }
   ],
   "source": [
    "#Exercicio A\n",
    "\n",
    "for numero in range(21):\n",
    "    if numero % 2 != 1:\n",
    "        print(numero, 'é par')"
   ]
  },
  {
   "cell_type": "code",
   "execution_count": 22,
   "id": "7cfe3c8c",
   "metadata": {},
   "outputs": [
    {
     "name": "stdout",
     "output_type": "stream",
     "text": [
      "1\n",
      "2\n",
      "3\n",
      "4\n",
      "5\n",
      "6\n",
      "8\n",
      "9\n",
      "10\n"
     ]
    }
   ],
   "source": [
    "#Exercicio B\n",
    "\n",
    "num = 1\n",
    "for num in range(1,11):\n",
    "    if num == 7:\n",
    "        continue\n",
    "    print(num)"
   ]
  },
  {
   "cell_type": "code",
   "execution_count": null,
   "id": "586ceaf9",
   "metadata": {},
   "outputs": [],
   "source": [
    "#Exercicio C\n",
    "\n",
    "region = [\"Norte\",\"Nordeste\",\"Sul\",\"Centro Oeste\",\"Sudeste\"]\n",
    "i = 0\n",
    "while region:\n",
    "    if i % 3 >= 4:\n",
    "        print(i, region[i])\n",
    "        break\n",
    "    i += 1"
   ]
  },
  {
   "cell_type": "code",
   "execution_count": null,
   "id": "7ffc5952",
   "metadata": {},
   "outputs": [],
   "source": []
  },
  {
   "cell_type": "code",
   "execution_count": null,
   "id": "e65affaf",
   "metadata": {},
   "outputs": [],
   "source": []
  }
 ],
 "metadata": {
  "kernelspec": {
   "display_name": "Python 3",
   "language": "python",
   "name": "python3"
  },
  "language_info": {
   "codemirror_mode": {
    "name": "ipython",
    "version": 3
   },
   "file_extension": ".py",
   "mimetype": "text/x-python",
   "name": "python",
   "nbconvert_exporter": "python",
   "pygments_lexer": "ipython3",
   "version": "3.8.8"
  }
 },
 "nbformat": 4,
 "nbformat_minor": 5
}
