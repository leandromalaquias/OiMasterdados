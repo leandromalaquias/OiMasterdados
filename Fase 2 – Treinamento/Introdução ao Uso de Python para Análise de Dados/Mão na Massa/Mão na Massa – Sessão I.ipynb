{
 "cells": [
  {
   "cell_type": "markdown",
   "id": "bdc5ecfb",
   "metadata": {},
   "source": [
    "<center><h1> Meus Primeiros Cálculos"
   ]
  },
  {
   "cell_type": "markdown",
   "id": "a306bfe4",
   "metadata": {},
   "source": [
    "### Faça 5 cálculos em células diferentes"
   ]
  },
  {
   "cell_type": "code",
   "execution_count": 1,
   "id": "7935a881",
   "metadata": {},
   "outputs": [
    {
     "data": {
      "text/plain": [
       "9"
      ]
     },
     "execution_count": 1,
     "metadata": {},
     "output_type": "execute_result"
    }
   ],
   "source": [
    "3*(2+1)"
   ]
  },
  {
   "cell_type": "code",
   "execution_count": 2,
   "id": "1e6ecc5a",
   "metadata": {},
   "outputs": [
    {
     "data": {
      "text/plain": [
       "216"
      ]
     },
     "execution_count": 2,
     "metadata": {},
     "output_type": "execute_result"
    }
   ],
   "source": [
    "6**3"
   ]
  },
  {
   "cell_type": "code",
   "execution_count": 3,
   "id": "a30094ab",
   "metadata": {},
   "outputs": [
    {
     "data": {
      "text/plain": [
       "1.3333333333333333"
      ]
     },
     "execution_count": 3,
     "metadata": {},
     "output_type": "execute_result"
    }
   ],
   "source": [
    "4/3"
   ]
  },
  {
   "cell_type": "code",
   "execution_count": 4,
   "id": "bb8f6dba",
   "metadata": {},
   "outputs": [
    {
     "data": {
      "text/plain": [
       "90.0"
      ]
     },
     "execution_count": 4,
     "metadata": {},
     "output_type": "execute_result"
    }
   ],
   "source": [
    "9/0.1"
   ]
  },
  {
   "cell_type": "code",
   "execution_count": 5,
   "id": "117e51e2",
   "metadata": {},
   "outputs": [
    {
     "data": {
      "text/plain": [
       "2"
      ]
     },
     "execution_count": 5,
     "metadata": {},
     "output_type": "execute_result"
    }
   ],
   "source": [
    "500-498\n"
   ]
  },
  {
   "cell_type": "code",
   "execution_count": 6,
   "id": "c6db46af",
   "metadata": {},
   "outputs": [
    {
     "data": {
      "text/plain": [
       "28"
      ]
     },
     "execution_count": 6,
     "metadata": {},
     "output_type": "execute_result"
    }
   ],
   "source": [
    "6553%29"
   ]
  },
  {
   "cell_type": "code",
   "execution_count": null,
   "id": "832ba5e1",
   "metadata": {},
   "outputs": [],
   "source": []
  }
 ],
 "metadata": {
  "kernelspec": {
   "display_name": "Python 3",
   "language": "python",
   "name": "python3"
  },
  "language_info": {
   "codemirror_mode": {
    "name": "ipython",
    "version": 3
   },
   "file_extension": ".py",
   "mimetype": "text/x-python",
   "name": "python",
   "nbconvert_exporter": "python",
   "pygments_lexer": "ipython3",
   "version": "3.8.8"
  }
 },
 "nbformat": 4,
 "nbformat_minor": 5
}
