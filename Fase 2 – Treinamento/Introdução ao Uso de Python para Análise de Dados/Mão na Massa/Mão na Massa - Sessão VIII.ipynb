{
 "cells": [
  {
   "cell_type": "markdown",
   "id": "588ba44a",
   "metadata": {},
   "source": [
    "## Realize as seguintes atividades usando um notebook Jupyter\n",
    "\n",
    "a) Explore um pouco o módulo “math”. Que funções ou constantes podem ser interessantes?\n",
    "\n",
    "b) Crie um array com a seguinte característica: \"[[3 4 5] [5 6 4] [5 3 2]]\". Calcule a dimensão dessa matriz. Qual o\n",
    "determinante e a inversa dessa matriz? Extraia estatísticas descritivas dessa matriz (mínimo, média, máximo e\n",
    "desvio padrão).\n",
    "\n",
    "c) Gere 2 matrizes com numeros inteiros aleatórios e promova a multiplicação entre elas. Houve algum erro? Qual\n",
    "a condição para que seja possível a multiplicação de 2 matrizes? Qual deve ser o formato da matriz resultante?\n",
    "\n",
    "d) Gere um array que seja uma sequência de números de 0 a 10, com razão de 1.2.\n",
    "\n",
    "e) Gere um array que seja uma sequência de números de 100 a 10, com razão de -15.\n",
    "\n",
    "f) Gere uma matriz de 6x6, sendo cada linha uma sugestão aleatória de dezenas para um jogo da megasena."
   ]
  },
  {
   "cell_type": "code",
   "execution_count": 1,
   "id": "50d18cd7",
   "metadata": {},
   "outputs": [],
   "source": [
    "import math\n",
    "import numpy as np\n",
    "import pandas as pd"
   ]
  },
  {
   "cell_type": "code",
   "execution_count": 2,
   "id": "9f2acb1c",
   "metadata": {},
   "outputs": [
    {
     "data": {
      "text/plain": [
       "array([[3, 4, 5],\n",
       "       [5, 6, 4],\n",
       "       [5, 3, 2]])"
      ]
     },
     "execution_count": 2,
     "metadata": {},
     "output_type": "execute_result"
    }
   ],
   "source": [
    "import numpy as np\n",
    "\n",
    "arr=np.array([(3,4,5),(5,6,4),(5,3,2)])\n",
    "arr"
   ]
  },
  {
   "cell_type": "code",
   "execution_count": 3,
   "id": "986dd6be",
   "metadata": {},
   "outputs": [
    {
     "data": {
      "text/plain": [
       "(3, 3)"
      ]
     },
     "execution_count": 3,
     "metadata": {},
     "output_type": "execute_result"
    }
   ],
   "source": [
    "arr.shape"
   ]
  },
  {
   "cell_type": "code",
   "execution_count": 2,
   "id": "386cce28",
   "metadata": {},
   "outputs": [
    {
     "name": "stdout",
     "output_type": "stream",
     "text": [
      "40320\n",
      "50063860\n",
      "36045979200\n"
     ]
    }
   ],
   "source": [
    "print(math.factorial(8))   # n!\n",
    "print(math.comb(60, 6))    # n! / (k! * (n - k)!)\n",
    "print(math.perm(60, 6))    # n! / (n - k)!"
   ]
  },
  {
   "cell_type": "code",
   "execution_count": 3,
   "id": "4858eab7",
   "metadata": {},
   "outputs": [
    {
     "name": "stdout",
     "output_type": "stream",
     "text": [
      "2.718281828459045\n",
      "6.283185307179586\n"
     ]
    }
   ],
   "source": [
    "print(math.e)\n",
    "print(math.tau)   # Tau is a circle constant equal to 2π"
   ]
  },
  {
   "cell_type": "code",
   "execution_count": 4,
   "id": "9d8c831e",
   "metadata": {},
   "outputs": [
    {
     "data": {
      "text/html": [
       "<div>\n",
       "<style scoped>\n",
       "    .dataframe tbody tr th:only-of-type {\n",
       "        vertical-align: middle;\n",
       "    }\n",
       "\n",
       "    .dataframe tbody tr th {\n",
       "        vertical-align: top;\n",
       "    }\n",
       "\n",
       "    .dataframe thead th {\n",
       "        text-align: right;\n",
       "    }\n",
       "</style>\n",
       "<table border=\"1\" class=\"dataframe\">\n",
       "  <thead>\n",
       "    <tr style=\"text-align: right;\">\n",
       "      <th></th>\n",
       "      <th>angle</th>\n",
       "      <th>sin</th>\n",
       "      <th>cos</th>\n",
       "      <th>tan</th>\n",
       "    </tr>\n",
       "  </thead>\n",
       "  <tbody>\n",
       "    <tr>\n",
       "      <th>0</th>\n",
       "      <td>-3.141593</td>\n",
       "      <td>-1.224647e-16</td>\n",
       "      <td>-1.000000e+00</td>\n",
       "      <td>1.224647e-16</td>\n",
       "    </tr>\n",
       "    <tr>\n",
       "      <th>1</th>\n",
       "      <td>-1.570796</td>\n",
       "      <td>-1.000000e+00</td>\n",
       "      <td>6.123234e-17</td>\n",
       "      <td>-1.633124e+16</td>\n",
       "    </tr>\n",
       "    <tr>\n",
       "      <th>2</th>\n",
       "      <td>0.000000</td>\n",
       "      <td>0.000000e+00</td>\n",
       "      <td>1.000000e+00</td>\n",
       "      <td>0.000000e+00</td>\n",
       "    </tr>\n",
       "    <tr>\n",
       "      <th>3</th>\n",
       "      <td>1.570796</td>\n",
       "      <td>1.000000e+00</td>\n",
       "      <td>6.123234e-17</td>\n",
       "      <td>1.633124e+16</td>\n",
       "    </tr>\n",
       "    <tr>\n",
       "      <th>4</th>\n",
       "      <td>3.141593</td>\n",
       "      <td>1.224647e-16</td>\n",
       "      <td>-1.000000e+00</td>\n",
       "      <td>-1.224647e-16</td>\n",
       "    </tr>\n",
       "  </tbody>\n",
       "</table>\n",
       "</div>"
      ],
      "text/plain": [
       "      angle           sin           cos           tan\n",
       "0 -3.141593 -1.224647e-16 -1.000000e+00  1.224647e-16\n",
       "1 -1.570796 -1.000000e+00  6.123234e-17 -1.633124e+16\n",
       "2  0.000000  0.000000e+00  1.000000e+00  0.000000e+00\n",
       "3  1.570796  1.000000e+00  6.123234e-17  1.633124e+16\n",
       "4  3.141593  1.224647e-16 -1.000000e+00 -1.224647e-16"
      ]
     },
     "execution_count": 4,
     "metadata": {},
     "output_type": "execute_result"
    }
   ],
   "source": [
    "angle = [-math.pi, -math.pi / 2, 0, math.pi / 2, math.pi] \n",
    "\n",
    "sin = [math.sin(a) for a in angle]\n",
    "cos = [math.cos(a) for a in angle]\n",
    "tan = [math.tan(a) for a in angle]\n",
    "\n",
    "pd.DataFrame({'angle': angle, 'sin': sin, 'cos': cos, 'tan': tan})"
   ]
  },
  {
   "cell_type": "code",
   "execution_count": 5,
   "id": "04bf983a",
   "metadata": {},
   "outputs": [
    {
     "name": "stdout",
     "output_type": "stream",
     "text": [
      "Dimensions:  (3, 3)\n",
      "Determinant:  -35.0\n",
      "Inverse:  [[ 0.         -0.2         0.4       ]\n",
      " [-0.28571429  0.54285714 -0.37142857]\n",
      " [ 0.42857143 -0.31428571  0.05714286]]\n",
      "Minimum:  2\n",
      "Mean:  4.11\n",
      "Maximum:  6\n",
      "Standard deviation:  1.2\n"
     ]
    }
   ],
   "source": [
    "matrix = np.array([[3, 4, 5], [5, 6, 4], [5, 3, 2]])\n",
    "\n",
    "print(\"Dimensions: \", matrix.shape)\n",
    "print(\"Determinant: \", round(np.linalg.det(matrix), 2))\n",
    "print(\"Inverse: \", np.linalg.inv(matrix))\n",
    "print(\"Minimum: \", np.min(matrix))\n",
    "print(\"Mean: \", round(np.mean(matrix), 2))\n",
    "print(\"Maximum: \", np.max(matrix))\n",
    "print(\"Standard deviation: \", round(np.std(matrix), 2))"
   ]
  },
  {
   "cell_type": "code",
   "execution_count": 6,
   "id": "a31cdf8f",
   "metadata": {},
   "outputs": [
    {
     "name": "stdout",
     "output_type": "stream",
     "text": [
      "A dimensions: (3, 5)\n",
      "[[56 89 19 25 17]\n",
      " [54 42 34 28 12]\n",
      " [20 95 76 49 20]]\n",
      "\n",
      "B dimensions: (5, 6)\n",
      "[[39 73 15 94 17 91]\n",
      " [12 95 98  3 81 16]\n",
      " [24 82 88 86 38 57]\n",
      " [84 13 46 91 77 15]\n",
      " [97 14 78 53 43 54]]\n",
      "\n",
      "A . B dimensions: (3, 6)\n",
      "[[ 7457 14664 13710 10341 11539  8896]\n",
      " [ 6942 11252 10142 11310  8284  8592]\n",
      " [ 9800 17634 20112 14220 15556  9487]]\n"
     ]
    }
   ],
   "source": [
    "np.random.seed(2022)\n",
    "\n",
    "d1 = np.random.randint(3, 12)\n",
    "d2 = np.random.randint(4, 13)\n",
    "d3 = np.random.randint(5, 14)\n",
    "\n",
    "A = np.random.randint(1, 100, (d1, d2))\n",
    "B = np.random.randint(1, 100, (d2, d3))\n",
    "C = A.dot(B)\n",
    "\n",
    "print(\"A dimensions: {}\\n{}\".format(A.shape, A))\n",
    "print(\"\\nB dimensions: {}\\n{}\".format(B.shape, B))\n",
    "print(\"\\nA . B dimensions: {}\\n{}\".format(C.shape, C))"
   ]
  },
  {
   "cell_type": "code",
   "execution_count": 7,
   "id": "83f9b11d",
   "metadata": {},
   "outputs": [
    {
     "data": {
      "text/plain": [
       "array([ 0. ,  1.2,  2.4,  3.6,  4.8,  6. ,  7.2,  8.4,  9.6, 10.8])"
      ]
     },
     "execution_count": 7,
     "metadata": {},
     "output_type": "execute_result"
    }
   ],
   "source": [
    "np.arange(0, 11, 1.2)"
   ]
  },
  {
   "cell_type": "code",
   "execution_count": 8,
   "id": "862067b2",
   "metadata": {},
   "outputs": [
    {
     "data": {
      "text/plain": [
       "array([100,  85,  70,  55,  40,  25,  10])"
      ]
     },
     "execution_count": 8,
     "metadata": {},
     "output_type": "execute_result"
    }
   ],
   "source": [
    "np.arange(100, 9, -15)"
   ]
  },
  {
   "cell_type": "code",
   "execution_count": 9,
   "id": "f5c7fc95",
   "metadata": {},
   "outputs": [
    {
     "name": "stdout",
     "output_type": "stream",
     "text": [
      "Lotery ticket dimensions: (6, 6)\n",
      "[[ 7 11 15 24 49 53]\n",
      " [14 26 32 35 44 59]\n",
      " [13 20 25 30 37 40]\n",
      " [19 36 40 45 57 58]\n",
      " [ 5 10 12 20 22 58]\n",
      " [ 1  8 12 15 28 53]]\n"
     ]
    }
   ],
   "source": [
    "rng = np.random.default_rng()\n",
    "lotery = np.asarray([sorted(rng.choice(61, size=6, replace=False)) for i in range(6)])\n",
    "\n",
    "print(\"Lotery ticket dimensions: {}\\n{}\".format(lotery.shape, lotery))"
   ]
  },
  {
   "cell_type": "code",
   "execution_count": null,
   "id": "47a89ac9",
   "metadata": {},
   "outputs": [],
   "source": []
  }
 ],
 "metadata": {
  "kernelspec": {
   "display_name": "Python 3",
   "language": "python",
   "name": "python3"
  },
  "language_info": {
   "codemirror_mode": {
    "name": "ipython",
    "version": 3
   },
   "file_extension": ".py",
   "mimetype": "text/x-python",
   "name": "python",
   "nbconvert_exporter": "python",
   "pygments_lexer": "ipython3",
   "version": "3.8.8"
  }
 },
 "nbformat": 4,
 "nbformat_minor": 5
}
