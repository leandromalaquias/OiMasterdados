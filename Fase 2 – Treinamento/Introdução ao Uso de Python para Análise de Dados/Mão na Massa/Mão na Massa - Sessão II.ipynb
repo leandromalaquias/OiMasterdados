{
 "cells": [
  {
   "cell_type": "code",
   "execution_count": 2,
   "id": "753e598e",
   "metadata": {},
   "outputs": [
    {
     "name": "stdout",
     "output_type": "stream",
     "text": [
      "3.14\n"
     ]
    },
    {
     "data": {
      "text/plain": [
       "float"
      ]
     },
     "execution_count": 2,
     "metadata": {},
     "output_type": "execute_result"
    }
   ],
   "source": [
    "#variavel float\n",
    "\n",
    "y = 3.14\n",
    "print(y)\n",
    "type(y)"
   ]
  },
  {
   "cell_type": "code",
   "execution_count": 1,
   "id": "c5f12959",
   "metadata": {},
   "outputs": [
    {
     "name": "stdout",
     "output_type": "stream",
     "text": [
      "5\n"
     ]
    },
    {
     "data": {
      "text/plain": [
       "int"
      ]
     },
     "execution_count": 1,
     "metadata": {},
     "output_type": "execute_result"
    }
   ],
   "source": [
    "# variavel int\n",
    "\n",
    "x = 5\n",
    "print(x)\n",
    "type(x)"
   ]
  },
  {
   "cell_type": "code",
   "execution_count": 1,
   "id": "e134f800",
   "metadata": {},
   "outputs": [
    {
     "name": "stdout",
     "output_type": "stream",
     "text": [
      "3600000\n"
     ]
    }
   ],
   "source": [
    "z = 3600000\n",
    "\n",
    "print(z)"
   ]
  },
  {
   "cell_type": "code",
   "execution_count": 3,
   "id": "1845dd65",
   "metadata": {},
   "outputs": [
    {
     "name": "stdout",
     "output_type": "stream",
     "text": [
      "Leandro\n"
     ]
    },
    {
     "data": {
      "text/plain": [
       "str"
      ]
     },
     "execution_count": 3,
     "metadata": {},
     "output_type": "execute_result"
    }
   ],
   "source": [
    "#variavel string\n",
    "\n",
    "nome = 'Leandro'\n",
    "print(nome)\n",
    "type(nome)"
   ]
  },
  {
   "cell_type": "code",
   "execution_count": 4,
   "id": "713454ce",
   "metadata": {},
   "outputs": [
    {
     "data": {
      "text/plain": [
       "27"
      ]
     },
     "execution_count": 4,
     "metadata": {},
     "output_type": "execute_result"
    }
   ],
   "source": [
    "# Exercicio e\n",
    "\n",
    "3**2*3"
   ]
  },
  {
   "cell_type": "code",
   "execution_count": 5,
   "id": "5193042c",
   "metadata": {},
   "outputs": [
    {
     "data": {
      "text/plain": [
       "27"
      ]
     },
     "execution_count": 5,
     "metadata": {},
     "output_type": "execute_result"
    }
   ],
   "source": [
    "3*(3**2)"
   ]
  },
  {
   "cell_type": "code",
   "execution_count": 6,
   "id": "671c19d0",
   "metadata": {},
   "outputs": [
    {
     "data": {
      "text/plain": [
       "1.6666666666666667"
      ]
     },
     "execution_count": 6,
     "metadata": {},
     "output_type": "execute_result"
    }
   ],
   "source": [
    "# Exercicio f\n",
    "\n",
    "5/9**0.5"
   ]
  },
  {
   "cell_type": "code",
   "execution_count": 10,
   "id": "fae1e1af",
   "metadata": {},
   "outputs": [
    {
     "data": {
      "text/plain": [
       "694"
      ]
     },
     "execution_count": 10,
     "metadata": {},
     "output_type": "execute_result"
    }
   ],
   "source": [
    "# Exercicio g\n",
    "\n",
    "531313//765"
   ]
  },
  {
   "cell_type": "code",
   "execution_count": 11,
   "id": "aefd46bc",
   "metadata": {},
   "outputs": [
    {
     "data": {
      "text/plain": [
       "403"
      ]
     },
     "execution_count": 11,
     "metadata": {},
     "output_type": "execute_result"
    }
   ],
   "source": [
    "531313%765"
   ]
  },
  {
   "cell_type": "code",
   "execution_count": 12,
   "id": "9ab74adf",
   "metadata": {},
   "outputs": [
    {
     "data": {
      "text/plain": [
       "531313"
      ]
     },
     "execution_count": 12,
     "metadata": {},
     "output_type": "execute_result"
    }
   ],
   "source": [
    "(694 * 765) + 403"
   ]
  },
  {
   "cell_type": "code",
   "execution_count": 3,
   "id": "faa9b1bb",
   "metadata": {},
   "outputs": [
    {
     "name": "stdout",
     "output_type": "stream",
     "text": [
      "Digite valor do raio 2.2\n",
      "15.205308184000003\n"
     ]
    }
   ],
   "source": [
    "# Exercicio h\n",
    "pi = 3.1415926\n",
    "\n",
    "r = float(input(\"Digite valor do raio \"))\n",
    "area = pi*r**2\n",
    "print(area)"
   ]
  },
  {
   "cell_type": "code",
   "execution_count": null,
   "id": "4faec5fe",
   "metadata": {},
   "outputs": [],
   "source": []
  },
  {
   "cell_type": "code",
   "execution_count": null,
   "id": "b0a3b1df",
   "metadata": {},
   "outputs": [],
   "source": []
  }
 ],
 "metadata": {
  "kernelspec": {
   "display_name": "Python 3",
   "language": "python",
   "name": "python3"
  },
  "language_info": {
   "codemirror_mode": {
    "name": "ipython",
    "version": 3
   },
   "file_extension": ".py",
   "mimetype": "text/x-python",
   "name": "python",
   "nbconvert_exporter": "python",
   "pygments_lexer": "ipython3",
   "version": "3.8.8"
  }
 },
 "nbformat": 4,
 "nbformat_minor": 5
}
