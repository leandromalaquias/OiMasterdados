{
 "cells": [
  {
   "cell_type": "code",
   "execution_count": 1,
   "id": "aef22fde",
   "metadata": {},
   "outputs": [
    {
     "data": {
      "text/plain": [
       "True"
      ]
     },
     "execution_count": 1,
     "metadata": {},
     "output_type": "execute_result"
    }
   ],
   "source": [
    "4>2"
   ]
  },
  {
   "cell_type": "code",
   "execution_count": 2,
   "id": "3abf3a3c",
   "metadata": {},
   "outputs": [
    {
     "data": {
      "text/plain": [
       "False"
      ]
     },
     "execution_count": 2,
     "metadata": {},
     "output_type": "execute_result"
    }
   ],
   "source": [
    "2>4"
   ]
  },
  {
   "cell_type": "code",
   "execution_count": 5,
   "id": "42368206",
   "metadata": {},
   "outputs": [
    {
     "ename": "SyntaxError",
     "evalue": "cannot assign to literal (Temp/ipykernel_6472/3246137784.py, line 1)",
     "output_type": "error",
     "traceback": [
      "\u001b[1;36m  File \u001b[1;32m\"C:\\Users\\mpfag\\AppData\\Local\\Temp/ipykernel_6472/3246137784.py\"\u001b[1;36m, line \u001b[1;32m1\u001b[0m\n\u001b[1;33m    2=4\u001b[0m\n\u001b[1;37m    ^\u001b[0m\n\u001b[1;31mSyntaxError\u001b[0m\u001b[1;31m:\u001b[0m cannot assign to literal\n"
     ]
    }
   ],
   "source": [
    "2=4"
   ]
  },
  {
   "cell_type": "code",
   "execution_count": null,
   "id": "224aea34",
   "metadata": {},
   "outputs": [],
   "source": [
    "2==4"
   ]
  },
  {
   "cell_type": "code",
   "execution_count": 6,
   "id": "1ebf6c00",
   "metadata": {},
   "outputs": [
    {
     "data": {
      "text/plain": [
       "True"
      ]
     },
     "execution_count": 6,
     "metadata": {},
     "output_type": "execute_result"
    }
   ],
   "source": [
    "5!=3"
   ]
  },
  {
   "cell_type": "code",
   "execution_count": null,
   "id": "5f64d27a",
   "metadata": {},
   "outputs": [],
   "source": [
    "5>=4"
   ]
  },
  {
   "cell_type": "code",
   "execution_count": 7,
   "id": "5372cad5",
   "metadata": {},
   "outputs": [],
   "source": [
    "numero = 5"
   ]
  },
  {
   "cell_type": "code",
   "execution_count": 8,
   "id": "467953cc",
   "metadata": {},
   "outputs": [
    {
     "data": {
      "text/plain": [
       "5"
      ]
     },
     "execution_count": 8,
     "metadata": {},
     "output_type": "execute_result"
    }
   ],
   "source": [
    "numero"
   ]
  },
  {
   "cell_type": "code",
   "execution_count": 9,
   "id": "777c9c63",
   "metadata": {},
   "outputs": [
    {
     "data": {
      "text/plain": [
       "12"
      ]
     },
     "execution_count": 9,
     "metadata": {},
     "output_type": "execute_result"
    }
   ],
   "source": [
    "numero += 7\n",
    "numero"
   ]
  },
  {
   "cell_type": "code",
   "execution_count": 10,
   "id": "62b426e7",
   "metadata": {},
   "outputs": [
    {
     "name": "stdout",
     "output_type": "stream",
     "text": [
      "29\n"
     ]
    }
   ],
   "source": [
    "#Operador +=\n",
    "valor=10\n",
    "valor+=19\n",
    "print(valor)"
   ]
  },
  {
   "cell_type": "code",
   "execution_count": 11,
   "id": "f6c0f0c7",
   "metadata": {},
   "outputs": [
    {
     "name": "stdout",
     "output_type": "stream",
     "text": [
      "3\n"
     ]
    }
   ],
   "source": [
    "#Operador -=\n",
    "valor=15\n",
    "valor-=12\n",
    "print(valor)"
   ]
  },
  {
   "cell_type": "code",
   "execution_count": 12,
   "id": "1fc091d3",
   "metadata": {},
   "outputs": [
    {
     "name": "stdout",
     "output_type": "stream",
     "text": [
      "56\n"
     ]
    }
   ],
   "source": [
    "#Operador *=\n",
    "valor=7\n",
    "valor*=8\n",
    "print(valor)"
   ]
  },
  {
   "cell_type": "code",
   "execution_count": 13,
   "id": "e25969af",
   "metadata": {},
   "outputs": [
    {
     "name": "stdout",
     "output_type": "stream",
     "text": [
      "12.0\n"
     ]
    }
   ],
   "source": [
    "#Operador /=\n",
    "valor=84\n",
    "valor/=7\n",
    "print(valor)"
   ]
  },
  {
   "cell_type": "code",
   "execution_count": null,
   "id": "d48b36db",
   "metadata": {},
   "outputs": [],
   "source": [
    "#Operador %=\n",
    "valor=100\n",
    "valor%=9\n",
    "print(valor)"
   ]
  },
  {
   "cell_type": "code",
   "execution_count": 15,
   "id": "60d20a05",
   "metadata": {},
   "outputs": [],
   "source": [
    "valor1=50\n",
    "valor2=-12"
   ]
  },
  {
   "cell_type": "code",
   "execution_count": 19,
   "id": "77acc8bc",
   "metadata": {},
   "outputs": [
    {
     "name": "stdout",
     "output_type": "stream",
     "text": [
      "As duas condições são verdadeiras\n"
     ]
    }
   ],
   "source": [
    "#Exemplo operador and\n",
    "if valor1<100 and valor2<0:\n",
    "    print(\"As duas condições são verdadeiras\")"
   ]
  },
  {
   "cell_type": "code",
   "execution_count": 20,
   "id": "5c97148f",
   "metadata": {},
   "outputs": [
    {
     "name": "stdout",
     "output_type": "stream",
     "text": [
      "Pelo menos uma das duas condições é verdadeira\n"
     ]
    }
   ],
   "source": [
    "#Exemplo operador or\n",
    "if valor1>50 or valor2<=0:\n",
    "    print(\"Pelo menos uma das duas condições é verdadeira\")"
   ]
  },
  {
   "cell_type": "code",
   "execution_count": 21,
   "id": "8b8bc4be",
   "metadata": {},
   "outputs": [
    {
     "name": "stdout",
     "output_type": "stream",
     "text": [
      "Pelo menos uma das condições não é verdadeira\n"
     ]
    }
   ],
   "source": [
    "#Exemplo operador not\n",
    "if not (valor1>50 and valor2<0):\n",
    "    print(\"Pelo menos uma das condições não é verdadeira\")\n"
   ]
  },
  {
   "cell_type": "code",
   "execution_count": null,
   "id": "c0669c28",
   "metadata": {},
   "outputs": [],
   "source": []
  }
 ],
 "metadata": {
  "kernelspec": {
   "display_name": "Python 3 (ipykernel)",
   "language": "python",
   "name": "python3"
  },
  "language_info": {
   "codemirror_mode": {
    "name": "ipython",
    "version": 3
   },
   "file_extension": ".py",
   "mimetype": "text/x-python",
   "name": "python",
   "nbconvert_exporter": "python",
   "pygments_lexer": "ipython3",
   "version": "3.9.7"
  }
 },
 "nbformat": 4,
 "nbformat_minor": 5
}
