{
 "cells": [
  {
   "cell_type": "markdown",
   "id": "67e6cacc",
   "metadata": {},
   "source": [
    "### Exemplo I - Importando o Pandas"
   ]
  },
  {
   "cell_type": "code",
   "execution_count": 1,
   "id": "f89009c8",
   "metadata": {},
   "outputs": [
    {
     "name": "stdout",
     "output_type": "stream",
     "text": [
      "1.2.4\n"
     ]
    }
   ],
   "source": [
    "import pandas as pd\n",
    "print(pd.__version__)\n",
    "pd.options.display.float_format = '{:.3f}'.format"
   ]
  },
  {
   "cell_type": "markdown",
   "id": "298f2090",
   "metadata": {},
   "source": [
    "### Exemplo II - Criando um dataset de exemplo (dados fictícios) usando Pandas"
   ]
  },
  {
   "cell_type": "code",
   "execution_count": 2,
   "id": "d5329699",
   "metadata": {},
   "outputs": [
    {
     "data": {
      "text/html": [
       "<div>\n",
       "<style scoped>\n",
       "    .dataframe tbody tr th:only-of-type {\n",
       "        vertical-align: middle;\n",
       "    }\n",
       "\n",
       "    .dataframe tbody tr th {\n",
       "        vertical-align: top;\n",
       "    }\n",
       "\n",
       "    .dataframe thead th {\n",
       "        text-align: right;\n",
       "    }\n",
       "</style>\n",
       "<table border=\"1\" class=\"dataframe\">\n",
       "  <thead>\n",
       "    <tr style=\"text-align: right;\">\n",
       "      <th></th>\n",
       "      <th>Estado</th>\n",
       "      <th>Populacao</th>\n",
       "    </tr>\n",
       "  </thead>\n",
       "  <tbody>\n",
       "    <tr>\n",
       "      <th>0</th>\n",
       "      <td>SP</td>\n",
       "      <td>46649132</td>\n",
       "    </tr>\n",
       "    <tr>\n",
       "      <th>1</th>\n",
       "      <td>RJ</td>\n",
       "      <td>17463349</td>\n",
       "    </tr>\n",
       "    <tr>\n",
       "      <th>2</th>\n",
       "      <td>ES</td>\n",
       "      <td>4108508</td>\n",
       "    </tr>\n",
       "    <tr>\n",
       "      <th>3</th>\n",
       "      <td>MG</td>\n",
       "      <td>21411923</td>\n",
       "    </tr>\n",
       "    <tr>\n",
       "      <th>4</th>\n",
       "      <td>PR</td>\n",
       "      <td>11597484</td>\n",
       "    </tr>\n",
       "    <tr>\n",
       "      <th>5</th>\n",
       "      <td>RS</td>\n",
       "      <td>11466630</td>\n",
       "    </tr>\n",
       "    <tr>\n",
       "      <th>6</th>\n",
       "      <td>SC</td>\n",
       "      <td>7338473</td>\n",
       "    </tr>\n",
       "  </tbody>\n",
       "</table>\n",
       "</div>"
      ],
      "text/plain": [
       "  Estado  Populacao\n",
       "0     SP   46649132\n",
       "1     RJ   17463349\n",
       "2     ES    4108508\n",
       "3     MG   21411923\n",
       "4     PR   11597484\n",
       "5     RS   11466630\n",
       "6     SC    7338473"
      ]
     },
     "execution_count": 2,
     "metadata": {},
     "output_type": "execute_result"
    }
   ],
   "source": [
    "dados={'Estado':[\"SP\",\"RJ\",\"ES\",\"MG\",\"PR\", \"RS\", \"SC\"],\n",
    "      'Populacao':[46649132,17463349,4108508,21411923,11597484,11466630,7338473]}\n",
    "basepop=pd.DataFrame(dados)\n",
    "basepop"
   ]
  },
  {
   "cell_type": "code",
   "execution_count": 3,
   "id": "c0fe152e",
   "metadata": {},
   "outputs": [
    {
     "data": {
      "text/plain": [
       "pandas.core.frame.DataFrame"
      ]
     },
     "execution_count": 3,
     "metadata": {},
     "output_type": "execute_result"
    }
   ],
   "source": [
    "#Verificando o tipo do objeto criado\n",
    "type(basepop)"
   ]
  },
  {
   "cell_type": "code",
   "execution_count": 4,
   "id": "de2597e2",
   "metadata": {},
   "outputs": [
    {
     "data": {
      "text/html": [
       "<div>\n",
       "<style scoped>\n",
       "    .dataframe tbody tr th:only-of-type {\n",
       "        vertical-align: middle;\n",
       "    }\n",
       "\n",
       "    .dataframe tbody tr th {\n",
       "        vertical-align: top;\n",
       "    }\n",
       "\n",
       "    .dataframe thead th {\n",
       "        text-align: right;\n",
       "    }\n",
       "</style>\n",
       "<table border=\"1\" class=\"dataframe\">\n",
       "  <thead>\n",
       "    <tr style=\"text-align: right;\">\n",
       "      <th></th>\n",
       "      <th>Estado</th>\n",
       "      <th>Populacao</th>\n",
       "    </tr>\n",
       "  </thead>\n",
       "  <tbody>\n",
       "    <tr>\n",
       "      <th>0</th>\n",
       "      <td>SP</td>\n",
       "      <td>46649132</td>\n",
       "    </tr>\n",
       "    <tr>\n",
       "      <th>1</th>\n",
       "      <td>RJ</td>\n",
       "      <td>17463349</td>\n",
       "    </tr>\n",
       "    <tr>\n",
       "      <th>2</th>\n",
       "      <td>ES</td>\n",
       "      <td>4108508</td>\n",
       "    </tr>\n",
       "  </tbody>\n",
       "</table>\n",
       "</div>"
      ],
      "text/plain": [
       "  Estado  Populacao\n",
       "0     SP   46649132\n",
       "1     RJ   17463349\n",
       "2     ES    4108508"
      ]
     },
     "execution_count": 4,
     "metadata": {},
     "output_type": "execute_result"
    }
   ],
   "source": [
    "### Observando as primeiras n linhas da tabela\n",
    "basepop.head(3)"
   ]
  },
  {
   "cell_type": "code",
   "execution_count": 5,
   "id": "20d7eb00",
   "metadata": {},
   "outputs": [
    {
     "data": {
      "text/html": [
       "<div>\n",
       "<style scoped>\n",
       "    .dataframe tbody tr th:only-of-type {\n",
       "        vertical-align: middle;\n",
       "    }\n",
       "\n",
       "    .dataframe tbody tr th {\n",
       "        vertical-align: top;\n",
       "    }\n",
       "\n",
       "    .dataframe thead th {\n",
       "        text-align: right;\n",
       "    }\n",
       "</style>\n",
       "<table border=\"1\" class=\"dataframe\">\n",
       "  <thead>\n",
       "    <tr style=\"text-align: right;\">\n",
       "      <th></th>\n",
       "      <th>Estado</th>\n",
       "      <th>Populacao</th>\n",
       "    </tr>\n",
       "  </thead>\n",
       "  <tbody>\n",
       "    <tr>\n",
       "      <th>4</th>\n",
       "      <td>PR</td>\n",
       "      <td>11597484</td>\n",
       "    </tr>\n",
       "    <tr>\n",
       "      <th>5</th>\n",
       "      <td>RS</td>\n",
       "      <td>11466630</td>\n",
       "    </tr>\n",
       "    <tr>\n",
       "      <th>6</th>\n",
       "      <td>SC</td>\n",
       "      <td>7338473</td>\n",
       "    </tr>\n",
       "  </tbody>\n",
       "</table>\n",
       "</div>"
      ],
      "text/plain": [
       "  Estado  Populacao\n",
       "4     PR   11597484\n",
       "5     RS   11466630\n",
       "6     SC    7338473"
      ]
     },
     "execution_count": 5,
     "metadata": {},
     "output_type": "execute_result"
    }
   ],
   "source": [
    "### Observando as últimas n linhas da tabela\n",
    "basepop.tail(3)"
   ]
  },
  {
   "cell_type": "code",
   "execution_count": 6,
   "id": "77337a59",
   "metadata": {},
   "outputs": [
    {
     "data": {
      "text/plain": [
       "(7, 2)"
      ]
     },
     "execution_count": 6,
     "metadata": {},
     "output_type": "execute_result"
    }
   ],
   "source": [
    "#Trazendo a quantidade de linhas e colunas do dataframe\n",
    "basepop.shape"
   ]
  },
  {
   "cell_type": "markdown",
   "id": "73439f56",
   "metadata": {},
   "source": [
    "### Exemplo III - Criando uma série de dados"
   ]
  },
  {
   "cell_type": "code",
   "execution_count": 7,
   "id": "43738bf4",
   "metadata": {},
   "outputs": [
    {
     "data": {
      "text/plain": [
       "0     1\n",
       "1     2\n",
       "2     4\n",
       "3     8\n",
       "4    16\n",
       "5    32\n",
       "dtype: int64"
      ]
     },
     "execution_count": 7,
     "metadata": {},
     "output_type": "execute_result"
    }
   ],
   "source": [
    "#Gerando a série\n",
    "serie=[1,2,4,8,16,32]\n",
    "minha_serie=pd.Series(serie)\n",
    "minha_serie"
   ]
  },
  {
   "cell_type": "code",
   "execution_count": 8,
   "id": "b41cbf7e",
   "metadata": {},
   "outputs": [
    {
     "data": {
      "text/plain": [
       "a     1\n",
       "b     2\n",
       "c     4\n",
       "d     8\n",
       "e    16\n",
       "f    32\n",
       "dtype: int64"
      ]
     },
     "execution_count": 8,
     "metadata": {},
     "output_type": "execute_result"
    }
   ],
   "source": [
    "#Colocando um rótulo nos valores dos índices da série\n",
    "minha_serie=pd.Series(serie,index=[\"a\",\"b\",\"c\",\"d\",\"e\",\"f\"])\n",
    "minha_serie"
   ]
  },
  {
   "cell_type": "code",
   "execution_count": 9,
   "id": "68363c48",
   "metadata": {},
   "outputs": [
    {
     "name": "stdout",
     "output_type": "stream",
     "text": [
      "dia1    450\n",
      "dia2    398\n",
      "dia3    367\n",
      "dtype: int64\n"
     ]
    }
   ],
   "source": [
    "#Criando uma série simples a partir de um dicionário\n",
    "calorias = {\"dia1\": 450, \"dia2\": 398, \"dia3\": 367}\n",
    "minhas_calorias = pd.Series(calorias)\n",
    "print(minhas_calorias)"
   ]
  },
  {
   "cell_type": "markdown",
   "id": "252bd963",
   "metadata": {},
   "source": [
    "### Exemplo IV - Filtrando dados em um dataframe"
   ]
  },
  {
   "cell_type": "code",
   "execution_count": 10,
   "id": "6b8f6c58",
   "metadata": {},
   "outputs": [
    {
     "data": {
      "text/plain": [
       "0    SP\n",
       "1    RJ\n",
       "2    ES\n",
       "3    MG\n",
       "4    PR\n",
       "5    RS\n",
       "6    SC\n",
       "Name: Estado, dtype: object"
      ]
     },
     "execution_count": 10,
     "metadata": {},
     "output_type": "execute_result"
    }
   ],
   "source": [
    "#Fitrando uma coluna específica\n",
    "basepop[\"Estado\"]"
   ]
  },
  {
   "cell_type": "code",
   "execution_count": 11,
   "id": "f1ae319d",
   "metadata": {},
   "outputs": [
    {
     "data": {
      "text/html": [
       "<div>\n",
       "<style scoped>\n",
       "    .dataframe tbody tr th:only-of-type {\n",
       "        vertical-align: middle;\n",
       "    }\n",
       "\n",
       "    .dataframe tbody tr th {\n",
       "        vertical-align: top;\n",
       "    }\n",
       "\n",
       "    .dataframe thead th {\n",
       "        text-align: right;\n",
       "    }\n",
       "</style>\n",
       "<table border=\"1\" class=\"dataframe\">\n",
       "  <thead>\n",
       "    <tr style=\"text-align: right;\">\n",
       "      <th></th>\n",
       "      <th>Estado</th>\n",
       "      <th>Populacao</th>\n",
       "    </tr>\n",
       "  </thead>\n",
       "  <tbody>\n",
       "    <tr>\n",
       "      <th>0</th>\n",
       "      <td>SP</td>\n",
       "      <td>46649132</td>\n",
       "    </tr>\n",
       "  </tbody>\n",
       "</table>\n",
       "</div>"
      ],
      "text/plain": [
       "  Estado  Populacao\n",
       "0     SP   46649132"
      ]
     },
     "execution_count": 11,
     "metadata": {},
     "output_type": "execute_result"
    }
   ],
   "source": [
    "#Filtrando uma linha específica\n",
    "basepop.loc[[0]]"
   ]
  },
  {
   "cell_type": "code",
   "execution_count": 12,
   "id": "959eac80",
   "metadata": {},
   "outputs": [
    {
     "data": {
      "text/html": [
       "<div>\n",
       "<style scoped>\n",
       "    .dataframe tbody tr th:only-of-type {\n",
       "        vertical-align: middle;\n",
       "    }\n",
       "\n",
       "    .dataframe tbody tr th {\n",
       "        vertical-align: top;\n",
       "    }\n",
       "\n",
       "    .dataframe thead th {\n",
       "        text-align: right;\n",
       "    }\n",
       "</style>\n",
       "<table border=\"1\" class=\"dataframe\">\n",
       "  <thead>\n",
       "    <tr style=\"text-align: right;\">\n",
       "      <th></th>\n",
       "      <th>Estado</th>\n",
       "      <th>Populacao</th>\n",
       "    </tr>\n",
       "  </thead>\n",
       "  <tbody>\n",
       "    <tr>\n",
       "      <th>1</th>\n",
       "      <td>RJ</td>\n",
       "      <td>17463349</td>\n",
       "    </tr>\n",
       "    <tr>\n",
       "      <th>4</th>\n",
       "      <td>PR</td>\n",
       "      <td>11597484</td>\n",
       "    </tr>\n",
       "  </tbody>\n",
       "</table>\n",
       "</div>"
      ],
      "text/plain": [
       "  Estado  Populacao\n",
       "1     RJ   17463349\n",
       "4     PR   11597484"
      ]
     },
     "execution_count": 12,
     "metadata": {},
     "output_type": "execute_result"
    }
   ],
   "source": [
    "#Filtrando mais de uma linha\n",
    "basepop.loc[[1,4]]"
   ]
  },
  {
   "cell_type": "code",
   "execution_count": 13,
   "id": "b6f3f8e4",
   "metadata": {},
   "outputs": [
    {
     "data": {
      "text/html": [
       "<div>\n",
       "<style scoped>\n",
       "    .dataframe tbody tr th:only-of-type {\n",
       "        vertical-align: middle;\n",
       "    }\n",
       "\n",
       "    .dataframe tbody tr th {\n",
       "        vertical-align: top;\n",
       "    }\n",
       "\n",
       "    .dataframe thead th {\n",
       "        text-align: right;\n",
       "    }\n",
       "</style>\n",
       "<table border=\"1\" class=\"dataframe\">\n",
       "  <thead>\n",
       "    <tr style=\"text-align: right;\">\n",
       "      <th></th>\n",
       "      <th>Estado</th>\n",
       "      <th>Populacao</th>\n",
       "    </tr>\n",
       "  </thead>\n",
       "  <tbody>\n",
       "    <tr>\n",
       "      <th>1</th>\n",
       "      <td>RJ</td>\n",
       "      <td>17463349</td>\n",
       "    </tr>\n",
       "    <tr>\n",
       "      <th>2</th>\n",
       "      <td>ES</td>\n",
       "      <td>4108508</td>\n",
       "    </tr>\n",
       "    <tr>\n",
       "      <th>3</th>\n",
       "      <td>MG</td>\n",
       "      <td>21411923</td>\n",
       "    </tr>\n",
       "  </tbody>\n",
       "</table>\n",
       "</div>"
      ],
      "text/plain": [
       "  Estado  Populacao\n",
       "1     RJ   17463349\n",
       "2     ES    4108508\n",
       "3     MG   21411923"
      ]
     },
     "execution_count": 13,
     "metadata": {},
     "output_type": "execute_result"
    }
   ],
   "source": [
    "#Filtrando mais de uma linha de forma sequencial\n",
    "basepop.loc[1:3]"
   ]
  },
  {
   "cell_type": "code",
   "execution_count": 14,
   "id": "a710ba70",
   "metadata": {},
   "outputs": [
    {
     "data": {
      "text/plain": [
       "1    RJ\n",
       "2    ES\n",
       "3    MG\n",
       "Name: Estado, dtype: object"
      ]
     },
     "execution_count": 14,
     "metadata": {},
     "output_type": "execute_result"
    }
   ],
   "source": [
    "#Filtrando mais de uma linha de forma sequencial e de uma coluna específica\n",
    "basepop.loc[1:3, \"Estado\"]"
   ]
  },
  {
   "cell_type": "code",
   "execution_count": 15,
   "id": "333da3da",
   "metadata": {},
   "outputs": [
    {
     "data": {
      "text/html": [
       "<div>\n",
       "<style scoped>\n",
       "    .dataframe tbody tr th:only-of-type {\n",
       "        vertical-align: middle;\n",
       "    }\n",
       "\n",
       "    .dataframe tbody tr th {\n",
       "        vertical-align: top;\n",
       "    }\n",
       "\n",
       "    .dataframe thead th {\n",
       "        text-align: right;\n",
       "    }\n",
       "</style>\n",
       "<table border=\"1\" class=\"dataframe\">\n",
       "  <thead>\n",
       "    <tr style=\"text-align: right;\">\n",
       "      <th></th>\n",
       "      <th>Estado</th>\n",
       "      <th>Populacao</th>\n",
       "    </tr>\n",
       "  </thead>\n",
       "  <tbody>\n",
       "    <tr>\n",
       "      <th>0</th>\n",
       "      <td>SP</td>\n",
       "      <td>46649132</td>\n",
       "    </tr>\n",
       "    <tr>\n",
       "      <th>1</th>\n",
       "      <td>RJ</td>\n",
       "      <td>17463349</td>\n",
       "    </tr>\n",
       "    <tr>\n",
       "      <th>2</th>\n",
       "      <td>ES</td>\n",
       "      <td>4108508</td>\n",
       "    </tr>\n",
       "  </tbody>\n",
       "</table>\n",
       "</div>"
      ],
      "text/plain": [
       "  Estado  Populacao\n",
       "0     SP   46649132\n",
       "1     RJ   17463349\n",
       "2     ES    4108508"
      ]
     },
     "execution_count": 15,
     "metadata": {},
     "output_type": "execute_result"
    }
   ],
   "source": [
    "#Filtrando mais de uma linha de forma sequencial\n",
    "basepop.iloc[0:3,0:2]"
   ]
  },
  {
   "cell_type": "code",
   "execution_count": 16,
   "id": "2102880a",
   "metadata": {},
   "outputs": [
    {
     "data": {
      "text/html": [
       "<div>\n",
       "<style scoped>\n",
       "    .dataframe tbody tr th:only-of-type {\n",
       "        vertical-align: middle;\n",
       "    }\n",
       "\n",
       "    .dataframe tbody tr th {\n",
       "        vertical-align: top;\n",
       "    }\n",
       "\n",
       "    .dataframe thead th {\n",
       "        text-align: right;\n",
       "    }\n",
       "</style>\n",
       "<table border=\"1\" class=\"dataframe\">\n",
       "  <thead>\n",
       "    <tr style=\"text-align: right;\">\n",
       "      <th></th>\n",
       "      <th>Estado</th>\n",
       "      <th>Populacao</th>\n",
       "    </tr>\n",
       "  </thead>\n",
       "  <tbody>\n",
       "    <tr>\n",
       "      <th>0</th>\n",
       "      <td>SP</td>\n",
       "      <td>46649132</td>\n",
       "    </tr>\n",
       "    <tr>\n",
       "      <th>1</th>\n",
       "      <td>RJ</td>\n",
       "      <td>17463349</td>\n",
       "    </tr>\n",
       "    <tr>\n",
       "      <th>2</th>\n",
       "      <td>ES</td>\n",
       "      <td>4108508</td>\n",
       "    </tr>\n",
       "  </tbody>\n",
       "</table>\n",
       "</div>"
      ],
      "text/plain": [
       "  Estado  Populacao\n",
       "0     SP   46649132\n",
       "1     RJ   17463349\n",
       "2     ES    4108508"
      ]
     },
     "execution_count": 16,
     "metadata": {},
     "output_type": "execute_result"
    }
   ],
   "source": [
    "#Filtrando todas as colunas de uma linha olu conjunto de linhas\n",
    "basepop.iloc[0:3,:]"
   ]
  },
  {
   "cell_type": "code",
   "execution_count": 17,
   "id": "07edc2f5",
   "metadata": {},
   "outputs": [
    {
     "data": {
      "text/html": [
       "<div>\n",
       "<style scoped>\n",
       "    .dataframe tbody tr th:only-of-type {\n",
       "        vertical-align: middle;\n",
       "    }\n",
       "\n",
       "    .dataframe tbody tr th {\n",
       "        vertical-align: top;\n",
       "    }\n",
       "\n",
       "    .dataframe thead th {\n",
       "        text-align: right;\n",
       "    }\n",
       "</style>\n",
       "<table border=\"1\" class=\"dataframe\">\n",
       "  <thead>\n",
       "    <tr style=\"text-align: right;\">\n",
       "      <th></th>\n",
       "      <th>Estado</th>\n",
       "    </tr>\n",
       "  </thead>\n",
       "  <tbody>\n",
       "    <tr>\n",
       "      <th>0</th>\n",
       "      <td>SP</td>\n",
       "    </tr>\n",
       "    <tr>\n",
       "      <th>1</th>\n",
       "      <td>RJ</td>\n",
       "    </tr>\n",
       "    <tr>\n",
       "      <th>2</th>\n",
       "      <td>ES</td>\n",
       "    </tr>\n",
       "    <tr>\n",
       "      <th>3</th>\n",
       "      <td>MG</td>\n",
       "    </tr>\n",
       "    <tr>\n",
       "      <th>4</th>\n",
       "      <td>PR</td>\n",
       "    </tr>\n",
       "    <tr>\n",
       "      <th>5</th>\n",
       "      <td>RS</td>\n",
       "    </tr>\n",
       "    <tr>\n",
       "      <th>6</th>\n",
       "      <td>SC</td>\n",
       "    </tr>\n",
       "  </tbody>\n",
       "</table>\n",
       "</div>"
      ],
      "text/plain": [
       "  Estado\n",
       "0     SP\n",
       "1     RJ\n",
       "2     ES\n",
       "3     MG\n",
       "4     PR\n",
       "5     RS\n",
       "6     SC"
      ]
     },
     "execution_count": 17,
     "metadata": {},
     "output_type": "execute_result"
    }
   ],
   "source": [
    "#Filtrando todas as linhas de uma coluna ou grupo de colunas\n",
    "basepop.iloc[:, 0:1]"
   ]
  },
  {
   "cell_type": "code",
   "execution_count": 18,
   "id": "5376fdb7",
   "metadata": {},
   "outputs": [
    {
     "data": {
      "text/html": [
       "<div>\n",
       "<style scoped>\n",
       "    .dataframe tbody tr th:only-of-type {\n",
       "        vertical-align: middle;\n",
       "    }\n",
       "\n",
       "    .dataframe tbody tr th {\n",
       "        vertical-align: top;\n",
       "    }\n",
       "\n",
       "    .dataframe thead th {\n",
       "        text-align: right;\n",
       "    }\n",
       "</style>\n",
       "<table border=\"1\" class=\"dataframe\">\n",
       "  <thead>\n",
       "    <tr style=\"text-align: right;\">\n",
       "      <th></th>\n",
       "      <th>Estado</th>\n",
       "      <th>Populacao</th>\n",
       "    </tr>\n",
       "  </thead>\n",
       "  <tbody>\n",
       "    <tr>\n",
       "      <th>0</th>\n",
       "      <td>SP</td>\n",
       "      <td>46649132</td>\n",
       "    </tr>\n",
       "    <tr>\n",
       "      <th>1</th>\n",
       "      <td>RJ</td>\n",
       "      <td>17463349</td>\n",
       "    </tr>\n",
       "    <tr>\n",
       "      <th>3</th>\n",
       "      <td>MG</td>\n",
       "      <td>21411923</td>\n",
       "    </tr>\n",
       "    <tr>\n",
       "      <th>4</th>\n",
       "      <td>PR</td>\n",
       "      <td>11597484</td>\n",
       "    </tr>\n",
       "    <tr>\n",
       "      <th>5</th>\n",
       "      <td>RS</td>\n",
       "      <td>11466630</td>\n",
       "    </tr>\n",
       "  </tbody>\n",
       "</table>\n",
       "</div>"
      ],
      "text/plain": [
       "  Estado  Populacao\n",
       "0     SP   46649132\n",
       "1     RJ   17463349\n",
       "3     MG   21411923\n",
       "4     PR   11597484\n",
       "5     RS   11466630"
      ]
     },
     "execution_count": 18,
     "metadata": {},
     "output_type": "execute_result"
    }
   ],
   "source": [
    "#Filtrando linhas a partir de uma condição específica\n",
    "basepop.loc[basepop[\"Populacao\"]>10000000]"
   ]
  },
  {
   "cell_type": "code",
   "execution_count": 19,
   "id": "b819e082",
   "metadata": {},
   "outputs": [
    {
     "data": {
      "text/html": [
       "<div>\n",
       "<style scoped>\n",
       "    .dataframe tbody tr th:only-of-type {\n",
       "        vertical-align: middle;\n",
       "    }\n",
       "\n",
       "    .dataframe tbody tr th {\n",
       "        vertical-align: top;\n",
       "    }\n",
       "\n",
       "    .dataframe thead th {\n",
       "        text-align: right;\n",
       "    }\n",
       "</style>\n",
       "<table border=\"1\" class=\"dataframe\">\n",
       "  <thead>\n",
       "    <tr style=\"text-align: right;\">\n",
       "      <th></th>\n",
       "      <th>Estado</th>\n",
       "      <th>Populacao</th>\n",
       "    </tr>\n",
       "  </thead>\n",
       "  <tbody>\n",
       "    <tr>\n",
       "      <th>0</th>\n",
       "      <td>SP</td>\n",
       "      <td>46649132</td>\n",
       "    </tr>\n",
       "  </tbody>\n",
       "</table>\n",
       "</div>"
      ],
      "text/plain": [
       "  Estado  Populacao\n",
       "0     SP   46649132"
      ]
     },
     "execution_count": 19,
     "metadata": {},
     "output_type": "execute_result"
    }
   ],
   "source": [
    "#Filtrando linhas a partir de mais de uma condição específica, em que ambas sejam atendidas(AND)\n",
    "basepop.loc[(basepop[\"Populacao\"]>10000000) & (basepop[\"Estado\"]==\"SP\")]"
   ]
  },
  {
   "cell_type": "code",
   "execution_count": 20,
   "id": "6cba0664",
   "metadata": {},
   "outputs": [
    {
     "data": {
      "text/html": [
       "<div>\n",
       "<style scoped>\n",
       "    .dataframe tbody tr th:only-of-type {\n",
       "        vertical-align: middle;\n",
       "    }\n",
       "\n",
       "    .dataframe tbody tr th {\n",
       "        vertical-align: top;\n",
       "    }\n",
       "\n",
       "    .dataframe thead th {\n",
       "        text-align: right;\n",
       "    }\n",
       "</style>\n",
       "<table border=\"1\" class=\"dataframe\">\n",
       "  <thead>\n",
       "    <tr style=\"text-align: right;\">\n",
       "      <th></th>\n",
       "      <th>Estado</th>\n",
       "      <th>Populacao</th>\n",
       "    </tr>\n",
       "  </thead>\n",
       "  <tbody>\n",
       "    <tr>\n",
       "      <th>0</th>\n",
       "      <td>SP</td>\n",
       "      <td>46649132</td>\n",
       "    </tr>\n",
       "    <tr>\n",
       "      <th>1</th>\n",
       "      <td>RJ</td>\n",
       "      <td>17463349</td>\n",
       "    </tr>\n",
       "    <tr>\n",
       "      <th>3</th>\n",
       "      <td>MG</td>\n",
       "      <td>21411923</td>\n",
       "    </tr>\n",
       "    <tr>\n",
       "      <th>4</th>\n",
       "      <td>PR</td>\n",
       "      <td>11597484</td>\n",
       "    </tr>\n",
       "    <tr>\n",
       "      <th>5</th>\n",
       "      <td>RS</td>\n",
       "      <td>11466630</td>\n",
       "    </tr>\n",
       "  </tbody>\n",
       "</table>\n",
       "</div>"
      ],
      "text/plain": [
       "  Estado  Populacao\n",
       "0     SP   46649132\n",
       "1     RJ   17463349\n",
       "3     MG   21411923\n",
       "4     PR   11597484\n",
       "5     RS   11466630"
      ]
     },
     "execution_count": 20,
     "metadata": {},
     "output_type": "execute_result"
    }
   ],
   "source": [
    "#Filtrando linhas a partir de mais de uma condição específica, em que pelo menos uma seja atendida(OR)\n",
    "basepop.loc[(basepop[\"Populacao\"]>10000000) | (basepop[\"Estado\"]==\"SP\")]"
   ]
  },
  {
   "cell_type": "code",
   "execution_count": 21,
   "id": "46de7545",
   "metadata": {},
   "outputs": [
    {
     "data": {
      "text/html": [
       "<div>\n",
       "<style scoped>\n",
       "    .dataframe tbody tr th:only-of-type {\n",
       "        vertical-align: middle;\n",
       "    }\n",
       "\n",
       "    .dataframe tbody tr th {\n",
       "        vertical-align: top;\n",
       "    }\n",
       "\n",
       "    .dataframe thead th {\n",
       "        text-align: right;\n",
       "    }\n",
       "</style>\n",
       "<table border=\"1\" class=\"dataframe\">\n",
       "  <thead>\n",
       "    <tr style=\"text-align: right;\">\n",
       "      <th></th>\n",
       "      <th>Estado</th>\n",
       "      <th>Populacao</th>\n",
       "    </tr>\n",
       "  </thead>\n",
       "  <tbody>\n",
       "    <tr>\n",
       "      <th>2</th>\n",
       "      <td>ES</td>\n",
       "      <td>4108508</td>\n",
       "    </tr>\n",
       "  </tbody>\n",
       "</table>\n",
       "</div>"
      ],
      "text/plain": [
       "  Estado  Populacao\n",
       "2     ES    4108508"
      ]
     },
     "execution_count": 21,
     "metadata": {},
     "output_type": "execute_result"
    }
   ],
   "source": [
    "#Usando o comando query para filtrar de uma maneira ainda mais simples\n",
    "basepop.query(\"Populacao<10000000 & Estado=='ES'\")"
   ]
  },
  {
   "cell_type": "code",
   "execution_count": 22,
   "id": "6ccd7de7",
   "metadata": {},
   "outputs": [
    {
     "data": {
      "text/html": [
       "<div>\n",
       "<style scoped>\n",
       "    .dataframe tbody tr th:only-of-type {\n",
       "        vertical-align: middle;\n",
       "    }\n",
       "\n",
       "    .dataframe tbody tr th {\n",
       "        vertical-align: top;\n",
       "    }\n",
       "\n",
       "    .dataframe thead th {\n",
       "        text-align: right;\n",
       "    }\n",
       "</style>\n",
       "<table border=\"1\" class=\"dataframe\">\n",
       "  <thead>\n",
       "    <tr style=\"text-align: right;\">\n",
       "      <th></th>\n",
       "      <th>Estado</th>\n",
       "    </tr>\n",
       "  </thead>\n",
       "  <tbody>\n",
       "    <tr>\n",
       "      <th>0</th>\n",
       "      <td>SP</td>\n",
       "    </tr>\n",
       "    <tr>\n",
       "      <th>1</th>\n",
       "      <td>RJ</td>\n",
       "    </tr>\n",
       "    <tr>\n",
       "      <th>2</th>\n",
       "      <td>ES</td>\n",
       "    </tr>\n",
       "    <tr>\n",
       "      <th>3</th>\n",
       "      <td>MG</td>\n",
       "    </tr>\n",
       "    <tr>\n",
       "      <th>4</th>\n",
       "      <td>PR</td>\n",
       "    </tr>\n",
       "    <tr>\n",
       "      <th>5</th>\n",
       "      <td>RS</td>\n",
       "    </tr>\n",
       "    <tr>\n",
       "      <th>6</th>\n",
       "      <td>SC</td>\n",
       "    </tr>\n",
       "  </tbody>\n",
       "</table>\n",
       "</div>"
      ],
      "text/plain": [
       "  Estado\n",
       "0     SP\n",
       "1     RJ\n",
       "2     ES\n",
       "3     MG\n",
       "4     PR\n",
       "5     RS\n",
       "6     SC"
      ]
     },
     "execution_count": 22,
     "metadata": {},
     "output_type": "execute_result"
    }
   ],
   "source": [
    "#Usando o comando filter para selecão de linhas e colunas\n",
    "basepop.filter([\"Estado\"])"
   ]
  },
  {
   "cell_type": "code",
   "execution_count": 23,
   "id": "1ce68d8e",
   "metadata": {},
   "outputs": [
    {
     "data": {
      "text/plain": [
       "17147928.42857143"
      ]
     },
     "execution_count": 23,
     "metadata": {},
     "output_type": "execute_result"
    }
   ],
   "source": [
    "#Extraindo a média de população dos estados\n",
    "mediapop=basepop[\"Populacao\"].mean()\n",
    "mediapop"
   ]
  },
  {
   "cell_type": "code",
   "execution_count": 24,
   "id": "bc3d173a",
   "metadata": {},
   "outputs": [
    {
     "data": {
      "text/html": [
       "<div>\n",
       "<style scoped>\n",
       "    .dataframe tbody tr th:only-of-type {\n",
       "        vertical-align: middle;\n",
       "    }\n",
       "\n",
       "    .dataframe tbody tr th {\n",
       "        vertical-align: top;\n",
       "    }\n",
       "\n",
       "    .dataframe thead th {\n",
       "        text-align: right;\n",
       "    }\n",
       "</style>\n",
       "<table border=\"1\" class=\"dataframe\">\n",
       "  <thead>\n",
       "    <tr style=\"text-align: right;\">\n",
       "      <th></th>\n",
       "      <th>Estado</th>\n",
       "      <th>Populacao</th>\n",
       "    </tr>\n",
       "  </thead>\n",
       "  <tbody>\n",
       "    <tr>\n",
       "      <th>0</th>\n",
       "      <td>SP</td>\n",
       "      <td>46649132</td>\n",
       "    </tr>\n",
       "    <tr>\n",
       "      <th>1</th>\n",
       "      <td>RJ</td>\n",
       "      <td>17463349</td>\n",
       "    </tr>\n",
       "    <tr>\n",
       "      <th>3</th>\n",
       "      <td>MG</td>\n",
       "      <td>21411923</td>\n",
       "    </tr>\n",
       "  </tbody>\n",
       "</table>\n",
       "</div>"
      ],
      "text/plain": [
       "  Estado  Populacao\n",
       "0     SP   46649132\n",
       "1     RJ   17463349\n",
       "3     MG   21411923"
      ]
     },
     "execution_count": 24,
     "metadata": {},
     "output_type": "execute_result"
    }
   ],
   "source": [
    "#Filtrando estados com população acima da média\n",
    "basepop.query(\"Populacao > @ mediapop\")"
   ]
  },
  {
   "cell_type": "code",
   "execution_count": 25,
   "id": "9916be77",
   "metadata": {},
   "outputs": [
    {
     "data": {
      "text/html": [
       "<div>\n",
       "<style scoped>\n",
       "    .dataframe tbody tr th:only-of-type {\n",
       "        vertical-align: middle;\n",
       "    }\n",
       "\n",
       "    .dataframe tbody tr th {\n",
       "        vertical-align: top;\n",
       "    }\n",
       "\n",
       "    .dataframe thead th {\n",
       "        text-align: right;\n",
       "    }\n",
       "</style>\n",
       "<table border=\"1\" class=\"dataframe\">\n",
       "  <thead>\n",
       "    <tr style=\"text-align: right;\">\n",
       "      <th></th>\n",
       "      <th>Estado</th>\n",
       "      <th>Populacao</th>\n",
       "    </tr>\n",
       "  </thead>\n",
       "  <tbody>\n",
       "    <tr>\n",
       "      <th>0</th>\n",
       "      <td>SP</td>\n",
       "      <td>46649132</td>\n",
       "    </tr>\n",
       "    <tr>\n",
       "      <th>4</th>\n",
       "      <td>PR</td>\n",
       "      <td>11597484</td>\n",
       "    </tr>\n",
       "    <tr>\n",
       "      <th>5</th>\n",
       "      <td>RS</td>\n",
       "      <td>11466630</td>\n",
       "    </tr>\n",
       "  </tbody>\n",
       "</table>\n",
       "</div>"
      ],
      "text/plain": [
       "  Estado  Populacao\n",
       "0     SP   46649132\n",
       "4     PR   11597484\n",
       "5     RS   11466630"
      ]
     },
     "execution_count": 25,
     "metadata": {},
     "output_type": "execute_result"
    }
   ],
   "source": [
    "#Filtrando um conjunto de estados específico\n",
    "basepop[basepop[\"Estado\"].isin([\"SP\", \"RS\", \"PR\"])]"
   ]
  },
  {
   "cell_type": "markdown",
   "id": "91f9addb",
   "metadata": {},
   "source": [
    "### Exemplo V - Importando dados de tabelas externas"
   ]
  },
  {
   "cell_type": "code",
   "execution_count": 27,
   "id": "cf76e284",
   "metadata": {},
   "outputs": [
    {
     "data": {
      "text/html": [
       "<div>\n",
       "<style scoped>\n",
       "    .dataframe tbody tr th:only-of-type {\n",
       "        vertical-align: middle;\n",
       "    }\n",
       "\n",
       "    .dataframe tbody tr th {\n",
       "        vertical-align: top;\n",
       "    }\n",
       "\n",
       "    .dataframe thead th {\n",
       "        text-align: right;\n",
       "    }\n",
       "</style>\n",
       "<table border=\"1\" class=\"dataframe\">\n",
       "  <thead>\n",
       "    <tr style=\"text-align: right;\">\n",
       "      <th></th>\n",
       "      <th>CIDADE</th>\n",
       "      <th>ESTADO</th>\n",
       "      <th>IBGE_RES_POP</th>\n",
       "      <th>IBGE_POP_URB</th>\n",
       "      <th>POP_ABAIXO_1</th>\n",
       "      <th>POP_1_4</th>\n",
       "      <th>POP_5_9</th>\n",
       "      <th>POP_10-14</th>\n",
       "      <th>POP_15-59</th>\n",
       "      <th>POP_60_MAIS</th>\n",
       "      <th>...</th>\n",
       "      <th>IDHM_Educacao</th>\n",
       "      <th>LONG</th>\n",
       "      <th>LAT</th>\n",
       "      <th>TV_CABO</th>\n",
       "      <th>POP_ESTIMADA</th>\n",
       "      <th>PIB</th>\n",
       "      <th>PIB_CAPITA</th>\n",
       "      <th>CARROS</th>\n",
       "      <th>MOTOS</th>\n",
       "      <th>TOT_EMPRESAS</th>\n",
       "    </tr>\n",
       "  </thead>\n",
       "  <tbody>\n",
       "    <tr>\n",
       "      <th>0</th>\n",
       "      <td>Abadia De Goiás</td>\n",
       "      <td>GO</td>\n",
       "      <td>6876.000</td>\n",
       "      <td>5300.000</td>\n",
       "      <td>69.000</td>\n",
       "      <td>318.000</td>\n",
       "      <td>438.000</td>\n",
       "      <td>517.000</td>\n",
       "      <td>3542.000</td>\n",
       "      <td>416.000</td>\n",
       "      <td>...</td>\n",
       "      <td>0.622</td>\n",
       "      <td>-49.441</td>\n",
       "      <td>-16.759</td>\n",
       "      <td>360.000</td>\n",
       "      <td>8583.000</td>\n",
       "      <td>166.410</td>\n",
       "      <td>20664.570</td>\n",
       "      <td>2158.000</td>\n",
       "      <td>1246.000</td>\n",
       "      <td>284.000</td>\n",
       "    </tr>\n",
       "    <tr>\n",
       "      <th>1</th>\n",
       "      <td>Abadia Dos Dourados</td>\n",
       "      <td>MG</td>\n",
       "      <td>6704.000</td>\n",
       "      <td>4154.000</td>\n",
       "      <td>38.000</td>\n",
       "      <td>207.000</td>\n",
       "      <td>260.000</td>\n",
       "      <td>351.000</td>\n",
       "      <td>2709.000</td>\n",
       "      <td>589.000</td>\n",
       "      <td>...</td>\n",
       "      <td>0.563</td>\n",
       "      <td>-47.397</td>\n",
       "      <td>-18.488</td>\n",
       "      <td>77.000</td>\n",
       "      <td>6972.000</td>\n",
       "      <td>180.090</td>\n",
       "      <td>25591.700</td>\n",
       "      <td>2227.000</td>\n",
       "      <td>1142.000</td>\n",
       "      <td>476.000</td>\n",
       "    </tr>\n",
       "    <tr>\n",
       "      <th>2</th>\n",
       "      <td>Abadiânia</td>\n",
       "      <td>GO</td>\n",
       "      <td>15757.000</td>\n",
       "      <td>10656.000</td>\n",
       "      <td>139.000</td>\n",
       "      <td>650.000</td>\n",
       "      <td>894.000</td>\n",
       "      <td>1087.000</td>\n",
       "      <td>6896.000</td>\n",
       "      <td>990.000</td>\n",
       "      <td>...</td>\n",
       "      <td>0.579</td>\n",
       "      <td>-48.719</td>\n",
       "      <td>-16.183</td>\n",
       "      <td>227.000</td>\n",
       "      <td>19614.000</td>\n",
       "      <td>287984.490</td>\n",
       "      <td>15628.400</td>\n",
       "      <td>2838.000</td>\n",
       "      <td>1426.000</td>\n",
       "      <td>288.000</td>\n",
       "    </tr>\n",
       "    <tr>\n",
       "      <th>3</th>\n",
       "      <td>Abaeté</td>\n",
       "      <td>MG</td>\n",
       "      <td>22690.000</td>\n",
       "      <td>18464.000</td>\n",
       "      <td>176.000</td>\n",
       "      <td>856.000</td>\n",
       "      <td>1233.000</td>\n",
       "      <td>1539.000</td>\n",
       "      <td>11979.000</td>\n",
       "      <td>2681.000</td>\n",
       "      <td>...</td>\n",
       "      <td>0.556</td>\n",
       "      <td>-45.446</td>\n",
       "      <td>-19.156</td>\n",
       "      <td>1230.000</td>\n",
       "      <td>23223.000</td>\n",
       "      <td>430235.360</td>\n",
       "      <td>18250.420</td>\n",
       "      <td>6928.000</td>\n",
       "      <td>2953.000</td>\n",
       "      <td>621.000</td>\n",
       "    </tr>\n",
       "    <tr>\n",
       "      <th>4</th>\n",
       "      <td>Abaetetuba</td>\n",
       "      <td>PA</td>\n",
       "      <td>141100.000</td>\n",
       "      <td>82956.000</td>\n",
       "      <td>1354.000</td>\n",
       "      <td>5567.000</td>\n",
       "      <td>7618.000</td>\n",
       "      <td>8905.000</td>\n",
       "      <td>53516.000</td>\n",
       "      <td>5996.000</td>\n",
       "      <td>...</td>\n",
       "      <td>0.537</td>\n",
       "      <td>-48.884</td>\n",
       "      <td>-1.723</td>\n",
       "      <td>3389.000</td>\n",
       "      <td>156292.000</td>\n",
       "      <td>1249255.290</td>\n",
       "      <td>8222.360</td>\n",
       "      <td>5277.000</td>\n",
       "      <td>25661.000</td>\n",
       "      <td>931.000</td>\n",
       "    </tr>\n",
       "    <tr>\n",
       "      <th>5</th>\n",
       "      <td>Abaiara</td>\n",
       "      <td>CE</td>\n",
       "      <td>10496.000</td>\n",
       "      <td>4538.000</td>\n",
       "      <td>98.000</td>\n",
       "      <td>323.000</td>\n",
       "      <td>421.000</td>\n",
       "      <td>483.000</td>\n",
       "      <td>2631.000</td>\n",
       "      <td>582.000</td>\n",
       "      <td>...</td>\n",
       "      <td>0.612</td>\n",
       "      <td>-39.048</td>\n",
       "      <td>-7.357</td>\n",
       "      <td>29.000</td>\n",
       "      <td>11663.000</td>\n",
       "      <td>73151.460</td>\n",
       "      <td>6370.410</td>\n",
       "      <td>553.000</td>\n",
       "      <td>1674.000</td>\n",
       "      <td>86.000</td>\n",
       "    </tr>\n",
       "    <tr>\n",
       "      <th>6</th>\n",
       "      <td>Abaíra</td>\n",
       "      <td>BA</td>\n",
       "      <td>8316.000</td>\n",
       "      <td>3725.000</td>\n",
       "      <td>37.000</td>\n",
       "      <td>156.000</td>\n",
       "      <td>263.000</td>\n",
       "      <td>277.000</td>\n",
       "      <td>2319.000</td>\n",
       "      <td>673.000</td>\n",
       "      <td>...</td>\n",
       "      <td>0.510</td>\n",
       "      <td>-41.662</td>\n",
       "      <td>-13.254</td>\n",
       "      <td>952.000</td>\n",
       "      <td>8767.000</td>\n",
       "      <td>64324.590</td>\n",
       "      <td>6982.700</td>\n",
       "      <td>896.000</td>\n",
       "      <td>696.000</td>\n",
       "      <td>191.000</td>\n",
       "    </tr>\n",
       "    <tr>\n",
       "      <th>7</th>\n",
       "      <td>Abaré</td>\n",
       "      <td>BA</td>\n",
       "      <td>17064.000</td>\n",
       "      <td>8994.000</td>\n",
       "      <td>167.000</td>\n",
       "      <td>733.000</td>\n",
       "      <td>978.000</td>\n",
       "      <td>927.000</td>\n",
       "      <td>5386.000</td>\n",
       "      <td>803.000</td>\n",
       "      <td>...</td>\n",
       "      <td>0.460</td>\n",
       "      <td>-39.117</td>\n",
       "      <td>-8.723</td>\n",
       "      <td>51.000</td>\n",
       "      <td>19814.000</td>\n",
       "      <td>124754.260</td>\n",
       "      <td>6256.800</td>\n",
       "      <td>613.000</td>\n",
       "      <td>1532.000</td>\n",
       "      <td>87.000</td>\n",
       "    </tr>\n",
       "    <tr>\n",
       "      <th>8</th>\n",
       "      <td>Abatiá</td>\n",
       "      <td>PR</td>\n",
       "      <td>7764.000</td>\n",
       "      <td>5685.000</td>\n",
       "      <td>69.000</td>\n",
       "      <td>302.000</td>\n",
       "      <td>370.000</td>\n",
       "      <td>483.000</td>\n",
       "      <td>3650.000</td>\n",
       "      <td>811.000</td>\n",
       "      <td>...</td>\n",
       "      <td>0.596</td>\n",
       "      <td>-50.313</td>\n",
       "      <td>-23.300</td>\n",
       "      <td>55.000</td>\n",
       "      <td>7507.000</td>\n",
       "      <td>165048.210</td>\n",
       "      <td>21173.600</td>\n",
       "      <td>2168.000</td>\n",
       "      <td>912.000</td>\n",
       "      <td>285.000</td>\n",
       "    </tr>\n",
       "    <tr>\n",
       "      <th>9</th>\n",
       "      <td>Abdon Batista</td>\n",
       "      <td>SC</td>\n",
       "      <td>2653.000</td>\n",
       "      <td>724.000</td>\n",
       "      <td>12.000</td>\n",
       "      <td>32.000</td>\n",
       "      <td>49.000</td>\n",
       "      <td>63.000</td>\n",
       "      <td>479.000</td>\n",
       "      <td>89.000</td>\n",
       "      <td>...</td>\n",
       "      <td>0.625</td>\n",
       "      <td>-51.025</td>\n",
       "      <td>-27.609</td>\n",
       "      <td>109.000</td>\n",
       "      <td>2577.000</td>\n",
       "      <td>64742.010</td>\n",
       "      <td>24739.020</td>\n",
       "      <td>976.000</td>\n",
       "      <td>345.000</td>\n",
       "      <td>69.000</td>\n",
       "    </tr>\n",
       "  </tbody>\n",
       "</table>\n",
       "<p>10 rows × 23 columns</p>\n",
       "</div>"
      ],
      "text/plain": [
       "                CIDADE ESTADO  IBGE_RES_POP  IBGE_POP_URB  POP_ABAIXO_1  \\\n",
       "0      Abadia De Goiás     GO      6876.000      5300.000        69.000   \n",
       "1  Abadia Dos Dourados     MG      6704.000      4154.000        38.000   \n",
       "2            Abadiânia     GO     15757.000     10656.000       139.000   \n",
       "3               Abaeté     MG     22690.000     18464.000       176.000   \n",
       "4           Abaetetuba     PA    141100.000     82956.000      1354.000   \n",
       "5              Abaiara     CE     10496.000      4538.000        98.000   \n",
       "6               Abaíra     BA      8316.000      3725.000        37.000   \n",
       "7                Abaré     BA     17064.000      8994.000       167.000   \n",
       "8               Abatiá     PR      7764.000      5685.000        69.000   \n",
       "9        Abdon Batista     SC      2653.000       724.000        12.000   \n",
       "\n",
       "   POP_1_4  POP_5_9  POP_10-14  POP_15-59  POP_60_MAIS  ...  IDHM_Educacao  \\\n",
       "0  318.000  438.000    517.000   3542.000      416.000  ...          0.622   \n",
       "1  207.000  260.000    351.000   2709.000      589.000  ...          0.563   \n",
       "2  650.000  894.000   1087.000   6896.000      990.000  ...          0.579   \n",
       "3  856.000 1233.000   1539.000  11979.000     2681.000  ...          0.556   \n",
       "4 5567.000 7618.000   8905.000  53516.000     5996.000  ...          0.537   \n",
       "5  323.000  421.000    483.000   2631.000      582.000  ...          0.612   \n",
       "6  156.000  263.000    277.000   2319.000      673.000  ...          0.510   \n",
       "7  733.000  978.000    927.000   5386.000      803.000  ...          0.460   \n",
       "8  302.000  370.000    483.000   3650.000      811.000  ...          0.596   \n",
       "9   32.000   49.000     63.000    479.000       89.000  ...          0.625   \n",
       "\n",
       "     LONG     LAT  TV_CABO  POP_ESTIMADA         PIB  PIB_CAPITA   CARROS  \\\n",
       "0 -49.441 -16.759  360.000      8583.000     166.410   20664.570 2158.000   \n",
       "1 -47.397 -18.488   77.000      6972.000     180.090   25591.700 2227.000   \n",
       "2 -48.719 -16.183  227.000     19614.000  287984.490   15628.400 2838.000   \n",
       "3 -45.446 -19.156 1230.000     23223.000  430235.360   18250.420 6928.000   \n",
       "4 -48.884  -1.723 3389.000    156292.000 1249255.290    8222.360 5277.000   \n",
       "5 -39.048  -7.357   29.000     11663.000   73151.460    6370.410  553.000   \n",
       "6 -41.662 -13.254  952.000      8767.000   64324.590    6982.700  896.000   \n",
       "7 -39.117  -8.723   51.000     19814.000  124754.260    6256.800  613.000   \n",
       "8 -50.313 -23.300   55.000      7507.000  165048.210   21173.600 2168.000   \n",
       "9 -51.025 -27.609  109.000      2577.000   64742.010   24739.020  976.000   \n",
       "\n",
       "      MOTOS  TOT_EMPRESAS  \n",
       "0  1246.000       284.000  \n",
       "1  1142.000       476.000  \n",
       "2  1426.000       288.000  \n",
       "3  2953.000       621.000  \n",
       "4 25661.000       931.000  \n",
       "5  1674.000        86.000  \n",
       "6   696.000       191.000  \n",
       "7  1532.000        87.000  \n",
       "8   912.000       285.000  \n",
       "9   345.000        69.000  \n",
       "\n",
       "[10 rows x 23 columns]"
      ]
     },
     "execution_count": 27,
     "metadata": {},
     "output_type": "execute_result"
    }
   ],
   "source": [
    "#Importando uma tabela Excel para análise (formato .xlsx)\n",
    "indsocdem=pd.read_excel(\"Indicadores Socio-Demograficos.xlsx\", sheet_name=\"BASE_DADOS\")\n",
    "indsocdem.head(10)"
   ]
  },
  {
   "cell_type": "code",
   "execution_count": 29,
   "id": "b85007e3",
   "metadata": {},
   "outputs": [
    {
     "data": {
      "text/html": [
       "<div>\n",
       "<style scoped>\n",
       "    .dataframe tbody tr th:only-of-type {\n",
       "        vertical-align: middle;\n",
       "    }\n",
       "\n",
       "    .dataframe tbody tr th {\n",
       "        vertical-align: top;\n",
       "    }\n",
       "\n",
       "    .dataframe thead th {\n",
       "        text-align: right;\n",
       "    }\n",
       "</style>\n",
       "<table border=\"1\" class=\"dataframe\">\n",
       "  <thead>\n",
       "    <tr style=\"text-align: right;\">\n",
       "      <th></th>\n",
       "      <th>customerID</th>\n",
       "      <th>gender</th>\n",
       "      <th>SeniorCitizen</th>\n",
       "      <th>Partner</th>\n",
       "      <th>Dependents</th>\n",
       "      <th>tenure</th>\n",
       "      <th>PhoneService</th>\n",
       "      <th>MultipleLines</th>\n",
       "      <th>InternetService</th>\n",
       "      <th>OnlineSecurity</th>\n",
       "      <th>...</th>\n",
       "      <th>DeviceProtection</th>\n",
       "      <th>TechSupport</th>\n",
       "      <th>StreamingTV</th>\n",
       "      <th>StreamingMovies</th>\n",
       "      <th>Contract</th>\n",
       "      <th>PaperlessBilling</th>\n",
       "      <th>PaymentMethod</th>\n",
       "      <th>MonthlyCharges</th>\n",
       "      <th>TotalCharges</th>\n",
       "      <th>Churn</th>\n",
       "    </tr>\n",
       "  </thead>\n",
       "  <tbody>\n",
       "    <tr>\n",
       "      <th>0</th>\n",
       "      <td>7590-VHVEG</td>\n",
       "      <td>Female</td>\n",
       "      <td>0</td>\n",
       "      <td>Yes</td>\n",
       "      <td>No</td>\n",
       "      <td>1</td>\n",
       "      <td>No</td>\n",
       "      <td>No phone service</td>\n",
       "      <td>DSL</td>\n",
       "      <td>No</td>\n",
       "      <td>...</td>\n",
       "      <td>No</td>\n",
       "      <td>No</td>\n",
       "      <td>No</td>\n",
       "      <td>No</td>\n",
       "      <td>Month-to-month</td>\n",
       "      <td>Yes</td>\n",
       "      <td>Electronic check</td>\n",
       "      <td>29.850</td>\n",
       "      <td>29.85</td>\n",
       "      <td>No</td>\n",
       "    </tr>\n",
       "    <tr>\n",
       "      <th>1</th>\n",
       "      <td>5575-GNVDE</td>\n",
       "      <td>Male</td>\n",
       "      <td>0</td>\n",
       "      <td>No</td>\n",
       "      <td>No</td>\n",
       "      <td>34</td>\n",
       "      <td>Yes</td>\n",
       "      <td>No</td>\n",
       "      <td>DSL</td>\n",
       "      <td>Yes</td>\n",
       "      <td>...</td>\n",
       "      <td>Yes</td>\n",
       "      <td>No</td>\n",
       "      <td>No</td>\n",
       "      <td>No</td>\n",
       "      <td>One year</td>\n",
       "      <td>No</td>\n",
       "      <td>Mailed check</td>\n",
       "      <td>56.950</td>\n",
       "      <td>1889.5</td>\n",
       "      <td>No</td>\n",
       "    </tr>\n",
       "    <tr>\n",
       "      <th>2</th>\n",
       "      <td>3668-QPYBK</td>\n",
       "      <td>Male</td>\n",
       "      <td>0</td>\n",
       "      <td>No</td>\n",
       "      <td>No</td>\n",
       "      <td>2</td>\n",
       "      <td>Yes</td>\n",
       "      <td>No</td>\n",
       "      <td>DSL</td>\n",
       "      <td>Yes</td>\n",
       "      <td>...</td>\n",
       "      <td>No</td>\n",
       "      <td>No</td>\n",
       "      <td>No</td>\n",
       "      <td>No</td>\n",
       "      <td>Month-to-month</td>\n",
       "      <td>Yes</td>\n",
       "      <td>Mailed check</td>\n",
       "      <td>53.850</td>\n",
       "      <td>108.15</td>\n",
       "      <td>Yes</td>\n",
       "    </tr>\n",
       "    <tr>\n",
       "      <th>3</th>\n",
       "      <td>7795-CFOCW</td>\n",
       "      <td>Male</td>\n",
       "      <td>0</td>\n",
       "      <td>No</td>\n",
       "      <td>No</td>\n",
       "      <td>45</td>\n",
       "      <td>No</td>\n",
       "      <td>No phone service</td>\n",
       "      <td>DSL</td>\n",
       "      <td>Yes</td>\n",
       "      <td>...</td>\n",
       "      <td>Yes</td>\n",
       "      <td>Yes</td>\n",
       "      <td>No</td>\n",
       "      <td>No</td>\n",
       "      <td>One year</td>\n",
       "      <td>No</td>\n",
       "      <td>Bank transfer (automatic)</td>\n",
       "      <td>42.300</td>\n",
       "      <td>1840.75</td>\n",
       "      <td>No</td>\n",
       "    </tr>\n",
       "    <tr>\n",
       "      <th>4</th>\n",
       "      <td>9237-HQITU</td>\n",
       "      <td>Female</td>\n",
       "      <td>0</td>\n",
       "      <td>No</td>\n",
       "      <td>No</td>\n",
       "      <td>2</td>\n",
       "      <td>Yes</td>\n",
       "      <td>No</td>\n",
       "      <td>Fiber optic</td>\n",
       "      <td>No</td>\n",
       "      <td>...</td>\n",
       "      <td>No</td>\n",
       "      <td>No</td>\n",
       "      <td>No</td>\n",
       "      <td>No</td>\n",
       "      <td>Month-to-month</td>\n",
       "      <td>Yes</td>\n",
       "      <td>Electronic check</td>\n",
       "      <td>70.700</td>\n",
       "      <td>151.65</td>\n",
       "      <td>Yes</td>\n",
       "    </tr>\n",
       "  </tbody>\n",
       "</table>\n",
       "<p>5 rows × 21 columns</p>\n",
       "</div>"
      ],
      "text/plain": [
       "   customerID  gender  SeniorCitizen Partner Dependents  tenure PhoneService  \\\n",
       "0  7590-VHVEG  Female              0     Yes         No       1           No   \n",
       "1  5575-GNVDE    Male              0      No         No      34          Yes   \n",
       "2  3668-QPYBK    Male              0      No         No       2          Yes   \n",
       "3  7795-CFOCW    Male              0      No         No      45           No   \n",
       "4  9237-HQITU  Female              0      No         No       2          Yes   \n",
       "\n",
       "      MultipleLines InternetService OnlineSecurity  ... DeviceProtection  \\\n",
       "0  No phone service             DSL             No  ...               No   \n",
       "1                No             DSL            Yes  ...              Yes   \n",
       "2                No             DSL            Yes  ...               No   \n",
       "3  No phone service             DSL            Yes  ...              Yes   \n",
       "4                No     Fiber optic             No  ...               No   \n",
       "\n",
       "  TechSupport StreamingTV StreamingMovies        Contract PaperlessBilling  \\\n",
       "0          No          No              No  Month-to-month              Yes   \n",
       "1          No          No              No        One year               No   \n",
       "2          No          No              No  Month-to-month              Yes   \n",
       "3         Yes          No              No        One year               No   \n",
       "4          No          No              No  Month-to-month              Yes   \n",
       "\n",
       "               PaymentMethod MonthlyCharges  TotalCharges Churn  \n",
       "0           Electronic check         29.850         29.85    No  \n",
       "1               Mailed check         56.950        1889.5    No  \n",
       "2               Mailed check         53.850        108.15   Yes  \n",
       "3  Bank transfer (automatic)         42.300       1840.75    No  \n",
       "4           Electronic check         70.700        151.65   Yes  \n",
       "\n",
       "[5 rows x 21 columns]"
      ]
     },
     "execution_count": 29,
     "metadata": {},
     "output_type": "execute_result"
    }
   ],
   "source": [
    "#Importando um arquivo texto no formato .csv (arquivos texto separados por vírgulas)\n",
    "telco=pd.read_csv(\"Telco Customer Churn.csv\", sep = ',')\n",
    "telco.head()"
   ]
  },
  {
   "cell_type": "code",
   "execution_count": 30,
   "id": "930ef2f0",
   "metadata": {},
   "outputs": [
    {
     "ename": "FileNotFoundError",
     "evalue": "[Errno 2] No such file or directory: 'PeopleAnalytics.txt'",
     "output_type": "error",
     "traceback": [
      "\u001b[1;31m---------------------------------------------------------------------------\u001b[0m",
      "\u001b[1;31mFileNotFoundError\u001b[0m                         Traceback (most recent call last)",
      "\u001b[1;32m<ipython-input-30-28212ea048e0>\u001b[0m in \u001b[0;36m<module>\u001b[1;34m\u001b[0m\n\u001b[0;32m      1\u001b[0m \u001b[1;31m#Importando um arquivo no formato .txt\u001b[0m\u001b[1;33m\u001b[0m\u001b[1;33m\u001b[0m\u001b[1;33m\u001b[0m\u001b[0m\n\u001b[1;32m----> 2\u001b[1;33m \u001b[0mpeople\u001b[0m\u001b[1;33m=\u001b[0m\u001b[0mpd\u001b[0m\u001b[1;33m.\u001b[0m\u001b[0mread_csv\u001b[0m\u001b[1;33m(\u001b[0m\u001b[1;34m\"PeopleAnalytics.txt\"\u001b[0m\u001b[1;33m,\u001b[0m \u001b[0msep\u001b[0m\u001b[1;33m=\u001b[0m\u001b[1;34m\"\\t\"\u001b[0m\u001b[1;33m,\u001b[0m \u001b[0musecols\u001b[0m\u001b[1;33m=\u001b[0m\u001b[1;33m[\u001b[0m\u001b[1;34m\"Attrition\"\u001b[0m\u001b[1;33m,\u001b[0m \u001b[1;34m\"Age\"\u001b[0m\u001b[1;33m,\u001b[0m \u001b[1;34m\"StockOptionLevel\"\u001b[0m\u001b[1;33m]\u001b[0m\u001b[1;33m)\u001b[0m\u001b[1;33m\u001b[0m\u001b[1;33m\u001b[0m\u001b[0m\n\u001b[0m\u001b[0;32m      3\u001b[0m \u001b[0mpeople\u001b[0m\u001b[1;33m.\u001b[0m\u001b[0mhead\u001b[0m\u001b[1;33m(\u001b[0m\u001b[1;33m)\u001b[0m\u001b[1;33m\u001b[0m\u001b[1;33m\u001b[0m\u001b[0m\n",
      "\u001b[1;32m~\\anaconda3\\lib\\site-packages\\pandas\\io\\parsers.py\u001b[0m in \u001b[0;36mread_csv\u001b[1;34m(filepath_or_buffer, sep, delimiter, header, names, index_col, usecols, squeeze, prefix, mangle_dupe_cols, dtype, engine, converters, true_values, false_values, skipinitialspace, skiprows, skipfooter, nrows, na_values, keep_default_na, na_filter, verbose, skip_blank_lines, parse_dates, infer_datetime_format, keep_date_col, date_parser, dayfirst, cache_dates, iterator, chunksize, compression, thousands, decimal, lineterminator, quotechar, quoting, doublequote, escapechar, comment, encoding, dialect, error_bad_lines, warn_bad_lines, delim_whitespace, low_memory, memory_map, float_precision, storage_options)\u001b[0m\n\u001b[0;32m    608\u001b[0m     \u001b[0mkwds\u001b[0m\u001b[1;33m.\u001b[0m\u001b[0mupdate\u001b[0m\u001b[1;33m(\u001b[0m\u001b[0mkwds_defaults\u001b[0m\u001b[1;33m)\u001b[0m\u001b[1;33m\u001b[0m\u001b[1;33m\u001b[0m\u001b[0m\n\u001b[0;32m    609\u001b[0m \u001b[1;33m\u001b[0m\u001b[0m\n\u001b[1;32m--> 610\u001b[1;33m     \u001b[1;32mreturn\u001b[0m \u001b[0m_read\u001b[0m\u001b[1;33m(\u001b[0m\u001b[0mfilepath_or_buffer\u001b[0m\u001b[1;33m,\u001b[0m \u001b[0mkwds\u001b[0m\u001b[1;33m)\u001b[0m\u001b[1;33m\u001b[0m\u001b[1;33m\u001b[0m\u001b[0m\n\u001b[0m\u001b[0;32m    611\u001b[0m \u001b[1;33m\u001b[0m\u001b[0m\n\u001b[0;32m    612\u001b[0m \u001b[1;33m\u001b[0m\u001b[0m\n",
      "\u001b[1;32m~\\anaconda3\\lib\\site-packages\\pandas\\io\\parsers.py\u001b[0m in \u001b[0;36m_read\u001b[1;34m(filepath_or_buffer, kwds)\u001b[0m\n\u001b[0;32m    460\u001b[0m \u001b[1;33m\u001b[0m\u001b[0m\n\u001b[0;32m    461\u001b[0m     \u001b[1;31m# Create the parser.\u001b[0m\u001b[1;33m\u001b[0m\u001b[1;33m\u001b[0m\u001b[1;33m\u001b[0m\u001b[0m\n\u001b[1;32m--> 462\u001b[1;33m     \u001b[0mparser\u001b[0m \u001b[1;33m=\u001b[0m \u001b[0mTextFileReader\u001b[0m\u001b[1;33m(\u001b[0m\u001b[0mfilepath_or_buffer\u001b[0m\u001b[1;33m,\u001b[0m \u001b[1;33m**\u001b[0m\u001b[0mkwds\u001b[0m\u001b[1;33m)\u001b[0m\u001b[1;33m\u001b[0m\u001b[1;33m\u001b[0m\u001b[0m\n\u001b[0m\u001b[0;32m    463\u001b[0m \u001b[1;33m\u001b[0m\u001b[0m\n\u001b[0;32m    464\u001b[0m     \u001b[1;32mif\u001b[0m \u001b[0mchunksize\u001b[0m \u001b[1;32mor\u001b[0m \u001b[0miterator\u001b[0m\u001b[1;33m:\u001b[0m\u001b[1;33m\u001b[0m\u001b[1;33m\u001b[0m\u001b[0m\n",
      "\u001b[1;32m~\\anaconda3\\lib\\site-packages\\pandas\\io\\parsers.py\u001b[0m in \u001b[0;36m__init__\u001b[1;34m(self, f, engine, **kwds)\u001b[0m\n\u001b[0;32m    817\u001b[0m             \u001b[0mself\u001b[0m\u001b[1;33m.\u001b[0m\u001b[0moptions\u001b[0m\u001b[1;33m[\u001b[0m\u001b[1;34m\"has_index_names\"\u001b[0m\u001b[1;33m]\u001b[0m \u001b[1;33m=\u001b[0m \u001b[0mkwds\u001b[0m\u001b[1;33m[\u001b[0m\u001b[1;34m\"has_index_names\"\u001b[0m\u001b[1;33m]\u001b[0m\u001b[1;33m\u001b[0m\u001b[1;33m\u001b[0m\u001b[0m\n\u001b[0;32m    818\u001b[0m \u001b[1;33m\u001b[0m\u001b[0m\n\u001b[1;32m--> 819\u001b[1;33m         \u001b[0mself\u001b[0m\u001b[1;33m.\u001b[0m\u001b[0m_engine\u001b[0m \u001b[1;33m=\u001b[0m \u001b[0mself\u001b[0m\u001b[1;33m.\u001b[0m\u001b[0m_make_engine\u001b[0m\u001b[1;33m(\u001b[0m\u001b[0mself\u001b[0m\u001b[1;33m.\u001b[0m\u001b[0mengine\u001b[0m\u001b[1;33m)\u001b[0m\u001b[1;33m\u001b[0m\u001b[1;33m\u001b[0m\u001b[0m\n\u001b[0m\u001b[0;32m    820\u001b[0m \u001b[1;33m\u001b[0m\u001b[0m\n\u001b[0;32m    821\u001b[0m     \u001b[1;32mdef\u001b[0m \u001b[0mclose\u001b[0m\u001b[1;33m(\u001b[0m\u001b[0mself\u001b[0m\u001b[1;33m)\u001b[0m\u001b[1;33m:\u001b[0m\u001b[1;33m\u001b[0m\u001b[1;33m\u001b[0m\u001b[0m\n",
      "\u001b[1;32m~\\anaconda3\\lib\\site-packages\\pandas\\io\\parsers.py\u001b[0m in \u001b[0;36m_make_engine\u001b[1;34m(self, engine)\u001b[0m\n\u001b[0;32m   1048\u001b[0m             )\n\u001b[0;32m   1049\u001b[0m         \u001b[1;31m# error: Too many arguments for \"ParserBase\"\u001b[0m\u001b[1;33m\u001b[0m\u001b[1;33m\u001b[0m\u001b[1;33m\u001b[0m\u001b[0m\n\u001b[1;32m-> 1050\u001b[1;33m         \u001b[1;32mreturn\u001b[0m \u001b[0mmapping\u001b[0m\u001b[1;33m[\u001b[0m\u001b[0mengine\u001b[0m\u001b[1;33m]\u001b[0m\u001b[1;33m(\u001b[0m\u001b[0mself\u001b[0m\u001b[1;33m.\u001b[0m\u001b[0mf\u001b[0m\u001b[1;33m,\u001b[0m \u001b[1;33m**\u001b[0m\u001b[0mself\u001b[0m\u001b[1;33m.\u001b[0m\u001b[0moptions\u001b[0m\u001b[1;33m)\u001b[0m  \u001b[1;31m# type: ignore[call-arg]\u001b[0m\u001b[1;33m\u001b[0m\u001b[1;33m\u001b[0m\u001b[0m\n\u001b[0m\u001b[0;32m   1051\u001b[0m \u001b[1;33m\u001b[0m\u001b[0m\n\u001b[0;32m   1052\u001b[0m     \u001b[1;32mdef\u001b[0m \u001b[0m_failover_to_python\u001b[0m\u001b[1;33m(\u001b[0m\u001b[0mself\u001b[0m\u001b[1;33m)\u001b[0m\u001b[1;33m:\u001b[0m\u001b[1;33m\u001b[0m\u001b[1;33m\u001b[0m\u001b[0m\n",
      "\u001b[1;32m~\\anaconda3\\lib\\site-packages\\pandas\\io\\parsers.py\u001b[0m in \u001b[0;36m__init__\u001b[1;34m(self, src, **kwds)\u001b[0m\n\u001b[0;32m   1865\u001b[0m \u001b[1;33m\u001b[0m\u001b[0m\n\u001b[0;32m   1866\u001b[0m         \u001b[1;31m# open handles\u001b[0m\u001b[1;33m\u001b[0m\u001b[1;33m\u001b[0m\u001b[1;33m\u001b[0m\u001b[0m\n\u001b[1;32m-> 1867\u001b[1;33m         \u001b[0mself\u001b[0m\u001b[1;33m.\u001b[0m\u001b[0m_open_handles\u001b[0m\u001b[1;33m(\u001b[0m\u001b[0msrc\u001b[0m\u001b[1;33m,\u001b[0m \u001b[0mkwds\u001b[0m\u001b[1;33m)\u001b[0m\u001b[1;33m\u001b[0m\u001b[1;33m\u001b[0m\u001b[0m\n\u001b[0m\u001b[0;32m   1868\u001b[0m         \u001b[1;32massert\u001b[0m \u001b[0mself\u001b[0m\u001b[1;33m.\u001b[0m\u001b[0mhandles\u001b[0m \u001b[1;32mis\u001b[0m \u001b[1;32mnot\u001b[0m \u001b[1;32mNone\u001b[0m\u001b[1;33m\u001b[0m\u001b[1;33m\u001b[0m\u001b[0m\n\u001b[0;32m   1869\u001b[0m         \u001b[1;32mfor\u001b[0m \u001b[0mkey\u001b[0m \u001b[1;32min\u001b[0m \u001b[1;33m(\u001b[0m\u001b[1;34m\"storage_options\"\u001b[0m\u001b[1;33m,\u001b[0m \u001b[1;34m\"encoding\"\u001b[0m\u001b[1;33m,\u001b[0m \u001b[1;34m\"memory_map\"\u001b[0m\u001b[1;33m,\u001b[0m \u001b[1;34m\"compression\"\u001b[0m\u001b[1;33m)\u001b[0m\u001b[1;33m:\u001b[0m\u001b[1;33m\u001b[0m\u001b[1;33m\u001b[0m\u001b[0m\n",
      "\u001b[1;32m~\\anaconda3\\lib\\site-packages\\pandas\\io\\parsers.py\u001b[0m in \u001b[0;36m_open_handles\u001b[1;34m(self, src, kwds)\u001b[0m\n\u001b[0;32m   1360\u001b[0m         \u001b[0mLet\u001b[0m \u001b[0mthe\u001b[0m \u001b[0mreaders\u001b[0m \u001b[0mopen\u001b[0m \u001b[0mIOHanldes\u001b[0m \u001b[0mafter\u001b[0m \u001b[0mthey\u001b[0m \u001b[0mare\u001b[0m \u001b[0mdone\u001b[0m \u001b[1;32mwith\u001b[0m \u001b[0mtheir\u001b[0m \u001b[0mpotential\u001b[0m \u001b[0mraises\u001b[0m\u001b[1;33m.\u001b[0m\u001b[1;33m\u001b[0m\u001b[1;33m\u001b[0m\u001b[0m\n\u001b[0;32m   1361\u001b[0m         \"\"\"\n\u001b[1;32m-> 1362\u001b[1;33m         self.handles = get_handle(\n\u001b[0m\u001b[0;32m   1363\u001b[0m             \u001b[0msrc\u001b[0m\u001b[1;33m,\u001b[0m\u001b[1;33m\u001b[0m\u001b[1;33m\u001b[0m\u001b[0m\n\u001b[0;32m   1364\u001b[0m             \u001b[1;34m\"r\"\u001b[0m\u001b[1;33m,\u001b[0m\u001b[1;33m\u001b[0m\u001b[1;33m\u001b[0m\u001b[0m\n",
      "\u001b[1;32m~\\anaconda3\\lib\\site-packages\\pandas\\io\\common.py\u001b[0m in \u001b[0;36mget_handle\u001b[1;34m(path_or_buf, mode, encoding, compression, memory_map, is_text, errors, storage_options)\u001b[0m\n\u001b[0;32m    640\u001b[0m                 \u001b[0merrors\u001b[0m \u001b[1;33m=\u001b[0m \u001b[1;34m\"replace\"\u001b[0m\u001b[1;33m\u001b[0m\u001b[1;33m\u001b[0m\u001b[0m\n\u001b[0;32m    641\u001b[0m             \u001b[1;31m# Encoding\u001b[0m\u001b[1;33m\u001b[0m\u001b[1;33m\u001b[0m\u001b[1;33m\u001b[0m\u001b[0m\n\u001b[1;32m--> 642\u001b[1;33m             handle = open(\n\u001b[0m\u001b[0;32m    643\u001b[0m                 \u001b[0mhandle\u001b[0m\u001b[1;33m,\u001b[0m\u001b[1;33m\u001b[0m\u001b[1;33m\u001b[0m\u001b[0m\n\u001b[0;32m    644\u001b[0m                 \u001b[0mioargs\u001b[0m\u001b[1;33m.\u001b[0m\u001b[0mmode\u001b[0m\u001b[1;33m,\u001b[0m\u001b[1;33m\u001b[0m\u001b[1;33m\u001b[0m\u001b[0m\n",
      "\u001b[1;31mFileNotFoundError\u001b[0m: [Errno 2] No such file or directory: 'PeopleAnalytics.txt'"
     ]
    }
   ],
   "source": [
    "#Importando um arquivo no formato .txt\n",
    "people=pd.read_csv(\"PeopleAnalytics.txt\", sep=\"\\t\", usecols=[\"Attrition\", \"Age\", \"StockOptionLevel\"])\n",
    "people.head()"
   ]
  },
  {
   "cell_type": "markdown",
   "id": "78dfebb5",
   "metadata": {},
   "source": [
    "### Exemplo VI - Descrição básica dos dados"
   ]
  },
  {
   "cell_type": "code",
   "execution_count": null,
   "id": "a679f512",
   "metadata": {},
   "outputs": [],
   "source": [
    "#Análise descritiva básica do dataframe sobre Indicadores Sócio-Demográficos\n",
    "indsocdem.describe().round(3)"
   ]
  },
  {
   "cell_type": "markdown",
   "id": "87fa192c",
   "metadata": {},
   "source": [
    "### Exemplo VII - Alterando nome de colunas"
   ]
  },
  {
   "cell_type": "code",
   "execution_count": null,
   "id": "d907f550",
   "metadata": {},
   "outputs": [],
   "source": [
    "#Gerando um dataframe fake\n",
    "dataframe = pd.DataFrame({\n",
    "    \"Nome\": ['Tonho', 'Nicão', 'Jão', 'Pedrão'],\n",
    "    \"Idade\": [15, 26, 17, 28]\n",
    "})\n",
    "\n",
    "print(dataframe)"
   ]
  },
  {
   "cell_type": "code",
   "execution_count": null,
   "id": "bbd5f4ab",
   "metadata": {
    "scrolled": true
   },
   "outputs": [],
   "source": [
    "#Alterando nomes das colunas - Opção I\n",
    "dataframe.columns = ['Nome_Colega', 'Idade_Anos']\n",
    "print(dataframe)"
   ]
  },
  {
   "cell_type": "code",
   "execution_count": null,
   "id": "c2de43f6",
   "metadata": {},
   "outputs": [],
   "source": [
    "#Alterando nomes das colunas - Opção II\n",
    "dataframe=dataframe.rename(columns={\"Nome_Colega\":\"Friends_Name\", \"Idade_Anos\":\"Age_Years\"})\n",
    "print(dataframe)"
   ]
  },
  {
   "cell_type": "markdown",
   "id": "3b5c3f2a",
   "metadata": {},
   "source": [
    "### Exemplo VIII - Excluindo colunas do dataframe\n"
   ]
  },
  {
   "cell_type": "code",
   "execution_count": null,
   "id": "a0b84534",
   "metadata": {},
   "outputs": [],
   "source": [
    "#Excluindo a coluna \"Age\" do dataframe People\n",
    "print(people)\n",
    "people.drop([\"Age\"],axis=1, inplace=True)\n",
    "print(people)"
   ]
  },
  {
   "cell_type": "markdown",
   "id": "1f6a13d5",
   "metadata": {},
   "source": [
    "### Exemplo IX - Criando novas colunas transformadas"
   ]
  },
  {
   "cell_type": "code",
   "execution_count": null,
   "id": "36cb848f",
   "metadata": {},
   "outputs": [],
   "source": [
    "#Criando um dataset fake\n",
    "base = pd.DataFrame({'Data':['10/2/2021', '11/2/2021', '12/2/2021', '13/2/2021'],\n",
    "                    'Evento':['Música', 'Poesia', 'Teatro', 'Comédia'],\n",
    "                    'Custo':[10000, 5000, 15000, 2000]})\n",
    "print(base)"
   ]
  },
  {
   "cell_type": "code",
   "execution_count": null,
   "id": "07193856",
   "metadata": {},
   "outputs": [],
   "source": [
    "#Calcula preço com desconto de 10% - Opção I\n",
    "base['Custo_com_Desconto'] = base.apply(lambda row: row.Custo - \n",
    "                                  (row.Custo * 0.1), axis = 1)\n",
    "print(base)"
   ]
  },
  {
   "cell_type": "code",
   "execution_count": null,
   "id": "413d7a07",
   "metadata": {},
   "outputs": [],
   "source": [
    "#Calcula preço com desconto de 10% - Opção II\n",
    "base['Custo_com_Desconto_I'] = base['Custo'] - (0.1 * base['Custo'])\n",
    "print(base)"
   ]
  },
  {
   "cell_type": "code",
   "execution_count": null,
   "id": "3f256617",
   "metadata": {},
   "outputs": [],
   "source": [
    "#Categorizando a variável Custo\n",
    "import numpy as np\n",
    "condicoes=[(base[\"Custo\"]<=2500),(base[\"Custo\"]>2500) & (base[\"Custo\"]<=5000),(base[\"Custo\"]>5000)]\n",
    "classe=[\"Baixo\",\"Médio\",\"Alto\"]\n",
    "base['Fx_Custo'] = np.select(condicoes, classe, default=\"Sem Info\")\n",
    "base           "
   ]
  },
  {
   "cell_type": "markdown",
   "id": "2b439528",
   "metadata": {},
   "source": [
    "### Exemplo X - Agrupando dados"
   ]
  },
  {
   "cell_type": "code",
   "execution_count": null,
   "id": "3bdeab39",
   "metadata": {},
   "outputs": [],
   "source": [
    "df = pd.DataFrame({'coluna_I': ['A', 'B', 'C', 'A', 'C',\n",
    "                               'C', 'B', 'D', 'D', 'A'],\n",
    "                   'coluna_II': [5, 10, 15, 20, 25, 30, \n",
    "                             35, 40, 45, 50]})\n",
    "df"
   ]
  },
  {
   "cell_type": "code",
   "execution_count": null,
   "id": "7f19babc",
   "metadata": {},
   "outputs": [],
   "source": [
    "#Agrupando os dados da coluna_I e somando os valores da coluna_II para os valores únicos da coluna_I - Opção I\n",
    "df1=df.groupby('coluna_I')['coluna_II'].sum()\n",
    "df1"
   ]
  },
  {
   "cell_type": "code",
   "execution_count": null,
   "id": "c4590cf3",
   "metadata": {},
   "outputs": [],
   "source": [
    "#Agrupando os dados da coluna_I e somando os valores da coluna_II para os valores únicos da coluna_I - Opção II\n",
    "df.groupby(\"coluna_I\").agg({\"coluna_II\":\"sum\"})"
   ]
  },
  {
   "cell_type": "code",
   "execution_count": null,
   "id": "711c7e83",
   "metadata": {},
   "outputs": [],
   "source": [
    "#Agrupando os dados da coluna_I e somando os valores da coluna_II para os valores únicos da coluna_I - Opção III\n",
    "df.groupby(\"coluna_I\").agg({\"coluna_II\":[\"sum\",\"mean\"]})"
   ]
  },
  {
   "cell_type": "markdown",
   "id": "ccd424f6",
   "metadata": {},
   "source": [
    "### Exemplo XI - Cruzando dados de diferentes dataframes"
   ]
  },
  {
   "cell_type": "code",
   "execution_count": null,
   "id": "25cbd93b",
   "metadata": {},
   "outputs": [],
   "source": [
    "#Criando um dataset fake\n",
    "base_A=pd.DataFrame({\"id\":[1,2,3,4,5,6,7],\"saldo\":[100,200,100,300,400,500,690]})\n",
    "print(base_A)\n",
    "base_B=pd.DataFrame({\"id\":[1,2,5,6,7],\"idade_empresa\":[15,22,11,13,8]})\n",
    "print(base_B)"
   ]
  },
  {
   "cell_type": "code",
   "execution_count": null,
   "id": "7a20d946",
   "metadata": {},
   "outputs": [],
   "source": [
    "#Cruzando dados da tabela A e da B - inner join\n",
    "pd.merge(base_A,base_B,on=\"id\",how=\"inner\")"
   ]
  },
  {
   "cell_type": "code",
   "execution_count": null,
   "id": "2bfc31f9",
   "metadata": {},
   "outputs": [],
   "source": [
    "#Cruzando dados da tabela A e da B - left join\n",
    "pd.merge(base_A,base_B,on=\"id\",how=\"left\")"
   ]
  },
  {
   "cell_type": "code",
   "execution_count": null,
   "id": "d2da2f4e",
   "metadata": {},
   "outputs": [],
   "source": [
    "#Cruzando dados da tabela A e da B - right join\n",
    "pd.merge(base_A,base_B,on=\"id\",how=\"right\")"
   ]
  },
  {
   "cell_type": "code",
   "execution_count": null,
   "id": "469ea00b",
   "metadata": {},
   "outputs": [],
   "source": [
    "#Cruzando dados da tabela A e da B - full join\n",
    "pd.merge(base_A,base_B,on=\"id\",how=\"outer\")"
   ]
  },
  {
   "cell_type": "markdown",
   "id": "084eb9be",
   "metadata": {},
   "source": [
    "### Exemplo XII - Gerando uma amostra aleatória do dataframe"
   ]
  },
  {
   "cell_type": "code",
   "execution_count": null,
   "id": "9f00d71a",
   "metadata": {},
   "outputs": [],
   "source": [
    "#Vendo o dataframe indsocdem\n",
    "indsocdem"
   ]
  },
  {
   "cell_type": "code",
   "execution_count": null,
   "id": "26da57a8",
   "metadata": {},
   "outputs": [],
   "source": [
    "#Extraindo uma amostra de 10 municipios da base original\n",
    "indsocdem.sample(5)"
   ]
  },
  {
   "cell_type": "code",
   "execution_count": null,
   "id": "ef844faa",
   "metadata": {},
   "outputs": [],
   "source": [
    "#Extraindo uma amostra de 0.01% dos municipios da base original\n",
    "indsocdem.sample(frac=0.001)"
   ]
  },
  {
   "cell_type": "code",
   "execution_count": null,
   "id": "f784ba23",
   "metadata": {},
   "outputs": [],
   "source": [
    "#Extraindo uma amostra de 0.01% dos municipios da base original, mas fixando o resultado inicial\n",
    "indsocdem.sample(frac=0.001,random_state=123)"
   ]
  },
  {
   "cell_type": "code",
   "execution_count": null,
   "id": "8b56c014",
   "metadata": {},
   "outputs": [],
   "source": []
  }
 ],
 "metadata": {
  "kernelspec": {
   "display_name": "Python 3",
   "language": "python",
   "name": "python3"
  },
  "language_info": {
   "codemirror_mode": {
    "name": "ipython",
    "version": 3
   },
   "file_extension": ".py",
   "mimetype": "text/x-python",
   "name": "python",
   "nbconvert_exporter": "python",
   "pygments_lexer": "ipython3",
   "version": "3.8.8"
  }
 },
 "nbformat": 4,
 "nbformat_minor": 5
}
