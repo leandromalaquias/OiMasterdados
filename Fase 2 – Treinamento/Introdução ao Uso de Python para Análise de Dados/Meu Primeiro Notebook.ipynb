{
 "cells": [
  {
   "cell_type": "markdown",
   "id": "b3883ebc",
   "metadata": {},
   "source": [
    "## <center>Meus Primeiros Cálculos em um Jupyter Notebook!</center>\n",
    "### 1. Introdução\n",
    "### 2. Metodologia\n",
    "### 3. Análises\n",
    "### 4. Conclusão"
   ]
  },
  {
   "cell_type": "code",
   "execution_count": 1,
   "id": "cf16ce11",
   "metadata": {},
   "outputs": [
    {
     "data": {
      "text/plain": [
       "5"
      ]
     },
     "execution_count": 1,
     "metadata": {},
     "output_type": "execute_result"
    }
   ],
   "source": [
    "#Soma\n",
    "2+3"
   ]
  },
  {
   "cell_type": "code",
   "execution_count": 2,
   "id": "318eb6dd",
   "metadata": {},
   "outputs": [
    {
     "data": {
      "text/plain": [
       "2"
      ]
     },
     "execution_count": 2,
     "metadata": {},
     "output_type": "execute_result"
    }
   ],
   "source": [
    "#Subtração\n",
    "3-1\n"
   ]
  },
  {
   "cell_type": "code",
   "execution_count": 3,
   "id": "26b74d21",
   "metadata": {},
   "outputs": [
    {
     "data": {
      "text/plain": [
       "24"
      ]
     },
     "execution_count": 3,
     "metadata": {},
     "output_type": "execute_result"
    }
   ],
   "source": [
    "#Multiplicação\n",
    "4*6\n"
   ]
  },
  {
   "cell_type": "code",
   "execution_count": 4,
   "id": "2a06f02d",
   "metadata": {},
   "outputs": [
    {
     "data": {
      "text/plain": [
       "2.3333333333333335"
      ]
     },
     "execution_count": 4,
     "metadata": {},
     "output_type": "execute_result"
    }
   ],
   "source": [
    "#Divisão\n",
    "7/3"
   ]
  },
  {
   "cell_type": "code",
   "execution_count": 5,
   "id": "76fbf047",
   "metadata": {},
   "outputs": [
    {
     "data": {
      "text/plain": [
       "16"
      ]
     },
     "execution_count": 5,
     "metadata": {},
     "output_type": "execute_result"
    }
   ],
   "source": [
    "#Potenciação\n",
    "4**2"
   ]
  },
  {
   "cell_type": "code",
   "execution_count": null,
   "id": "002361f9",
   "metadata": {},
   "outputs": [],
   "source": []
  }
 ],
 "metadata": {
  "kernelspec": {
   "display_name": "Python 3",
   "language": "python",
   "name": "python3"
  },
  "language_info": {
   "codemirror_mode": {
    "name": "ipython",
    "version": 3
   },
   "file_extension": ".py",
   "mimetype": "text/x-python",
   "name": "python",
   "nbconvert_exporter": "python",
   "pygments_lexer": "ipython3",
   "version": "3.8.8"
  }
 },
 "nbformat": 4,
 "nbformat_minor": 5
}
