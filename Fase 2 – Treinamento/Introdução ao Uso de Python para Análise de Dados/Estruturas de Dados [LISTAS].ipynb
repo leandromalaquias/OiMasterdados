{
 "cells": [
  {
   "cell_type": "markdown",
   "id": "9e49cf97",
   "metadata": {},
   "source": [
    "## Listas em Python"
   ]
  },
  {
   "cell_type": "code",
   "execution_count": 5,
   "id": "08cab3d0",
   "metadata": {},
   "outputs": [
    {
     "name": "stdout",
     "output_type": "stream",
     "text": [
      "[1, 3, 4, 5]\n",
      "1;3;4;5\n"
     ]
    },
    {
     "data": {
      "text/plain": [
       "list"
      ]
     },
     "execution_count": 5,
     "metadata": {},
     "output_type": "execute_result"
    }
   ],
   "source": [
    "#Exemplo 1 - Lista numérica\n",
    "lista1=[1,3,4,5]\n",
    "print(lista1)\n",
    "print(*lista1, sep = ';')\n",
    "type(lista1)"
   ]
  },
  {
   "cell_type": "code",
   "execution_count": 15,
   "id": "e6409bdd",
   "metadata": {},
   "outputs": [
    {
     "name": "stdout",
     "output_type": "stream",
     "text": [
      "['Bruno', 'Caio', 'Marina', 'Paula']\n",
      "Bruno,Caio,Marina,Paula\n"
     ]
    },
    {
     "data": {
      "text/plain": [
       "list"
      ]
     },
     "execution_count": 15,
     "metadata": {},
     "output_type": "execute_result"
    }
   ],
   "source": [
    "#Exemplo2 - Lista com strings\n",
    "lista2=[\"Bruno\", 'Caio', 'Marina', \"Paula\"]\n",
    "print(lista2)\n",
    "print(*lista2, sep = ',')\n",
    "type(lista2)"
   ]
  },
  {
   "cell_type": "code",
   "execution_count": 7,
   "id": "46d8e1e4",
   "metadata": {},
   "outputs": [
    {
     "name": "stdout",
     "output_type": "stream",
     "text": [
      "[25, 44, 'João', 'Paulo']\n",
      "25 - 44 - João - Paulo\n"
     ]
    },
    {
     "data": {
      "text/plain": [
       "list"
      ]
     },
     "execution_count": 7,
     "metadata": {},
     "output_type": "execute_result"
    }
   ],
   "source": [
    "#Exemplo3 - Lista com números e strings\n",
    "lista3=[25,44,\"João\", \"Paulo\"]\n",
    "print(lista3)\n",
    "print(*lista3, sep = ' - ')\n",
    "type(lista3)"
   ]
  },
  {
   "cell_type": "code",
   "execution_count": 8,
   "id": "fb39b6d0",
   "metadata": {},
   "outputs": [
    {
     "name": "stdout",
     "output_type": "stream",
     "text": [
      "[1, 3, 4, 5]\n"
     ]
    },
    {
     "data": {
      "text/plain": [
       "13"
      ]
     },
     "execution_count": 8,
     "metadata": {},
     "output_type": "execute_result"
    }
   ],
   "source": [
    "#Operações básicas com listas - SOMA\n",
    "print(lista1)\n",
    "sum(lista1)\n"
   ]
  },
  {
   "cell_type": "code",
   "execution_count": 10,
   "id": "f1f49852",
   "metadata": {},
   "outputs": [
    {
     "name": "stdout",
     "output_type": "stream",
     "text": [
      "['Bruno', 'Caio', 'Marina', 'Paula']\n"
     ]
    },
    {
     "data": {
      "text/plain": [
       "4"
      ]
     },
     "execution_count": 10,
     "metadata": {},
     "output_type": "execute_result"
    }
   ],
   "source": [
    "#Operações básicas com listas - TAMANHO DA LISTA\n",
    "print(lista2)\n",
    "len(lista2)"
   ]
  },
  {
   "cell_type": "code",
   "execution_count": 11,
   "id": "e2ad4c54",
   "metadata": {
    "scrolled": true
   },
   "outputs": [
    {
     "name": "stdout",
     "output_type": "stream",
     "text": [
      "[1, 3, 4, 5]\n"
     ]
    },
    {
     "data": {
      "text/plain": [
       "3.25"
      ]
     },
     "execution_count": 11,
     "metadata": {},
     "output_type": "execute_result"
    }
   ],
   "source": [
    "#Operações básicas com listas - MÉDIA DOS VALORES DE UMA LISTA\n",
    "print(lista1)\n",
    "sum(lista1)/len(lista1)"
   ]
  },
  {
   "cell_type": "code",
   "execution_count": 17,
   "id": "c8b7e50e",
   "metadata": {},
   "outputs": [
    {
     "name": "stdout",
     "output_type": "stream",
     "text": [
      "['Bruno', 'Caio', 'Marina', 'Paula']\n",
      "['Caio', 'Marina', 'Paula']\n"
     ]
    }
   ],
   "source": [
    "#Removendo elementos de uma lista - Método REMOVE\n",
    "print(lista2)\n",
    "lista2.remove('Bruno')\n",
    "print(lista2)"
   ]
  },
  {
   "cell_type": "code",
   "execution_count": 18,
   "id": "e6d6c89b",
   "metadata": {},
   "outputs": [
    {
     "name": "stdout",
     "output_type": "stream",
     "text": [
      "['Rio', 'São Paulo', 'Belô']\n"
     ]
    }
   ],
   "source": [
    "#Removendo elementos de uma lista - Elementos repetidos - Método REMOVE\n",
    "lista4=[\"Rio\", 'Rio', \"São Paulo\", \"Belô\"]\n",
    "lista4.remove('Rio')\n",
    "print(lista4)"
   ]
  },
  {
   "cell_type": "code",
   "execution_count": 19,
   "id": "17e29c79",
   "metadata": {},
   "outputs": [
    {
     "name": "stdout",
     "output_type": "stream",
     "text": [
      "['Rio', 'São Paulo']\n"
     ]
    }
   ],
   "source": [
    "#Removendo elementos de uma lista - Método DEL\n",
    "del lista4[2]\n",
    "print(lista4)"
   ]
  },
  {
   "cell_type": "code",
   "execution_count": 20,
   "id": "0a497a10",
   "metadata": {},
   "outputs": [
    {
     "name": "stdout",
     "output_type": "stream",
     "text": [
      "['Banana', 'Banana', 'Melão', 'Cupuaçu', 'Goiaba']\n",
      "['Melão', 'Cupuaçu', 'Goiaba']\n"
     ]
    }
   ],
   "source": [
    "#Removendo elementos de uma lista - Método DEL\n",
    "lista4=[\"Banana\", \"Banana\", \"Melão\", \"Cupuaçu\", \"Goiaba\"]\n",
    "print(lista4)\n",
    "del lista4[0:2]\n",
    "print(lista4)"
   ]
  },
  {
   "cell_type": "code",
   "execution_count": 21,
   "id": "947ff806",
   "metadata": {},
   "outputs": [
    {
     "name": "stdout",
     "output_type": "stream",
     "text": [
      "Brasil\n",
      "Chile\n",
      "Uruguai\n",
      "Colômbia\n"
     ]
    }
   ],
   "source": [
    "#Selecionando elementos específicos de uma lista\n",
    "lista5=[\"Brasil\", \"Chile\", \"Uruguai\", \"Colômbia\"]\n",
    "print(lista5[0])\n",
    "print(lista5[1])\n",
    "print(lista5[2])\n",
    "print(lista5[3])"
   ]
  },
  {
   "cell_type": "code",
   "execution_count": 22,
   "id": "b4095d8c",
   "metadata": {},
   "outputs": [
    {
     "name": "stdout",
     "output_type": "stream",
     "text": [
      "Colômbia\n",
      "Uruguai\n",
      "Chile\n",
      "Brasil\n"
     ]
    }
   ],
   "source": [
    "#Selecionando elementos específicos de uma lista - De trás pra frente\n",
    "lista5=[\"Brasil\", \"Chile\", \"Uruguai\", \"Colômbia\"]\n",
    "print(lista5[-1])\n",
    "print(lista5[-2])\n",
    "print(lista5[-3])\n",
    "print(lista5[-4])"
   ]
  },
  {
   "cell_type": "code",
   "execution_count": 23,
   "id": "945a104b",
   "metadata": {},
   "outputs": [
    {
     "name": "stdout",
     "output_type": "stream",
     "text": [
      "['EUA', 'MÉXICO', 'CANADÁ', 'CUBA']\n"
     ]
    }
   ],
   "source": [
    "#Alterando elementos de uma lista\n",
    "lista6=[\"EUA\", \"MÉXICO\", \"CANADÁ\", \"PARAGUAI\"]\n",
    "lista6[3]=\"CUBA\"\n",
    "print(lista6)"
   ]
  },
  {
   "cell_type": "code",
   "execution_count": 24,
   "id": "4ae80e66",
   "metadata": {},
   "outputs": [
    {
     "ename": "IndexError",
     "evalue": "list assignment index out of range",
     "output_type": "error",
     "traceback": [
      "\u001b[1;31m---------------------------------------------------------------------------\u001b[0m",
      "\u001b[1;31mIndexError\u001b[0m                                Traceback (most recent call last)",
      "\u001b[1;32m~\\AppData\\Local\\Temp/ipykernel_11584/4193002934.py\u001b[0m in \u001b[0;36m<module>\u001b[1;34m\u001b[0m\n\u001b[0;32m      1\u001b[0m \u001b[1;31m#Alterando elementos de uma lista - Exemplo que retorna erro\u001b[0m\u001b[1;33m\u001b[0m\u001b[1;33m\u001b[0m\u001b[0m\n\u001b[0;32m      2\u001b[0m \u001b[0mlista6\u001b[0m\u001b[1;33m=\u001b[0m\u001b[1;33m[\u001b[0m\u001b[1;34m\"EUA\"\u001b[0m\u001b[1;33m,\u001b[0m \u001b[1;34m\"MÉXICO\"\u001b[0m\u001b[1;33m,\u001b[0m \u001b[1;34m\"CANADÁ\"\u001b[0m\u001b[1;33m,\u001b[0m \u001b[1;34m\"PARAGUAI\"\u001b[0m\u001b[1;33m]\u001b[0m\u001b[1;33m\u001b[0m\u001b[1;33m\u001b[0m\u001b[0m\n\u001b[1;32m----> 3\u001b[1;33m \u001b[0mlista6\u001b[0m\u001b[1;33m[\u001b[0m\u001b[1;36m4\u001b[0m\u001b[1;33m]\u001b[0m\u001b[1;33m=\u001b[0m\u001b[1;34m\"CUBA\"\u001b[0m\u001b[1;33m\u001b[0m\u001b[1;33m\u001b[0m\u001b[0m\n\u001b[0m\u001b[0;32m      4\u001b[0m \u001b[0mprint\u001b[0m\u001b[1;33m(\u001b[0m\u001b[0mlista6\u001b[0m\u001b[1;33m)\u001b[0m\u001b[1;33m\u001b[0m\u001b[1;33m\u001b[0m\u001b[0m\n",
      "\u001b[1;31mIndexError\u001b[0m: list assignment index out of range"
     ]
    }
   ],
   "source": [
    "#Alterando elementos de uma lista - Exemplo que retorna erro\n",
    "lista6=[\"EUA\", \"MÉXICO\", \"CANADÁ\", \"PARAGUAI\"]\n",
    "lista6[4]=\"CUBA\"\n",
    "print(lista6)"
   ]
  },
  {
   "cell_type": "code",
   "execution_count": 25,
   "id": "f6a03547",
   "metadata": {},
   "outputs": [
    {
     "name": "stdout",
     "output_type": "stream",
     "text": [
      "['Python', 'R', 'Scala', 'Julia']\n"
     ]
    }
   ],
   "source": [
    "#Adicionando um elemento a uma lista\n",
    "lista7=[\"Python\", \"R\", \"Scala\"]\n",
    "lista7.append(\"Julia\")\n",
    "print(lista7)"
   ]
  },
  {
   "cell_type": "code",
   "execution_count": 26,
   "id": "d0fb850c",
   "metadata": {
    "scrolled": true
   },
   "outputs": [
    {
     "name": "stdout",
     "output_type": "stream",
     "text": [
      "['Python', 'R', 'Scala', 'Julia', 'SQL', 'Java', 'JavaScript']\n"
     ]
    }
   ],
   "source": [
    "#Adicionando varios elementos a uma lista\n",
    "lista7.extend([\"SQL\", \"Java\", \"JavaScript\"])\n",
    "print(lista7)"
   ]
  },
  {
   "cell_type": "code",
   "execution_count": 27,
   "id": "0f933571",
   "metadata": {},
   "outputs": [
    {
     "name": "stdout",
     "output_type": "stream",
     "text": [
      "['Marina', 'Claudia', 'Joana', 'Maria']\n"
     ]
    }
   ],
   "source": [
    "#Substituindo elementos em uma lista\n",
    "lista8=[\"Marina\", \"Paula\", \"Joana\", \"Maria\"]\n",
    "lista8[1]=\"Claudia\"\n",
    "print(lista8)"
   ]
  },
  {
   "cell_type": "code",
   "execution_count": null,
   "id": "47bfee66",
   "metadata": {},
   "outputs": [],
   "source": [
    "#Substituindo mais de um elemento em uma lista\n",
    "lista8=[\"Marina\", \"Paula\", \"Joana\", \"Maria\"]\n",
    "lista8[1:3]=[\"Lúcia\", \"Mariana\"]\n",
    "print(lista8)"
   ]
  },
  {
   "cell_type": "code",
   "execution_count": null,
   "id": "add1fb91",
   "metadata": {},
   "outputs": [],
   "source": [
    "#Listas de listas\n",
    "lista9=[[45,37,55,41,34],[\"Paulo\",\"Miguel\",\"Anderson\",\"Joaquim\",\"Inácio\"]]\n",
    "print(type(lista9))\n",
    "print(len(lista9))\n",
    "print(lista9[0])\n",
    "print(lista9[1])\n",
    "print(lista9[1][0])"
   ]
  },
  {
   "cell_type": "code",
   "execution_count": null,
   "id": "3a229db7",
   "metadata": {},
   "outputs": [],
   "source": []
  }
 ],
 "metadata": {
  "kernelspec": {
   "display_name": "Python 3 (ipykernel)",
   "language": "python",
   "name": "python3"
  },
  "language_info": {
   "codemirror_mode": {
    "name": "ipython",
    "version": 3
   },
   "file_extension": ".py",
   "mimetype": "text/x-python",
   "name": "python",
   "nbconvert_exporter": "python",
   "pygments_lexer": "ipython3",
   "version": "3.9.7"
  }
 },
 "nbformat": 4,
 "nbformat_minor": 5
}
