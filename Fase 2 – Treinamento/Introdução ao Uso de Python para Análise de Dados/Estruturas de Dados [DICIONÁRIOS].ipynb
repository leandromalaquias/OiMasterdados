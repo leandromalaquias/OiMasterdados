{
 "cells": [
  {
   "cell_type": "code",
   "execution_count": 1,
   "id": "ccfcd4ba",
   "metadata": {},
   "outputs": [
    {
     "data": {
      "text/plain": [
       "dict"
      ]
     },
     "execution_count": 1,
     "metadata": {},
     "output_type": "execute_result"
    }
   ],
   "source": [
    "#Exemplo de um dicionário\n",
    "dic1={\"Marcelo\":45, \"Paulinha\":38, \"Ângela\":34}\n",
    "type(dic1)"
   ]
  },
  {
   "cell_type": "code",
   "execution_count": 2,
   "id": "4a576fb9",
   "metadata": {},
   "outputs": [
    {
     "data": {
      "text/plain": [
       "dict"
      ]
     },
     "execution_count": 2,
     "metadata": {},
     "output_type": "execute_result"
    }
   ],
   "source": [
    "#Exemplo adicional de um dicionário\n",
    "dic2={\"255.313.142-78\": 5500, \"671.414.414-88\": 9876, \"166.765.877-89\": 4100}\n",
    "type(dic2)"
   ]
  },
  {
   "cell_type": "code",
   "execution_count": null,
   "id": "8c22e518",
   "metadata": {},
   "outputs": [],
   "source": [
    "#Acessando as chaves de um dicionário\n",
    "print(dic2.keys())"
   ]
  },
  {
   "cell_type": "code",
   "execution_count": 3,
   "id": "417d9155",
   "metadata": {},
   "outputs": [
    {
     "name": "stdout",
     "output_type": "stream",
     "text": [
      "dict_values([5500, 9876, 4100])\n"
     ]
    }
   ],
   "source": [
    "#Acessando os valores de um dicionário\n",
    "print(dic2.values())"
   ]
  },
  {
   "cell_type": "code",
   "execution_count": 4,
   "id": "5b38178e",
   "metadata": {},
   "outputs": [
    {
     "name": "stdout",
     "output_type": "stream",
     "text": [
      "9876\n"
     ]
    }
   ],
   "source": [
    "#Acessando um dado específico do dicionário\n",
    "print(dic2.get(\"671.414.414-88\"))"
   ]
  },
  {
   "cell_type": "code",
   "execution_count": 5,
   "id": "66b569f3",
   "metadata": {},
   "outputs": [
    {
     "name": "stdout",
     "output_type": "stream",
     "text": [
      "{'255.313.142-78': 5500, '671.414.414-88': 9876, '166.765.877-89': 4100, '111.222.333-44': 10000}\n"
     ]
    }
   ],
   "source": [
    "#Adicionando dados a um dicionário\n",
    "dic2.update({\"111.222.333-44\": 10000})\n",
    "print(dic2)"
   ]
  },
  {
   "cell_type": "code",
   "execution_count": null,
   "id": "5aff5281",
   "metadata": {
    "scrolled": true
   },
   "outputs": [],
   "source": [
    "#Atualizando dados de um dicionário\n",
    "dic2.update({\"255.313.142-78\": 7700})\n",
    "print(dic2)"
   ]
  },
  {
   "cell_type": "code",
   "execution_count": 6,
   "id": "93a51c27",
   "metadata": {},
   "outputs": [
    {
     "name": "stdout",
     "output_type": "stream",
     "text": [
      "{'255.313.142-78': 5500, '671.414.414-88': 9876, '111.222.333-44': 10000}\n"
     ]
    }
   ],
   "source": [
    "#Excluindo dados de um dicionário\n",
    "dic2.pop(\"166.765.877-89\")\n",
    "print(dic2)"
   ]
  },
  {
   "cell_type": "code",
   "execution_count": 7,
   "id": "ffd1950f",
   "metadata": {},
   "outputs": [
    {
     "name": "stdout",
     "output_type": "stream",
     "text": [
      "O tamanho do dicionário é:  3\n"
     ]
    }
   ],
   "source": [
    "#Avaliando o tamanho de um dicionário\n",
    "print(\"O tamanho do dicionário é: \", len(dic2))"
   ]
  },
  {
   "cell_type": "code",
   "execution_count": null,
   "id": "e1fa8d9d",
   "metadata": {},
   "outputs": [],
   "source": []
  }
 ],
 "metadata": {
  "kernelspec": {
   "display_name": "Python 3 (ipykernel)",
   "language": "python",
   "name": "python3"
  },
  "language_info": {
   "codemirror_mode": {
    "name": "ipython",
    "version": 3
   },
   "file_extension": ".py",
   "mimetype": "text/x-python",
   "name": "python",
   "nbconvert_exporter": "python",
   "pygments_lexer": "ipython3",
   "version": "3.9.7"
  }
 },
 "nbformat": 4,
 "nbformat_minor": 5
}
