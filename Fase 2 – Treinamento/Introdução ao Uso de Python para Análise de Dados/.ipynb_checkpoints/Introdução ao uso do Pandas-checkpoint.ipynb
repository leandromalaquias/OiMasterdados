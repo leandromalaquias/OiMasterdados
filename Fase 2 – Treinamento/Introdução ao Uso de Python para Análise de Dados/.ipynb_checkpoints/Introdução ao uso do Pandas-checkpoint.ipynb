{
 "cells": [
  {
   "cell_type": "markdown",
   "id": "67e6cacc",
   "metadata": {},
   "source": [
    "### Exemplo I - Importando o Pandas"
   ]
  },
  {
   "cell_type": "code",
   "execution_count": 1,
   "id": "f89009c8",
   "metadata": {},
   "outputs": [
    {
     "name": "stdout",
     "output_type": "stream",
     "text": [
      "1.2.4\n"
     ]
    }
   ],
   "source": [
    "import pandas as pd\n",
    "print(pd.__version__)\n",
    "pd.options.display.float_format = '{:.3f}'.format"
   ]
  },
  {
   "cell_type": "markdown",
   "id": "298f2090",
   "metadata": {},
   "source": [
    "### Exemplo II - Criando um dataset de exemplo (dados fictícios) usando Pandas"
   ]
  },
  {
   "cell_type": "code",
   "execution_count": 2,
   "id": "d5329699",
   "metadata": {},
   "outputs": [
    {
     "data": {
      "text/html": [
       "<div>\n",
       "<style scoped>\n",
       "    .dataframe tbody tr th:only-of-type {\n",
       "        vertical-align: middle;\n",
       "    }\n",
       "\n",
       "    .dataframe tbody tr th {\n",
       "        vertical-align: top;\n",
       "    }\n",
       "\n",
       "    .dataframe thead th {\n",
       "        text-align: right;\n",
       "    }\n",
       "</style>\n",
       "<table border=\"1\" class=\"dataframe\">\n",
       "  <thead>\n",
       "    <tr style=\"text-align: right;\">\n",
       "      <th></th>\n",
       "      <th>Estado</th>\n",
       "      <th>Populacao</th>\n",
       "    </tr>\n",
       "  </thead>\n",
       "  <tbody>\n",
       "    <tr>\n",
       "      <th>0</th>\n",
       "      <td>SP</td>\n",
       "      <td>46649132</td>\n",
       "    </tr>\n",
       "    <tr>\n",
       "      <th>1</th>\n",
       "      <td>RJ</td>\n",
       "      <td>17463349</td>\n",
       "    </tr>\n",
       "    <tr>\n",
       "      <th>2</th>\n",
       "      <td>ES</td>\n",
       "      <td>4108508</td>\n",
       "    </tr>\n",
       "    <tr>\n",
       "      <th>3</th>\n",
       "      <td>MG</td>\n",
       "      <td>21411923</td>\n",
       "    </tr>\n",
       "    <tr>\n",
       "      <th>4</th>\n",
       "      <td>PR</td>\n",
       "      <td>11597484</td>\n",
       "    </tr>\n",
       "    <tr>\n",
       "      <th>5</th>\n",
       "      <td>RS</td>\n",
       "      <td>11466630</td>\n",
       "    </tr>\n",
       "    <tr>\n",
       "      <th>6</th>\n",
       "      <td>SC</td>\n",
       "      <td>7338473</td>\n",
       "    </tr>\n",
       "  </tbody>\n",
       "</table>\n",
       "</div>"
      ],
      "text/plain": [
       "  Estado  Populacao\n",
       "0     SP   46649132\n",
       "1     RJ   17463349\n",
       "2     ES    4108508\n",
       "3     MG   21411923\n",
       "4     PR   11597484\n",
       "5     RS   11466630\n",
       "6     SC    7338473"
      ]
     },
     "execution_count": 2,
     "metadata": {},
     "output_type": "execute_result"
    }
   ],
   "source": [
    "dados={'Estado':[\"SP\",\"RJ\",\"ES\",\"MG\",\"PR\", \"RS\", \"SC\"],\n",
    "      'Populacao':[46649132,17463349,4108508,21411923,11597484,11466630,7338473]}\n",
    "basepop=pd.DataFrame(dados)\n",
    "basepop"
   ]
  },
  {
   "cell_type": "code",
   "execution_count": 3,
   "id": "c0fe152e",
   "metadata": {},
   "outputs": [
    {
     "data": {
      "text/plain": [
       "pandas.core.frame.DataFrame"
      ]
     },
     "execution_count": 3,
     "metadata": {},
     "output_type": "execute_result"
    }
   ],
   "source": [
    "#Verificando o tipo do objeto criado\n",
    "type(basepop)"
   ]
  },
  {
   "cell_type": "code",
   "execution_count": 4,
   "id": "de2597e2",
   "metadata": {},
   "outputs": [
    {
     "data": {
      "text/html": [
       "<div>\n",
       "<style scoped>\n",
       "    .dataframe tbody tr th:only-of-type {\n",
       "        vertical-align: middle;\n",
       "    }\n",
       "\n",
       "    .dataframe tbody tr th {\n",
       "        vertical-align: top;\n",
       "    }\n",
       "\n",
       "    .dataframe thead th {\n",
       "        text-align: right;\n",
       "    }\n",
       "</style>\n",
       "<table border=\"1\" class=\"dataframe\">\n",
       "  <thead>\n",
       "    <tr style=\"text-align: right;\">\n",
       "      <th></th>\n",
       "      <th>Estado</th>\n",
       "      <th>Populacao</th>\n",
       "    </tr>\n",
       "  </thead>\n",
       "  <tbody>\n",
       "    <tr>\n",
       "      <th>0</th>\n",
       "      <td>SP</td>\n",
       "      <td>46649132</td>\n",
       "    </tr>\n",
       "    <tr>\n",
       "      <th>1</th>\n",
       "      <td>RJ</td>\n",
       "      <td>17463349</td>\n",
       "    </tr>\n",
       "    <tr>\n",
       "      <th>2</th>\n",
       "      <td>ES</td>\n",
       "      <td>4108508</td>\n",
       "    </tr>\n",
       "  </tbody>\n",
       "</table>\n",
       "</div>"
      ],
      "text/plain": [
       "  Estado  Populacao\n",
       "0     SP   46649132\n",
       "1     RJ   17463349\n",
       "2     ES    4108508"
      ]
     },
     "execution_count": 4,
     "metadata": {},
     "output_type": "execute_result"
    }
   ],
   "source": [
    "### Observando as primeiras n linhas da tabela\n",
    "basepop.head(3)"
   ]
  },
  {
   "cell_type": "code",
   "execution_count": 5,
   "id": "20d7eb00",
   "metadata": {},
   "outputs": [
    {
     "data": {
      "text/html": [
       "<div>\n",
       "<style scoped>\n",
       "    .dataframe tbody tr th:only-of-type {\n",
       "        vertical-align: middle;\n",
       "    }\n",
       "\n",
       "    .dataframe tbody tr th {\n",
       "        vertical-align: top;\n",
       "    }\n",
       "\n",
       "    .dataframe thead th {\n",
       "        text-align: right;\n",
       "    }\n",
       "</style>\n",
       "<table border=\"1\" class=\"dataframe\">\n",
       "  <thead>\n",
       "    <tr style=\"text-align: right;\">\n",
       "      <th></th>\n",
       "      <th>Estado</th>\n",
       "      <th>Populacao</th>\n",
       "    </tr>\n",
       "  </thead>\n",
       "  <tbody>\n",
       "    <tr>\n",
       "      <th>4</th>\n",
       "      <td>PR</td>\n",
       "      <td>11597484</td>\n",
       "    </tr>\n",
       "    <tr>\n",
       "      <th>5</th>\n",
       "      <td>RS</td>\n",
       "      <td>11466630</td>\n",
       "    </tr>\n",
       "    <tr>\n",
       "      <th>6</th>\n",
       "      <td>SC</td>\n",
       "      <td>7338473</td>\n",
       "    </tr>\n",
       "  </tbody>\n",
       "</table>\n",
       "</div>"
      ],
      "text/plain": [
       "  Estado  Populacao\n",
       "4     PR   11597484\n",
       "5     RS   11466630\n",
       "6     SC    7338473"
      ]
     },
     "execution_count": 5,
     "metadata": {},
     "output_type": "execute_result"
    }
   ],
   "source": [
    "### Observando as últimas n linhas da tabela\n",
    "basepop.tail(3)"
   ]
  },
  {
   "cell_type": "code",
   "execution_count": 6,
   "id": "77337a59",
   "metadata": {},
   "outputs": [
    {
     "data": {
      "text/plain": [
       "(7, 2)"
      ]
     },
     "execution_count": 6,
     "metadata": {},
     "output_type": "execute_result"
    }
   ],
   "source": [
    "#Trazendo a quantidade de linhas e colunas do dataframe\n",
    "basepop.shape"
   ]
  },
  {
   "cell_type": "markdown",
   "id": "73439f56",
   "metadata": {},
   "source": [
    "### Exemplo III - Criando uma série de dados"
   ]
  },
  {
   "cell_type": "code",
   "execution_count": 7,
   "id": "43738bf4",
   "metadata": {},
   "outputs": [
    {
     "data": {
      "text/plain": [
       "0     1\n",
       "1     2\n",
       "2     4\n",
       "3     8\n",
       "4    16\n",
       "5    32\n",
       "dtype: int64"
      ]
     },
     "execution_count": 7,
     "metadata": {},
     "output_type": "execute_result"
    }
   ],
   "source": [
    "#Gerando a série\n",
    "serie=[1,2,4,8,16,32]\n",
    "minha_serie=pd.Series(serie)\n",
    "minha_serie"
   ]
  },
  {
   "cell_type": "code",
   "execution_count": 8,
   "id": "b41cbf7e",
   "metadata": {},
   "outputs": [
    {
     "data": {
      "text/plain": [
       "a     1\n",
       "b     2\n",
       "c     4\n",
       "d     8\n",
       "e    16\n",
       "f    32\n",
       "dtype: int64"
      ]
     },
     "execution_count": 8,
     "metadata": {},
     "output_type": "execute_result"
    }
   ],
   "source": [
    "#Colocando um rótulo nos valores dos índices da série\n",
    "minha_serie=pd.Series(serie,index=[\"a\",\"b\",\"c\",\"d\",\"e\",\"f\"])\n",
    "minha_serie"
   ]
  },
  {
   "cell_type": "code",
   "execution_count": 9,
   "id": "68363c48",
   "metadata": {},
   "outputs": [
    {
     "name": "stdout",
     "output_type": "stream",
     "text": [
      "dia1    450\n",
      "dia2    398\n",
      "dia3    367\n",
      "dtype: int64\n"
     ]
    }
   ],
   "source": [
    "#Criando uma série simples a partir de um dicionário\n",
    "calorias = {\"dia1\": 450, \"dia2\": 398, \"dia3\": 367}\n",
    "minhas_calorias = pd.Series(calorias)\n",
    "print(minhas_calorias)"
   ]
  },
  {
   "cell_type": "markdown",
   "id": "252bd963",
   "metadata": {},
   "source": [
    "### Exemplo IV - Filtrando dados em um dataframe"
   ]
  },
  {
   "cell_type": "code",
   "execution_count": 10,
   "id": "6b8f6c58",
   "metadata": {},
   "outputs": [
    {
     "data": {
      "text/plain": [
       "0    SP\n",
       "1    RJ\n",
       "2    ES\n",
       "3    MG\n",
       "4    PR\n",
       "5    RS\n",
       "6    SC\n",
       "Name: Estado, dtype: object"
      ]
     },
     "execution_count": 10,
     "metadata": {},
     "output_type": "execute_result"
    }
   ],
   "source": [
    "#Fitrando uma coluna específica\n",
    "basepop[\"Estado\"]"
   ]
  },
  {
   "cell_type": "code",
   "execution_count": 11,
   "id": "f1ae319d",
   "metadata": {},
   "outputs": [
    {
     "data": {
      "text/html": [
       "<div>\n",
       "<style scoped>\n",
       "    .dataframe tbody tr th:only-of-type {\n",
       "        vertical-align: middle;\n",
       "    }\n",
       "\n",
       "    .dataframe tbody tr th {\n",
       "        vertical-align: top;\n",
       "    }\n",
       "\n",
       "    .dataframe thead th {\n",
       "        text-align: right;\n",
       "    }\n",
       "</style>\n",
       "<table border=\"1\" class=\"dataframe\">\n",
       "  <thead>\n",
       "    <tr style=\"text-align: right;\">\n",
       "      <th></th>\n",
       "      <th>Estado</th>\n",
       "      <th>Populacao</th>\n",
       "    </tr>\n",
       "  </thead>\n",
       "  <tbody>\n",
       "    <tr>\n",
       "      <th>0</th>\n",
       "      <td>SP</td>\n",
       "      <td>46649132</td>\n",
       "    </tr>\n",
       "  </tbody>\n",
       "</table>\n",
       "</div>"
      ],
      "text/plain": [
       "  Estado  Populacao\n",
       "0     SP   46649132"
      ]
     },
     "execution_count": 11,
     "metadata": {},
     "output_type": "execute_result"
    }
   ],
   "source": [
    "#Filtrando uma linha específica\n",
    "basepop.loc[[0]]"
   ]
  },
  {
   "cell_type": "code",
   "execution_count": 12,
   "id": "959eac80",
   "metadata": {},
   "outputs": [
    {
     "data": {
      "text/html": [
       "<div>\n",
       "<style scoped>\n",
       "    .dataframe tbody tr th:only-of-type {\n",
       "        vertical-align: middle;\n",
       "    }\n",
       "\n",
       "    .dataframe tbody tr th {\n",
       "        vertical-align: top;\n",
       "    }\n",
       "\n",
       "    .dataframe thead th {\n",
       "        text-align: right;\n",
       "    }\n",
       "</style>\n",
       "<table border=\"1\" class=\"dataframe\">\n",
       "  <thead>\n",
       "    <tr style=\"text-align: right;\">\n",
       "      <th></th>\n",
       "      <th>Estado</th>\n",
       "      <th>Populacao</th>\n",
       "    </tr>\n",
       "  </thead>\n",
       "  <tbody>\n",
       "    <tr>\n",
       "      <th>1</th>\n",
       "      <td>RJ</td>\n",
       "      <td>17463349</td>\n",
       "    </tr>\n",
       "    <tr>\n",
       "      <th>4</th>\n",
       "      <td>PR</td>\n",
       "      <td>11597484</td>\n",
       "    </tr>\n",
       "  </tbody>\n",
       "</table>\n",
       "</div>"
      ],
      "text/plain": [
       "  Estado  Populacao\n",
       "1     RJ   17463349\n",
       "4     PR   11597484"
      ]
     },
     "execution_count": 12,
     "metadata": {},
     "output_type": "execute_result"
    }
   ],
   "source": [
    "#Filtrando mais de uma linha\n",
    "basepop.loc[[1,4]]"
   ]
  },
  {
   "cell_type": "code",
   "execution_count": 13,
   "id": "b6f3f8e4",
   "metadata": {},
   "outputs": [
    {
     "data": {
      "text/html": [
       "<div>\n",
       "<style scoped>\n",
       "    .dataframe tbody tr th:only-of-type {\n",
       "        vertical-align: middle;\n",
       "    }\n",
       "\n",
       "    .dataframe tbody tr th {\n",
       "        vertical-align: top;\n",
       "    }\n",
       "\n",
       "    .dataframe thead th {\n",
       "        text-align: right;\n",
       "    }\n",
       "</style>\n",
       "<table border=\"1\" class=\"dataframe\">\n",
       "  <thead>\n",
       "    <tr style=\"text-align: right;\">\n",
       "      <th></th>\n",
       "      <th>Estado</th>\n",
       "      <th>Populacao</th>\n",
       "    </tr>\n",
       "  </thead>\n",
       "  <tbody>\n",
       "    <tr>\n",
       "      <th>1</th>\n",
       "      <td>RJ</td>\n",
       "      <td>17463349</td>\n",
       "    </tr>\n",
       "    <tr>\n",
       "      <th>2</th>\n",
       "      <td>ES</td>\n",
       "      <td>4108508</td>\n",
       "    </tr>\n",
       "    <tr>\n",
       "      <th>3</th>\n",
       "      <td>MG</td>\n",
       "      <td>21411923</td>\n",
       "    </tr>\n",
       "  </tbody>\n",
       "</table>\n",
       "</div>"
      ],
      "text/plain": [
       "  Estado  Populacao\n",
       "1     RJ   17463349\n",
       "2     ES    4108508\n",
       "3     MG   21411923"
      ]
     },
     "execution_count": 13,
     "metadata": {},
     "output_type": "execute_result"
    }
   ],
   "source": [
    "#Filtrando mais de uma linha de forma sequencial\n",
    "basepop.loc[1:3]"
   ]
  },
  {
   "cell_type": "code",
   "execution_count": 14,
   "id": "a710ba70",
   "metadata": {},
   "outputs": [
    {
     "data": {
      "text/plain": [
       "1    RJ\n",
       "2    ES\n",
       "3    MG\n",
       "Name: Estado, dtype: object"
      ]
     },
     "execution_count": 14,
     "metadata": {},
     "output_type": "execute_result"
    }
   ],
   "source": [
    "#Filtrando mais de uma linha de forma sequencial e de uma coluna específica\n",
    "basepop.loc[1:3, \"Estado\"]"
   ]
  },
  {
   "cell_type": "code",
   "execution_count": 15,
   "id": "333da3da",
   "metadata": {},
   "outputs": [
    {
     "data": {
      "text/html": [
       "<div>\n",
       "<style scoped>\n",
       "    .dataframe tbody tr th:only-of-type {\n",
       "        vertical-align: middle;\n",
       "    }\n",
       "\n",
       "    .dataframe tbody tr th {\n",
       "        vertical-align: top;\n",
       "    }\n",
       "\n",
       "    .dataframe thead th {\n",
       "        text-align: right;\n",
       "    }\n",
       "</style>\n",
       "<table border=\"1\" class=\"dataframe\">\n",
       "  <thead>\n",
       "    <tr style=\"text-align: right;\">\n",
       "      <th></th>\n",
       "      <th>Estado</th>\n",
       "      <th>Populacao</th>\n",
       "    </tr>\n",
       "  </thead>\n",
       "  <tbody>\n",
       "    <tr>\n",
       "      <th>0</th>\n",
       "      <td>SP</td>\n",
       "      <td>46649132</td>\n",
       "    </tr>\n",
       "    <tr>\n",
       "      <th>1</th>\n",
       "      <td>RJ</td>\n",
       "      <td>17463349</td>\n",
       "    </tr>\n",
       "    <tr>\n",
       "      <th>2</th>\n",
       "      <td>ES</td>\n",
       "      <td>4108508</td>\n",
       "    </tr>\n",
       "  </tbody>\n",
       "</table>\n",
       "</div>"
      ],
      "text/plain": [
       "  Estado  Populacao\n",
       "0     SP   46649132\n",
       "1     RJ   17463349\n",
       "2     ES    4108508"
      ]
     },
     "execution_count": 15,
     "metadata": {},
     "output_type": "execute_result"
    }
   ],
   "source": [
    "#Filtrando mais de uma linha de forma sequencial\n",
    "basepop.iloc[0:3,0:2]"
   ]
  },
  {
   "cell_type": "code",
   "execution_count": 16,
   "id": "2102880a",
   "metadata": {},
   "outputs": [
    {
     "data": {
      "text/html": [
       "<div>\n",
       "<style scoped>\n",
       "    .dataframe tbody tr th:only-of-type {\n",
       "        vertical-align: middle;\n",
       "    }\n",
       "\n",
       "    .dataframe tbody tr th {\n",
       "        vertical-align: top;\n",
       "    }\n",
       "\n",
       "    .dataframe thead th {\n",
       "        text-align: right;\n",
       "    }\n",
       "</style>\n",
       "<table border=\"1\" class=\"dataframe\">\n",
       "  <thead>\n",
       "    <tr style=\"text-align: right;\">\n",
       "      <th></th>\n",
       "      <th>Estado</th>\n",
       "      <th>Populacao</th>\n",
       "    </tr>\n",
       "  </thead>\n",
       "  <tbody>\n",
       "    <tr>\n",
       "      <th>0</th>\n",
       "      <td>SP</td>\n",
       "      <td>46649132</td>\n",
       "    </tr>\n",
       "    <tr>\n",
       "      <th>1</th>\n",
       "      <td>RJ</td>\n",
       "      <td>17463349</td>\n",
       "    </tr>\n",
       "    <tr>\n",
       "      <th>2</th>\n",
       "      <td>ES</td>\n",
       "      <td>4108508</td>\n",
       "    </tr>\n",
       "  </tbody>\n",
       "</table>\n",
       "</div>"
      ],
      "text/plain": [
       "  Estado  Populacao\n",
       "0     SP   46649132\n",
       "1     RJ   17463349\n",
       "2     ES    4108508"
      ]
     },
     "execution_count": 16,
     "metadata": {},
     "output_type": "execute_result"
    }
   ],
   "source": [
    "#Filtrando todas as colunas de uma linha olu conjunto de linhas\n",
    "basepop.iloc[0:3,:]"
   ]
  },
  {
   "cell_type": "code",
   "execution_count": 17,
   "id": "07edc2f5",
   "metadata": {},
   "outputs": [
    {
     "data": {
      "text/html": [
       "<div>\n",
       "<style scoped>\n",
       "    .dataframe tbody tr th:only-of-type {\n",
       "        vertical-align: middle;\n",
       "    }\n",
       "\n",
       "    .dataframe tbody tr th {\n",
       "        vertical-align: top;\n",
       "    }\n",
       "\n",
       "    .dataframe thead th {\n",
       "        text-align: right;\n",
       "    }\n",
       "</style>\n",
       "<table border=\"1\" class=\"dataframe\">\n",
       "  <thead>\n",
       "    <tr style=\"text-align: right;\">\n",
       "      <th></th>\n",
       "      <th>Estado</th>\n",
       "    </tr>\n",
       "  </thead>\n",
       "  <tbody>\n",
       "    <tr>\n",
       "      <th>0</th>\n",
       "      <td>SP</td>\n",
       "    </tr>\n",
       "    <tr>\n",
       "      <th>1</th>\n",
       "      <td>RJ</td>\n",
       "    </tr>\n",
       "    <tr>\n",
       "      <th>2</th>\n",
       "      <td>ES</td>\n",
       "    </tr>\n",
       "    <tr>\n",
       "      <th>3</th>\n",
       "      <td>MG</td>\n",
       "    </tr>\n",
       "    <tr>\n",
       "      <th>4</th>\n",
       "      <td>PR</td>\n",
       "    </tr>\n",
       "    <tr>\n",
       "      <th>5</th>\n",
       "      <td>RS</td>\n",
       "    </tr>\n",
       "    <tr>\n",
       "      <th>6</th>\n",
       "      <td>SC</td>\n",
       "    </tr>\n",
       "  </tbody>\n",
       "</table>\n",
       "</div>"
      ],
      "text/plain": [
       "  Estado\n",
       "0     SP\n",
       "1     RJ\n",
       "2     ES\n",
       "3     MG\n",
       "4     PR\n",
       "5     RS\n",
       "6     SC"
      ]
     },
     "execution_count": 17,
     "metadata": {},
     "output_type": "execute_result"
    }
   ],
   "source": [
    "#Filtrando todas as linhas de uma coluna ou grupo de colunas\n",
    "basepop.iloc[:, 0:1]"
   ]
  },
  {
   "cell_type": "code",
   "execution_count": 18,
   "id": "5376fdb7",
   "metadata": {},
   "outputs": [
    {
     "data": {
      "text/html": [
       "<div>\n",
       "<style scoped>\n",
       "    .dataframe tbody tr th:only-of-type {\n",
       "        vertical-align: middle;\n",
       "    }\n",
       "\n",
       "    .dataframe tbody tr th {\n",
       "        vertical-align: top;\n",
       "    }\n",
       "\n",
       "    .dataframe thead th {\n",
       "        text-align: right;\n",
       "    }\n",
       "</style>\n",
       "<table border=\"1\" class=\"dataframe\">\n",
       "  <thead>\n",
       "    <tr style=\"text-align: right;\">\n",
       "      <th></th>\n",
       "      <th>Estado</th>\n",
       "      <th>Populacao</th>\n",
       "    </tr>\n",
       "  </thead>\n",
       "  <tbody>\n",
       "    <tr>\n",
       "      <th>0</th>\n",
       "      <td>SP</td>\n",
       "      <td>46649132</td>\n",
       "    </tr>\n",
       "    <tr>\n",
       "      <th>1</th>\n",
       "      <td>RJ</td>\n",
       "      <td>17463349</td>\n",
       "    </tr>\n",
       "    <tr>\n",
       "      <th>3</th>\n",
       "      <td>MG</td>\n",
       "      <td>21411923</td>\n",
       "    </tr>\n",
       "    <tr>\n",
       "      <th>4</th>\n",
       "      <td>PR</td>\n",
       "      <td>11597484</td>\n",
       "    </tr>\n",
       "    <tr>\n",
       "      <th>5</th>\n",
       "      <td>RS</td>\n",
       "      <td>11466630</td>\n",
       "    </tr>\n",
       "  </tbody>\n",
       "</table>\n",
       "</div>"
      ],
      "text/plain": [
       "  Estado  Populacao\n",
       "0     SP   46649132\n",
       "1     RJ   17463349\n",
       "3     MG   21411923\n",
       "4     PR   11597484\n",
       "5     RS   11466630"
      ]
     },
     "execution_count": 18,
     "metadata": {},
     "output_type": "execute_result"
    }
   ],
   "source": [
    "#Filtrando linhas a partir de uma condição específica\n",
    "basepop.loc[basepop[\"Populacao\"]>10000000]"
   ]
  },
  {
   "cell_type": "code",
   "execution_count": 19,
   "id": "b819e082",
   "metadata": {},
   "outputs": [
    {
     "data": {
      "text/html": [
       "<div>\n",
       "<style scoped>\n",
       "    .dataframe tbody tr th:only-of-type {\n",
       "        vertical-align: middle;\n",
       "    }\n",
       "\n",
       "    .dataframe tbody tr th {\n",
       "        vertical-align: top;\n",
       "    }\n",
       "\n",
       "    .dataframe thead th {\n",
       "        text-align: right;\n",
       "    }\n",
       "</style>\n",
       "<table border=\"1\" class=\"dataframe\">\n",
       "  <thead>\n",
       "    <tr style=\"text-align: right;\">\n",
       "      <th></th>\n",
       "      <th>Estado</th>\n",
       "      <th>Populacao</th>\n",
       "    </tr>\n",
       "  </thead>\n",
       "  <tbody>\n",
       "    <tr>\n",
       "      <th>0</th>\n",
       "      <td>SP</td>\n",
       "      <td>46649132</td>\n",
       "    </tr>\n",
       "  </tbody>\n",
       "</table>\n",
       "</div>"
      ],
      "text/plain": [
       "  Estado  Populacao\n",
       "0     SP   46649132"
      ]
     },
     "execution_count": 19,
     "metadata": {},
     "output_type": "execute_result"
    }
   ],
   "source": [
    "#Filtrando linhas a partir de mais de uma condição específica, em que ambas sejam atendidas(AND)\n",
    "basepop.loc[(basepop[\"Populacao\"]>10000000) & (basepop[\"Estado\"]==\"SP\")]"
   ]
  },
  {
   "cell_type": "code",
   "execution_count": 20,
   "id": "6cba0664",
   "metadata": {},
   "outputs": [
    {
     "data": {
      "text/html": [
       "<div>\n",
       "<style scoped>\n",
       "    .dataframe tbody tr th:only-of-type {\n",
       "        vertical-align: middle;\n",
       "    }\n",
       "\n",
       "    .dataframe tbody tr th {\n",
       "        vertical-align: top;\n",
       "    }\n",
       "\n",
       "    .dataframe thead th {\n",
       "        text-align: right;\n",
       "    }\n",
       "</style>\n",
       "<table border=\"1\" class=\"dataframe\">\n",
       "  <thead>\n",
       "    <tr style=\"text-align: right;\">\n",
       "      <th></th>\n",
       "      <th>Estado</th>\n",
       "      <th>Populacao</th>\n",
       "    </tr>\n",
       "  </thead>\n",
       "  <tbody>\n",
       "    <tr>\n",
       "      <th>0</th>\n",
       "      <td>SP</td>\n",
       "      <td>46649132</td>\n",
       "    </tr>\n",
       "    <tr>\n",
       "      <th>1</th>\n",
       "      <td>RJ</td>\n",
       "      <td>17463349</td>\n",
       "    </tr>\n",
       "    <tr>\n",
       "      <th>3</th>\n",
       "      <td>MG</td>\n",
       "      <td>21411923</td>\n",
       "    </tr>\n",
       "    <tr>\n",
       "      <th>4</th>\n",
       "      <td>PR</td>\n",
       "      <td>11597484</td>\n",
       "    </tr>\n",
       "    <tr>\n",
       "      <th>5</th>\n",
       "      <td>RS</td>\n",
       "      <td>11466630</td>\n",
       "    </tr>\n",
       "  </tbody>\n",
       "</table>\n",
       "</div>"
      ],
      "text/plain": [
       "  Estado  Populacao\n",
       "0     SP   46649132\n",
       "1     RJ   17463349\n",
       "3     MG   21411923\n",
       "4     PR   11597484\n",
       "5     RS   11466630"
      ]
     },
     "execution_count": 20,
     "metadata": {},
     "output_type": "execute_result"
    }
   ],
   "source": [
    "#Filtrando linhas a partir de mais de uma condição específica, em que pelo menos uma seja atendida(OR)\n",
    "basepop.loc[(basepop[\"Populacao\"]>10000000) | (basepop[\"Estado\"]==\"SP\")]"
   ]
  },
  {
   "cell_type": "code",
   "execution_count": 21,
   "id": "46de7545",
   "metadata": {},
   "outputs": [
    {
     "data": {
      "text/html": [
       "<div>\n",
       "<style scoped>\n",
       "    .dataframe tbody tr th:only-of-type {\n",
       "        vertical-align: middle;\n",
       "    }\n",
       "\n",
       "    .dataframe tbody tr th {\n",
       "        vertical-align: top;\n",
       "    }\n",
       "\n",
       "    .dataframe thead th {\n",
       "        text-align: right;\n",
       "    }\n",
       "</style>\n",
       "<table border=\"1\" class=\"dataframe\">\n",
       "  <thead>\n",
       "    <tr style=\"text-align: right;\">\n",
       "      <th></th>\n",
       "      <th>Estado</th>\n",
       "      <th>Populacao</th>\n",
       "    </tr>\n",
       "  </thead>\n",
       "  <tbody>\n",
       "    <tr>\n",
       "      <th>2</th>\n",
       "      <td>ES</td>\n",
       "      <td>4108508</td>\n",
       "    </tr>\n",
       "  </tbody>\n",
       "</table>\n",
       "</div>"
      ],
      "text/plain": [
       "  Estado  Populacao\n",
       "2     ES    4108508"
      ]
     },
     "execution_count": 21,
     "metadata": {},
     "output_type": "execute_result"
    }
   ],
   "source": [
    "#Usando o comando query para filtrar de uma maneira ainda mais simples\n",
    "basepop.query(\"Populacao<10000000 & Estado=='ES'\")"
   ]
  },
  {
   "cell_type": "code",
   "execution_count": 22,
   "id": "6ccd7de7",
   "metadata": {},
   "outputs": [
    {
     "data": {
      "text/html": [
       "<div>\n",
       "<style scoped>\n",
       "    .dataframe tbody tr th:only-of-type {\n",
       "        vertical-align: middle;\n",
       "    }\n",
       "\n",
       "    .dataframe tbody tr th {\n",
       "        vertical-align: top;\n",
       "    }\n",
       "\n",
       "    .dataframe thead th {\n",
       "        text-align: right;\n",
       "    }\n",
       "</style>\n",
       "<table border=\"1\" class=\"dataframe\">\n",
       "  <thead>\n",
       "    <tr style=\"text-align: right;\">\n",
       "      <th></th>\n",
       "      <th>Estado</th>\n",
       "    </tr>\n",
       "  </thead>\n",
       "  <tbody>\n",
       "    <tr>\n",
       "      <th>0</th>\n",
       "      <td>SP</td>\n",
       "    </tr>\n",
       "    <tr>\n",
       "      <th>1</th>\n",
       "      <td>RJ</td>\n",
       "    </tr>\n",
       "    <tr>\n",
       "      <th>2</th>\n",
       "      <td>ES</td>\n",
       "    </tr>\n",
       "    <tr>\n",
       "      <th>3</th>\n",
       "      <td>MG</td>\n",
       "    </tr>\n",
       "    <tr>\n",
       "      <th>4</th>\n",
       "      <td>PR</td>\n",
       "    </tr>\n",
       "    <tr>\n",
       "      <th>5</th>\n",
       "      <td>RS</td>\n",
       "    </tr>\n",
       "    <tr>\n",
       "      <th>6</th>\n",
       "      <td>SC</td>\n",
       "    </tr>\n",
       "  </tbody>\n",
       "</table>\n",
       "</div>"
      ],
      "text/plain": [
       "  Estado\n",
       "0     SP\n",
       "1     RJ\n",
       "2     ES\n",
       "3     MG\n",
       "4     PR\n",
       "5     RS\n",
       "6     SC"
      ]
     },
     "execution_count": 22,
     "metadata": {},
     "output_type": "execute_result"
    }
   ],
   "source": [
    "#Usando o comando filter para selecão de linhas e colunas\n",
    "basepop.filter([\"Estado\"])"
   ]
  },
  {
   "cell_type": "code",
   "execution_count": 23,
   "id": "1ce68d8e",
   "metadata": {},
   "outputs": [
    {
     "data": {
      "text/plain": [
       "17147928.42857143"
      ]
     },
     "execution_count": 23,
     "metadata": {},
     "output_type": "execute_result"
    }
   ],
   "source": [
    "#Extraindo a média de população dos estados\n",
    "mediapop=basepop[\"Populacao\"].mean()\n",
    "mediapop"
   ]
  },
  {
   "cell_type": "code",
   "execution_count": 24,
   "id": "bc3d173a",
   "metadata": {},
   "outputs": [
    {
     "data": {
      "text/html": [
       "<div>\n",
       "<style scoped>\n",
       "    .dataframe tbody tr th:only-of-type {\n",
       "        vertical-align: middle;\n",
       "    }\n",
       "\n",
       "    .dataframe tbody tr th {\n",
       "        vertical-align: top;\n",
       "    }\n",
       "\n",
       "    .dataframe thead th {\n",
       "        text-align: right;\n",
       "    }\n",
       "</style>\n",
       "<table border=\"1\" class=\"dataframe\">\n",
       "  <thead>\n",
       "    <tr style=\"text-align: right;\">\n",
       "      <th></th>\n",
       "      <th>Estado</th>\n",
       "      <th>Populacao</th>\n",
       "    </tr>\n",
       "  </thead>\n",
       "  <tbody>\n",
       "    <tr>\n",
       "      <th>0</th>\n",
       "      <td>SP</td>\n",
       "      <td>46649132</td>\n",
       "    </tr>\n",
       "    <tr>\n",
       "      <th>1</th>\n",
       "      <td>RJ</td>\n",
       "      <td>17463349</td>\n",
       "    </tr>\n",
       "    <tr>\n",
       "      <th>3</th>\n",
       "      <td>MG</td>\n",
       "      <td>21411923</td>\n",
       "    </tr>\n",
       "  </tbody>\n",
       "</table>\n",
       "</div>"
      ],
      "text/plain": [
       "  Estado  Populacao\n",
       "0     SP   46649132\n",
       "1     RJ   17463349\n",
       "3     MG   21411923"
      ]
     },
     "execution_count": 24,
     "metadata": {},
     "output_type": "execute_result"
    }
   ],
   "source": [
    "#Filtrando estados com população acima da média\n",
    "basepop.query(\"Populacao > @ mediapop\")"
   ]
  },
  {
   "cell_type": "code",
   "execution_count": null,
   "id": "9916be77",
   "metadata": {},
   "outputs": [],
   "source": [
    "#Filtrando um conjunto de estados específico\n",
    "basepop[basepop[\"Estado\"].isin([\"SP\", \"RS\", \"PR\"])]"
   ]
  },
  {
   "cell_type": "markdown",
   "id": "91f9addb",
   "metadata": {},
   "source": [
    "### Exemplo V - Importando dados de tabelas externas"
   ]
  },
  {
   "cell_type": "code",
   "execution_count": null,
   "id": "cf76e284",
   "metadata": {},
   "outputs": [],
   "source": [
    "#Importando uma tabela Excel para análise (formato .xlsx)\n",
    "indsocdem=pd.read_excel(\"Indicadores Socio-Demograficos.xlsx\", sheet_name=\"BASE_DADOS\")\n",
    "indsocdem.head(10)"
   ]
  },
  {
   "cell_type": "code",
   "execution_count": null,
   "id": "b85007e3",
   "metadata": {},
   "outputs": [],
   "source": [
    "#Importando um arquivo texto no formato .csv (arquivos texto separados por vírgulas)\n",
    "telco=pd.read_csv(\"Telco Customer Churn.csv\", sep = ',')\n",
    "telco.head()"
   ]
  },
  {
   "cell_type": "code",
   "execution_count": null,
   "id": "930ef2f0",
   "metadata": {},
   "outputs": [],
   "source": [
    "#Importando um arquivo no formato .txt\n",
    "people=pd.read_csv(\"PeopleAnalytics.txt\", sep=\"\\t\", usecols=[\"Attrition\", \"Age\", \"StockOptionLevel\"])\n",
    "people.head()"
   ]
  },
  {
   "cell_type": "markdown",
   "id": "78dfebb5",
   "metadata": {},
   "source": [
    "### Exemplo VI - Descrição básica dos dados"
   ]
  },
  {
   "cell_type": "code",
   "execution_count": null,
   "id": "a679f512",
   "metadata": {},
   "outputs": [],
   "source": [
    "#Análise descritiva básica do dataframe sobre Indicadores Sócio-Demográficos\n",
    "indsocdem.describe().round(3)"
   ]
  },
  {
   "cell_type": "markdown",
   "id": "87fa192c",
   "metadata": {},
   "source": [
    "### Exemplo VII - Alterando nome de colunas"
   ]
  },
  {
   "cell_type": "code",
   "execution_count": null,
   "id": "d907f550",
   "metadata": {},
   "outputs": [],
   "source": [
    "#Gerando um dataframe fake\n",
    "dataframe = pd.DataFrame({\n",
    "    \"Nome\": ['Tonho', 'Nicão', 'Jão', 'Pedrão'],\n",
    "    \"Idade\": [15, 26, 17, 28]\n",
    "})\n",
    "\n",
    "print(dataframe)"
   ]
  },
  {
   "cell_type": "code",
   "execution_count": null,
   "id": "bbd5f4ab",
   "metadata": {
    "scrolled": true
   },
   "outputs": [],
   "source": [
    "#Alterando nomes das colunas - Opção I\n",
    "dataframe.columns = ['Nome_Colega', 'Idade_Anos']\n",
    "print(dataframe)"
   ]
  },
  {
   "cell_type": "code",
   "execution_count": null,
   "id": "c2de43f6",
   "metadata": {},
   "outputs": [],
   "source": [
    "#Alterando nomes das colunas - Opção II\n",
    "dataframe=dataframe.rename(columns={\"Nome_Colega\":\"Friends_Name\", \"Idade_Anos\":\"Age_Years\"})\n",
    "print(dataframe)"
   ]
  },
  {
   "cell_type": "markdown",
   "id": "3b5c3f2a",
   "metadata": {},
   "source": [
    "### Exemplo VIII - Excluindo colunas do dataframe\n"
   ]
  },
  {
   "cell_type": "code",
   "execution_count": null,
   "id": "a0b84534",
   "metadata": {},
   "outputs": [],
   "source": [
    "#Excluindo a coluna \"Age\" do dataframe People\n",
    "print(people)\n",
    "people.drop([\"Age\"],axis=1, inplace=True)\n",
    "print(people)"
   ]
  },
  {
   "cell_type": "markdown",
   "id": "1f6a13d5",
   "metadata": {},
   "source": [
    "### Exemplo IX - Criando novas colunas transformadas"
   ]
  },
  {
   "cell_type": "code",
   "execution_count": null,
   "id": "36cb848f",
   "metadata": {},
   "outputs": [],
   "source": [
    "#Criando um dataset fake\n",
    "base = pd.DataFrame({'Data':['10/2/2021', '11/2/2021', '12/2/2021', '13/2/2021'],\n",
    "                    'Evento':['Música', 'Poesia', 'Teatro', 'Comédia'],\n",
    "                    'Custo':[10000, 5000, 15000, 2000]})\n",
    "print(base)"
   ]
  },
  {
   "cell_type": "code",
   "execution_count": null,
   "id": "07193856",
   "metadata": {},
   "outputs": [],
   "source": [
    "#Calcula preço com desconto de 10% - Opção I\n",
    "base['Custo_com_Desconto'] = base.apply(lambda row: row.Custo - \n",
    "                                  (row.Custo * 0.1), axis = 1)\n",
    "print(base)"
   ]
  },
  {
   "cell_type": "code",
   "execution_count": null,
   "id": "413d7a07",
   "metadata": {},
   "outputs": [],
   "source": [
    "#Calcula preço com desconto de 10% - Opção II\n",
    "base['Custo_com_Desconto_I'] = base['Custo'] - (0.1 * base['Custo'])\n",
    "print(base)"
   ]
  },
  {
   "cell_type": "code",
   "execution_count": null,
   "id": "3f256617",
   "metadata": {},
   "outputs": [],
   "source": [
    "#Categorizando a variável Custo\n",
    "import numpy as np\n",
    "condicoes=[(base[\"Custo\"]<=2500),(base[\"Custo\"]>2500) & (base[\"Custo\"]<=5000),(base[\"Custo\"]>5000)]\n",
    "classe=[\"Baixo\",\"Médio\",\"Alto\"]\n",
    "base['Fx_Custo'] = np.select(condicoes, classe, default=\"Sem Info\")\n",
    "base           "
   ]
  },
  {
   "cell_type": "markdown",
   "id": "2b439528",
   "metadata": {},
   "source": [
    "### Exemplo X - Agrupando dados"
   ]
  },
  {
   "cell_type": "code",
   "execution_count": null,
   "id": "3bdeab39",
   "metadata": {},
   "outputs": [],
   "source": [
    "df = pd.DataFrame({'coluna_I': ['A', 'B', 'C', 'A', 'C',\n",
    "                               'C', 'B', 'D', 'D', 'A'],\n",
    "                   'coluna_II': [5, 10, 15, 20, 25, 30, \n",
    "                             35, 40, 45, 50]})\n",
    "df"
   ]
  },
  {
   "cell_type": "code",
   "execution_count": null,
   "id": "7f19babc",
   "metadata": {},
   "outputs": [],
   "source": [
    "#Agrupando os dados da coluna_I e somando os valores da coluna_II para os valores únicos da coluna_I - Opção I\n",
    "df1=df.groupby('coluna_I')['coluna_II'].sum()\n",
    "df1"
   ]
  },
  {
   "cell_type": "code",
   "execution_count": null,
   "id": "c4590cf3",
   "metadata": {},
   "outputs": [],
   "source": [
    "#Agrupando os dados da coluna_I e somando os valores da coluna_II para os valores únicos da coluna_I - Opção II\n",
    "df.groupby(\"coluna_I\").agg({\"coluna_II\":\"sum\"})"
   ]
  },
  {
   "cell_type": "code",
   "execution_count": null,
   "id": "711c7e83",
   "metadata": {},
   "outputs": [],
   "source": [
    "#Agrupando os dados da coluna_I e somando os valores da coluna_II para os valores únicos da coluna_I - Opção III\n",
    "df.groupby(\"coluna_I\").agg({\"coluna_II\":[\"sum\",\"mean\"]})"
   ]
  },
  {
   "cell_type": "markdown",
   "id": "ccd424f6",
   "metadata": {},
   "source": [
    "### Exemplo XI - Cruzando dados de diferentes dataframes"
   ]
  },
  {
   "cell_type": "code",
   "execution_count": null,
   "id": "25cbd93b",
   "metadata": {},
   "outputs": [],
   "source": [
    "#Criando um dataset fake\n",
    "base_A=pd.DataFrame({\"id\":[1,2,3,4,5,6,7],\"saldo\":[100,200,100,300,400,500,690]})\n",
    "print(base_A)\n",
    "base_B=pd.DataFrame({\"id\":[1,2,5,6,7],\"idade_empresa\":[15,22,11,13,8]})\n",
    "print(base_B)"
   ]
  },
  {
   "cell_type": "code",
   "execution_count": null,
   "id": "7a20d946",
   "metadata": {},
   "outputs": [],
   "source": [
    "#Cruzando dados da tabela A e da B - inner join\n",
    "pd.merge(base_A,base_B,on=\"id\",how=\"inner\")"
   ]
  },
  {
   "cell_type": "code",
   "execution_count": null,
   "id": "2bfc31f9",
   "metadata": {},
   "outputs": [],
   "source": [
    "#Cruzando dados da tabela A e da B - left join\n",
    "pd.merge(base_A,base_B,on=\"id\",how=\"left\")"
   ]
  },
  {
   "cell_type": "code",
   "execution_count": null,
   "id": "d2da2f4e",
   "metadata": {},
   "outputs": [],
   "source": [
    "#Cruzando dados da tabela A e da B - right join\n",
    "pd.merge(base_A,base_B,on=\"id\",how=\"right\")"
   ]
  },
  {
   "cell_type": "code",
   "execution_count": null,
   "id": "469ea00b",
   "metadata": {},
   "outputs": [],
   "source": [
    "#Cruzando dados da tabela A e da B - full join\n",
    "pd.merge(base_A,base_B,on=\"id\",how=\"outer\")"
   ]
  },
  {
   "cell_type": "markdown",
   "id": "084eb9be",
   "metadata": {},
   "source": [
    "### Exemplo XII - Gerando uma amostra aleatória do dataframe"
   ]
  },
  {
   "cell_type": "code",
   "execution_count": null,
   "id": "9f00d71a",
   "metadata": {},
   "outputs": [],
   "source": [
    "#Vendo o dataframe indsocdem\n",
    "indsocdem"
   ]
  },
  {
   "cell_type": "code",
   "execution_count": null,
   "id": "26da57a8",
   "metadata": {},
   "outputs": [],
   "source": [
    "#Extraindo uma amostra de 10 municipios da base original\n",
    "indsocdem.sample(5)"
   ]
  },
  {
   "cell_type": "code",
   "execution_count": null,
   "id": "ef844faa",
   "metadata": {},
   "outputs": [],
   "source": [
    "#Extraindo uma amostra de 0.01% dos municipios da base original\n",
    "indsocdem.sample(frac=0.001)"
   ]
  },
  {
   "cell_type": "code",
   "execution_count": null,
   "id": "f784ba23",
   "metadata": {},
   "outputs": [],
   "source": [
    "#Extraindo uma amostra de 0.01% dos municipios da base original, mas fixando o resultado inicial\n",
    "indsocdem.sample(frac=0.001,random_state=123)"
   ]
  },
  {
   "cell_type": "code",
   "execution_count": null,
   "id": "8b56c014",
   "metadata": {},
   "outputs": [],
   "source": []
  }
 ],
 "metadata": {
  "kernelspec": {
   "display_name": "Python 3",
   "language": "python",
   "name": "python3"
  },
  "language_info": {
   "codemirror_mode": {
    "name": "ipython",
    "version": 3
   },
   "file_extension": ".py",
   "mimetype": "text/x-python",
   "name": "python",
   "nbconvert_exporter": "python",
   "pygments_lexer": "ipython3",
   "version": "3.8.8"
  }
 },
 "nbformat": 4,
 "nbformat_minor": 5
}
